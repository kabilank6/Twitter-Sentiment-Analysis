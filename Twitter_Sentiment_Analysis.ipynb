{
  "nbformat": 4,
  "nbformat_minor": 0,
  "metadata": {
    "colab": {
      "name": "Twitter Sentiment Analysis.ipynb",
      "provenance": [],
      "collapsed_sections": [],
      "authorship_tag": "ABX9TyMnfsdu91mUclVZW1uSQYJT",
      "include_colab_link": true
    },
    "kernelspec": {
      "name": "python3",
      "display_name": "Python 3"
    },
    "language_info": {
      "name": "python"
    }
  },
  "cells": [
    {
      "cell_type": "markdown",
      "metadata": {
        "id": "view-in-github",
        "colab_type": "text"
      },
      "source": [
        "<a href=\"https://colab.research.google.com/github/kabilank6/Twitter-Sentiment-Analysis/blob/fix-zero-divison-error/Twitter_Sentiment_Analysis.ipynb\" target=\"_parent\"><img src=\"https://colab.research.google.com/assets/colab-badge.svg\" alt=\"Open In Colab\"/></a>"
      ]
    },
    {
      "cell_type": "markdown",
      "metadata": {
        "id": "ciOO_mT4s9VF"
      },
      "source": [
        "We first need to ingest the csv file so we can take its information for further processing later on. From inspection, we see that the data is unstructured (that is, not laid out in things like columns - each relevant line/row just represents what is said in a tweet). \n",
        "\n",
        "In my view, the best way to take the data in is then to open the csv, then read the csv (like a text file - fortunately Python has a library called \"csv\" for this purpose), and to append any relevant rows (that is, that has a tweet) to a list which I will call \"tweet_list\". From this, we have everything we need in one place (the list), and we can do whatever analysis we desire after."
      ]
    },
    {
      "cell_type": "code",
      "metadata": {
        "colab": {
          "base_uri": "https://localhost:8080/"
        },
        "id": "XogGPl2ks-NA",
        "outputId": "b207222e-8f82-4326-f884-952e8eef66b1"
      },
      "source": [
        "import csv\n",
        "\n",
        "tweet_list = []\n",
        "\n",
        "# Can replace \"support_tweets.csv\" with desired csv filename. The assumption here\n",
        "# is that the only row that doesn't contain a tweet other than an empty\n",
        "# row is that which contains the string \"tweet_text\", like in the csv provided.\n",
        "\n",
        "\n",
        "with open(\"support_tweets.csv\") as csv_file:\n",
        "    csv_reader = csv.reader(csv_file)\n",
        "    line_count = 0\n",
        "    for row in csv_reader:\n",
        "      item = \"\".join(row)\n",
        "      if item != \"\" and item != \"tweet_text\":\n",
        "        tweet_list.append(item)\n",
        "print(tweet_list)\n",
        "print(len(tweet_list))"
      ],
      "execution_count": 11,
      "outputs": [
        {
          "output_type": "stream",
          "name": "stdout",
          "text": [
            "['@AppleSupport causing the reply to be disregarded and the tapped notification under the keyboard is opened😡😡😡', '@105835 Your business means a lot to us. Please DM your name, zip code and additional details about your concern. ^RR https://t.co/znUu1VJn9r', \"@76328 I really hope you all change but I'm sure you won't! Because you don't have to!\", '@105836 LiveChat is online at the moment - https://t.co/SY94VtU8Kq or contact 03331 031 031 option 1, 4, 3 (Leave a message) to request a call back', \"@VirginTrains see attached error message. I've tried leaving a voicemail several times in the past week https://t.co/NxVZjlYx1k\", '@105836 Have you tried from another device, Miriam ^MM', \"@VirginTrains yep, I've tried laptop too several times over the past week and again today. I've tried different browsers too\", \"@105836 It's working OK from here, Miriam. Does this link help https://t.co/0m2mpH15eh ? ^MM\", \"@VirginTrains I still haven't heard &amp; the number I'm directed to by phone is a dead end &amp; the live chat doesn't work. Can someone call me?\", \"@105836 That's what we're here for Miriam 😊  The team should send you an email shortly ^HP\", '@105837 We can help. Which version of iOS are you on? You can find that in Settings &gt; General &gt; About. Reply in DM. https://t.co/GDrqU22YpT', '@105838 @AppleSupport Me too am suffering , hope the can find a solution', '@AppleSupport hi #apple, I’ve a concern about the latest ios is too slow on #iphone6 and i am not happy with it. Any solution please?', '@105839 Thanks for reaching out to us. We are always happy to help. Send us a DM so we can look into this together. https://t.co/GDrqU22YpT', 'I just updated my phone and suddenly everything takes ages to load wtf @76099 this update sux I hate it fix it bye', \"@105840 Hi there! What device is this happening on? If you could also let us know the Android and Spotify versions you're using, that'd be great /AY\", '@SpotifyCares Thanks! Version 8.4.22.857 armv7 on anker bluetooth speaker on Samsung Galaxy Tab A (2016) Model SM-T280 Does distance from speaker matter?', '@105840 Thanks. The distance could possibly affect playback. Does logging out &gt; restarting your device &gt; logging back in make a difference? /AY', \"@SpotifyCares No, but I've moved speaker to about 1 metre away and it's not skipping at the mo - it was about 3 or 4 metres away before. Fingers crossed!\", \"@105840 That's great to hear. If anything comes up, just let us know. We'll carry on helping out 🙂 /AY\", '@SpotifyCares Brilliant thanks 😊', \"@105840 You're welcome! If there's anything else we can help with, just give us a shout. We're here for you 😉 /CP\", '@76495 @91226 Please help! Spotify Premium skipping through songs constantly on android tablet &amp; bluetooth speaker. Tried everything!', \"@105841 We'd love to help! Please DM us and let us know any steps you've tried since experiencing these behaviors. https://t.co/GDrqU22YpT\", '@AppleSupport after the 11.0.2 my phone just sucks most of the apps are broken, wifi disconnects frequently #apple #ios1102 #painfulupdate', \"@105842 We're sorry your flight has been delayed, Beatner. Are you travelling on the BA8733? If so, the updated departure time we have is 15:30. 1/2\", 'First flight for long time with @British_Airways. Now over one 1h delay for the short jump FRA-LCY and NO one here to provide status updates', \"@105843 Battery life is important, and we're here for you. DM us the iOS version your iPhone is running. We'll go from there. https://t.co/GDrqU22YpT\", 'Okay @76099 I used my fucking phone for 2 minutes and it drains it down 8 fucking percent', '@105844 Thanks for reaching out to us. We are always happy to help. Send us a DM so we can look into this together. https://t.co/GDrqU22YpT', '@AppleSupport Can you get my iPhone 7plus back on the old iOS please?  Battery runs out in half the time, apps now frequently crash.', \"@105844 We'd be happy to help. Send us a DM and we can start there. https://t.co/GDrqU22YpT\", 'You’ve paralysed my phone with your update @76099 grrrrrrrrrr', \"@82476 🤔 We'd like to help Sam, which number is calling you? Please DM us more info so we can advise further. https://t.co/5pyLDJBC6r\", \"@O2 I received this a few weeks ago, since then I've been getting 2/3 calls a day from a telemarketer. Is someone using your name? https://t.co/GLtz4XHcex\", '@105845 I understand this is a frustrating experience, please send a DM with your account information so I can look into this matter for you. -AD', 'My internet is down and xfinity talkin about 24-72 hours... y’all have the game messed up. @77245', '@105676 I understand how you frustrated this situation can be. Please follow us by sending a DM for further assistance. Sprint Cares. -AC', '@76803  I service last 40 min sprint can I get a refund https://t.co/wYPw9hP6wt', \"@105846 We'd like to help. What happens when you try to listen to Apple Music &amp; use WhatsApp? Does the music pause? Let us know in DM. https://t.co/GDrqU22YpT\", 'So the new @76099 update does not let me listen to music and go on whatsapp at the same time?!?', \"@105847 Hi Harry! Help's here. Can you check if logging out &gt; restarting your device &gt; logging back in makes a difference? Keep us posted /MU\", '@SpotifyCares seems to be working at this stage. Will let you know if it happens again. Cheers', \"@105847 Sure thing. We'll keep an eye out for your update /MU\", '@SpotifyCares problem has come back again today. is there some kind of bug?', '@105847 Thanks for giving us a nudge about this. What device, operating system, and Spotify version is this happening on? /AY', \"@SpotifyCares It's on a Macbook Air (early 2014), running High Sierra, spotify version 1.0.65.320.gac7a8e02\", '@105847 Got it. Can you try the steps here for us: https://t.co/EqisDMwZAT? They should help with this. Let us know how it plays out /AY', \"@SpotifyCares i've been having issues with playback. songs have been stopping midway through and won't restart unless i close and reopen app\", \"@105848 Let's take a look. What is the exact iOS you're using? Are you using any specific apps when noticing this? DM us your reply. https://t.co/GDrqU22YpT119290,119291119292\", '@AppleSupport Latest version 😡😡 I have read the help page turned off virtually all apps and location svs too - but in typing this I dropped 3% life', '@AppleSupport Super help - problem solved 😀 once again in love with Apple', '@AppleSupport #ios11update - is still killing my battery within 12 hours - phone is 10 months old - it’s a disgrace - used to get 2 days', '@105849 Thanks for reaching out to us. We are always happy to help. Send us a DM so we can look into this together. https://t.co/GDrqU22YpT', 'Took my phone off charge at 7:20am. 8:03am - 60% battery remaining. @76099 plz I beg you, sort your battery life out😩', \"@105850 Once the points load and you hit the number, you get it immediately! You'll even receive a congrats email. Are you almost there? ^AC\", '@SouthwestAir I am! Thank you for the answer!!', '@southwestair Just curious....will I get the companion pass the exact moment I get enough points? It will I have to wait? Thanks!', \"@105851 We'd like to provide some assistance with this. Tell us more about the issue you're experiencing in DM. We'll go from there. https://t.co/GDrqU22YpT\", '@AppleSupport I need a new code for my I-store. I haven’t recd any but msg is too many sent. Help!', \"@105852 Are you experiencing an issue with your device? If so, DM us with what's going on. We'll see how we can help from there. https://t.co/GDrqU22YpT\", '@76099 @AppleSupport fix this update. It’s horrible', \"@105842 I appreciate it's after 15:30 now, so hopefully you will depart very soon. We're sorry for any inconvenience the delay has caused. 2/2 ^JR\", '@British_Airways Thanks for your answer. Response onsite was that Aircraft will not depart today, so rebooking to @105853 with now 4h delay...', '@105842 Very sorry to hear this.  We hope you get everything sorted.   Kind Regards ^Jools', '@105854 I am sorry for the poor experience. Can you please DM the full service address and name on the account, as we ass... https://t.co/JEZhqGdBMd', \"@Ask_Spectrum It's just in my yard. I've called 4-5 times in 6 weeks. I'm not a customer but it's pretty tempting. I do have some coaxial\", '@76501 I guess this means free cable for the neighborhood. https://t.co/FBgEE9YXPm', \"@105855 Hi Thomas, if a colleague believes the person buying alcohol looks under 25, they will be challenged for ID to prove they're of age. - Paige\", '@Tesco Maybe hire colleagues who can see?', \"@Tesco The point is if it's enforced they do it properly or they don't. Plus take some common-sense and think does that person look over 18?\", '@105855 Hi Thomas, this is correct but this helps our store colleagues judge age and protect them from making underage sales. Amanda', '@Tesco Uk offlicense law is 18. Not 25', \"@105855 Hi Thomas, we operate a Think 25 policy at our stores. I'd be flattered to be ID'd. :-) - Helena\", \"Got id's @Tesco for buying one Adnams Broadside. Is being blind part of the job-spec? I am 35 and 99 kilos.\", '@105856 Hi there, could you try deleting your cache and cookies and reinstalling the app if using it? This should fix the issue :) - Dani', \"@Tesco Will I lose all the shopping I've done if I delete the cache/cookies (not using app)?\", \"@105856 Hi there, as long as you sign out of your account prior to deleting your cache &amp; cookies, you'll still have a full basket :) Thanks - Mike\", '@Tesco Done all that. Still telling me there are no delivery slots whatsoever.', \"@105856 Can you DM me your full name, address and email? I'd be happy to look into this further for you :) Thanks - Mike\", \"Hey @Tesco, your website's broken. It's telling me there are no delivery slots for the next 3 weeks, which I find slightly unlikely.\", '@105857 Is there a particular app that seems to cause these issues more than others? What model iPhone are you using? Join us in DM. https://t.co/GDrqU22YpT', '@AppleSupport I have the latest version iOS. It started immediately after I updated my phone.', \"@105857 We'd like to help if we can. When did this start happening? Which version of iOS are you running currently?\", 'My apps stop working without warning and my phone freezes every five minutes! Love the new update @76099!!!!', '@105858 Hi Agoura, thanks for tweeting. Please refer to this article: https://t.co/BSsgjZARTc &amp; click the link to reply back. ^Rashmi https://t.co/a2xkfCrUG1', '@HPSupport Problem with printhead  Serial# TH536D1HN #hpcswus #hpprnt', '@105859 UPS has a service called My Choice that will allow your packages to be delivered to UPS Store. ^ML  https://t.co/BPZKndqww1 https://t.co/wKJHDXWGRQ', '@105860 I wish Amazon had an option of where I can just get it shipped to the ups store so I can avoid a lot of the struggle', 'They reschedule my shit for tomorrow https://t.co/RsvZcT982t', \"@105861 Hey Sara, sorry to hear of the issues you are having, can I ask if it's the lay out or just the speed of the website responding? TY - Chris\", '@Tesco bit of both - finding the layout cumbersome and when removing an item from faves - getting a huge slowdown. Not keen on the thin green line https://t.co/9281OKEebk', \"@105861 If that doesn't help please DM your full name, address and email including the browser and device so we can log this. Thanks - Lee 2/2\", '@AmazonHelp delivery I paid for today,didn’t arrive.why not?i paid enough for it.where is it??I’m unhappy.refund the delivery charge', \"@115843 You're not lion! She even shows witch way is up! That's quite the wardrobe! ^AC\", '@AmazonHelp Aww your reply made her night!', 'Anna Inspired in idea lab at school to be @115821 package being shipped to Narnia! \"Amazon can go anywhere\" according to Anna. https://t.co/TyvKhuu7su', \"@115844 Oh my! I'm sorry for the troubles! Contact us by Phone or Chat: https://t.co/JzP7hlA23B &amp; we'll be glad to help! ^FR\", \"@AmazonHelp I just said it's been sorted! I've been refunded! I'm just not impressed with the service any more.\", \"@115845 They sent the feckin' order to Germany! Some dozy driver is looking for an address in the wrong country! I'm so done with Amazon!\", '@115844 WHAT IN THE WORLD?!', 'I\\'m NEVER using Amazon again! After waiting in all day as item is \"out for delivery\", they\\'ve only gone and sent it to the WRONG COUNTRY!', \"@115846 That's okay! Thanks for checking! Please contact us by phone or chat and we can look into this: https://t.co/hApLpMlfHN ^BN\", '@115847 @115821 Yeah idk the shipping company and it says “mike Ziemer” signed for it in the mail room at our building lol', '@115846 @115821 Remember my head phones and they brought them within minutes', 'My package from @115821 with my Halloween costume was “delivered” Friday but I don’t have I so searching everywhere for a last minute idea.', \"@115848 I'm sorry for the trouble this has caused you; please contact us so we may lend you a hand: https://t.co/hApLpMlfHN ^WM\", '@115821  https://t.co/Gb0beuA3IN', 'How @115821 packages china https://t.co/fO9vbus18E', \"@115849 Please share your details here:https://t.co/GIJyeYqKE0 and I'll get back to you. 2/2 ^HD\", '@AmazonHelp Details sent. Please check.', '@115849 Thanks for confirming that the details have been shared. Our team will give it a look and reach out shortly. ^AB', '@AmazonHelp Already contacted 3-4 times in the last month. But all I got was assurance that matter is escalated &amp; new status will be provided in 1 day!', \"@115849 Please report this to our support team here: https://t.co/TdDksLo6Mf and we'll look into this. 2/2 ^HD\", \"@115850 @115821 @AmazonHelp @115851 Order# 3632693-6196346. You couldn't deliver EVEN AFTER A MONTH. You should be ashamed of yourself.\", '@115852 We still offer discounts on eligible physical game pre-orders. For further details on Prime benefits: https://t.co/80y2YnlQGJ ^MB', '@AmazonHelp since when you stop giving 20% off videogame pre-orders (amazon prime members) im confused? why?', \"@115853 I'm sorry we let you down! We'd like to make sure this is addressed. Please provide some details here: https://t.co/z6evtFsZI5 ^BN\", 'Just pulled another #Amazon delivery out of the bushes since the #amzl people can’t walk the extra 2 ft to my door. So tired of this.', \"@115854 We're here for you. Which version of the iOS are you running? Check from Settings &gt; General &gt; About.\", '@AppleSupport The newest update. I️ made sure to download it yesterday.', \"@115854 Lets take a closer look into this issue. Select the following link to join us in a DM and we'll go from there. https://t.co/GDrqU22YpT\", '@AppleSupport  https://t.co/NV0yucs0lB', '@AppleSupport why are my I️’s changing not showing up correctly on any of my social media platforms? https://t.co/GyRvpyVnkE', \"@115855 Let's go to DM for the next steps. DM us here: https://t.co/GDrqU22YpT\", '@AppleSupport Tried resetting my settings .. restarting my phone .. all that', '@115855 Any steps tried since it started last night?', '@AppleSupport This is what it looks like https://t.co/XCQU2l4xUB', \"@115855 That's great it has iOS 11.1 as we can rule out being outdated. Any steps tried since this started? Do you recall when it started?\", '@AppleSupport I️ have an iPhone 7 Plus and yes I️ do', \"@115855 We'd like to look into this with you. Which model do you have and is iOS 11.1 installed? Any steps tried so far?\", '@AppleSupport I️ need answers because it’s annoying 🙃', 'Why are my I’s question marks ?', 'What is up with this “ I️ “', \"@115856 Hey, let's work together to figure out what's going on. Meet us in DM and we'll continue from there. https://t.co/GDrqU22YpT\", '@AppleSupport Just sent you all my DM', 'Hey @AppleSupport and anyone else who upgraded to ios11.1, are y’all having issues with capital “I️” in the Mail app? As it puts in “A”?', \"@115857 We'd like to investigate further with you. Send us a DM and we can troubleshoot more from there. https://t.co/GDrqU22YpT\", '@AppleSupport This is what is happening... https://t.co/X3SZSJXfAT', '@115857 Fill us in on what is happening, then we can help out from there.', 'Tf is wrong with my keyboard @115858', \"@115859 We've received your DM and will continue there.\", '@AppleSupport are the call centres closed for the night?', \"@115859 What's going on? We're hapy to help if we can. https://t.co/GDrqU22YpT\", '@115858 @AppleSupport hello are all the lines closed for tonight #help', '@115860 Reach out to us via DM, and we can take a look at this with you. https://t.co/GDrqU22YpT', '@115861 @115862 @AppleSupport I️ upgraded. I️t didn’t work.', '@115862 @AppleSupport I will!', '@AppleSupport @115861 We’re going to need you to share the answers Angela. I️ can’t stand this!', \"@115861 You're in the right place; we'll do all we can to help. To start, let us know what iOS version is installed via DM: https://t.co/GDrqU22YpT\", 'Hello, internet. Can someone explain why this symbol keeps appearing on my phone and when I️ try to type the letter I️? Also @AppleSupport https://t.co/QKwvTLtiN7', \"@115863 Go ahead and send us a DM please. Let us know the country you're in.\", '@AppleSupport I’ve got a screenshot saying my #iPhoneX is reserved for the 3rd then an email saying it’s the 18th... what happened?', \"@115864 We'd like to help, but we'll need more details. What's happening on your device and which model is it? Do you have iOS 11.1?\", '@AppleSupport I have the iPhone 6s Plus and just did the most recent update.', '@115864 To make sure, is iOS 11.1 installed on it currently? Also, any steps tried so far? DM us here: https://t.co/GDrqU22YpT', 'Thank you @AppleSupport I updated my phone and now it is even slower and barely works. Thank you for ruining my phone.😤', '@115865 Thanks! Which iOS version is currently showing in Settings &gt; General &gt; About?', '@AppleSupport iOS 11.0.3', \"@115865 Let's check Settings &gt; General &gt; Software Update. iOS 11.1 was released earlier today. If you see it, please backup &amp; update.\", '@AppleSupport Okey. Thank you! 🤗', \"@115865 Our pleasure. If you're still having issues after a back up and update, contact us back. We're happy to help.\", '@AppleSupport iPhone 7 Plus 😊', '@115865 Hi there! What type of device are we working with?', '@AppleSupport I need the software update urgently. The battery lasts literally half a day 🙍🏼🙁@AppleSupport', '@115865 We offer support via Twitter in English. Get help in Spanish here: https://t.co/IBIY3vMgPj or join https://t.co/OczyRx7IOs', 'Hola @AppleSupport necesito urgente la actualización de software. La batería me dura literal medio día 🙍🏼🙇🏼\\u200d♀️', '@115866 We want to help! DM us and let us know more about the issues you are having. https://t.co/GDrqU22YpT', '@AppleSupport Hi! What is going on? Has Youtube lost it? What can be done about it? Thanks for the support! https://t.co/T8ZZp4IH6t', \"@115867 We'd like to get you speaking to our experts here: https://t.co/IBIY3vMgPj\", '@AppleSupport ? hello', '@AppleSupport my Apple TV works fine with my phone, but when playing videos on Mac air it stutters so much &amp; sound is still on Mac not tv?', \"@115868 We've just released iOS 11.1. We suggest backing up &amp; updating. Then, test the issue again. Here's how: https://t.co/80YRnjDFDk\", '@AppleSupport Yes it did, 11.0.3', '@115868 Let us help with your Home button. Did this issue start right after iOS 11? Which version of iOS 11 are you running?', 'MY HOME BUTTON DOESN’T WORK #IOS11 @AppleSupport', \"@115869 We're here to help. Meet us in DM and we can check on available options. https://t.co/GDrqU22YpT\", 'Hey @115858! Last time I downloaded an update my freaking phone gave me hell. Any recommendations?', \"@115870 DM us the specific iOS version you are running currently and we'll continue there. https://t.co/GDrqU22YpT\", '@AppleSupport I can not find an option to get it there. It was just always there when playing.', '@115870 Just to confirm, this is only happening with Spotify, correct?', '@AppleSupport The app is still there. But no longer able to control it from the lockscreen.', '@115870 Thanks for reaching out to us. Are you experiencing the missing app after restating your device?', 'After update #ios1103 no spotify on my lock screen?@AppleSupport', \"@115871 We want to help you get your battery life back on track. Please DM and we'll look at it together. https://t.co/GDrqU22YpT\", 'I just need @115858 to do something about the battery life because it sucks ass', '@115872 Happy to follow up! Contact us via https://t.co/1xM0TILvAI so we can connect.', '@Uber_Support Already did that was told we requested to dropped off somewhere different which is completely false.', \"@115872 We apologize for the trouble! Send us a DM with your email address and we'll connect.\", '@115873 you need to correct false charges from a trip in Lexington KY on Saturday. I want my $13 back #lyingdriver #theft', \"@115874 We're here to help! Send us a note here, https://t.co/WFtPA6RjWt and our team will be in touch.\", '@115873 my driver just drove me to the department of air travel instead of the airport.......... rufkm', \"@115875 We’re here to help, Travis! Send us a note via https://t.co/dwDjAokZht and we'll be in touch.\", '@Uber_Support I’m not getting your texts. https://t.co/GhefNjQTfg', '@115876 For more info about UberEats availability click here; https://t.co/3A9YFZQFaF', \"@115877 got this threw my door today went to order... sorry we don't deliver to your area! What!!! Why did I get this then! https://t.co/BGzU59vYJS\", '@115878 We have received your DM and will follow up with you there.', \"@Uber_Support @115879 wouldn't do this to me 😔\", \"@Uber_Support Why is there no phone number ?? I'm literally stranded and now I have to wait for an automated reply this is ridiculous\"]\n",
            "199\n"
          ]
        }
      ]
    },
    {
      "cell_type": "markdown",
      "metadata": {
        "id": "UxSsp2yBs5Lt"
      },
      "source": [
        "As outlined in Task One, we want to extract the sentiment of each tweet. Before going into this however, it is worth breaking down what we can expect from each sentence, so we understand how to deal with each sentence. To achieve this, we can look at examples from the csv file we are given.\n",
        "\n",
        "'@AppleSupport causing the reply to be disregarded and the tapped notification under the keyboard is opened😡😡😡' is an example.\n",
        "\n",
        "We can see from this (and cross inspection with other examples) that there are three specific common parts to each tweet. The @ part (for the Twitter handle of someone being mentioned), the message (in this case it's in one sentence, however in others the tweet's message could be covered through at least two sentences). Lastly, in this and several other cases, there often is an emoji included somewhere (in the sentence mentioned above, we can see it is angry). In some tweets, we can see initials of a company representative replying to a query (for example, \"RR\" in \"@105835 Your business means a lot to us. Please DM your name, zip code and additional details about your concern. ^RR https://t.co/znUu1VJn9r\"). Due to the limited time of this task, I will assume that this will be treated as neutral (as we intuitively would want to treat it) by any sentiment analysis library we use.\n",
        "\n",
        "With this in mind, perhaps the only part of the tweet that might be worth giving special treatment to is the emoji. From doing some research, I found [this Stack Overflow post](https://stackoverflow.com/questions/57744725/how-to-convert-emojis-emoticons-to-their-meanings-in-python) that suggested a good way to objectively deal with the emoji is to convert it to a relevant word that describes its sentiment well (our choice of model will handle the rest after with the rest of the text). However, it seems unweldy to copy a lot of code for a few specific emojis, and it would be nice if there was a library that did this for us. Fortunately, [VADER Sentiment Analysis](https://pypi.org/project/vader-sentiment/) seems to be good with dealing with UTF-8 encoded emojis, and social media style sentiment analysis, so it is worth looking into it."
      ]
    },
    {
      "cell_type": "code",
      "metadata": {
        "colab": {
          "base_uri": "https://localhost:8080/"
        },
        "id": "iX6sIKUM1i5y",
        "outputId": "47f1a89a-dace-40fe-984e-14899eb92211"
      },
      "source": [
        "!pip install vaderSentiment"
      ],
      "execution_count": 12,
      "outputs": [
        {
          "output_type": "stream",
          "name": "stdout",
          "text": [
            "Requirement already satisfied: vaderSentiment in /usr/local/lib/python3.7/dist-packages (3.3.2)\n",
            "Requirement already satisfied: requests in /usr/local/lib/python3.7/dist-packages (from vaderSentiment) (2.23.0)\n",
            "Requirement already satisfied: certifi>=2017.4.17 in /usr/local/lib/python3.7/dist-packages (from requests->vaderSentiment) (2021.5.30)\n",
            "Requirement already satisfied: urllib3!=1.25.0,!=1.25.1,<1.26,>=1.21.1 in /usr/local/lib/python3.7/dist-packages (from requests->vaderSentiment) (1.24.3)\n",
            "Requirement already satisfied: idna<3,>=2.5 in /usr/local/lib/python3.7/dist-packages (from requests->vaderSentiment) (2.10)\n",
            "Requirement already satisfied: chardet<4,>=3.0.2 in /usr/local/lib/python3.7/dist-packages (from requests->vaderSentiment) (3.0.4)\n"
          ]
        }
      ]
    },
    {
      "cell_type": "code",
      "metadata": {
        "colab": {
          "base_uri": "https://localhost:8080/"
        },
        "id": "A3TUE6Xsw_8j",
        "outputId": "fc719f3f-3321-406d-ef49-45e95635bc40"
      },
      "source": [
        "from vaderSentiment.vaderSentiment import SentimentIntensityAnalyzer\n",
        "analyzer = SentimentIntensityAnalyzer()\n",
        "for sentence in tweet_list:\n",
        "    vs = analyzer.polarity_scores(sentence)\n",
        "    print(\"{:-<65} {}\".format(sentence, str(vs)))"
      ],
      "execution_count": 13,
      "outputs": [
        {
          "output_type": "stream",
          "name": "stdout",
          "text": [
            "@AppleSupport causing the reply to be disregarded and the tapped notification under the keyboard is opened😡😡😡 {'neg': 0.11, 'neu': 0.89, 'pos': 0.0, 'compound': -0.3818}\n",
            "@105835 Your business means a lot to us. Please DM your name, zip code and additional details about your concern. ^RR https://t.co/znUu1VJn9r {'neg': 0.0, 'neu': 0.901, 'pos': 0.099, 'compound': 0.3182}\n",
            "@76328 I really hope you all change but I'm sure you won't! Because you don't have to! {'neg': 0.0, 'neu': 0.727, 'pos': 0.273, 'compound': 0.6839}\n",
            "@105836 LiveChat is online at the moment - https://t.co/SY94VtU8Kq or contact 03331 031 031 option 1, 4, 3 (Leave a message) to request a call back {'neg': 0.046, 'neu': 0.954, 'pos': 0.0, 'compound': -0.0516}\n",
            "@VirginTrains see attached error message. I've tried leaving a voicemail several times in the past week https://t.co/NxVZjlYx1k {'neg': 0.144, 'neu': 0.856, 'pos': 0.0, 'compound': -0.4019}\n",
            "@105836 Have you tried from another device, Miriam ^MM----------- {'neg': 0.0, 'neu': 1.0, 'pos': 0.0, 'compound': 0.0}\n",
            "@VirginTrains yep, I've tried laptop too several times over the past week and again today. I've tried different browsers too {'neg': 0.0, 'neu': 0.896, 'pos': 0.104, 'compound': 0.296}\n",
            "@105836 It's working OK from here, Miriam. Does this link help https://t.co/0m2mpH15eh ? ^MM {'neg': 0.0, 'neu': 0.681, 'pos': 0.319, 'compound': 0.6841}\n",
            "@VirginTrains I still haven't heard &amp; the number I'm directed to by phone is a dead end &amp; the live chat doesn't work. Can someone call me? {'neg': 0.141, 'neu': 0.817, 'pos': 0.042, 'compound': -0.6124}\n",
            "@105836 That's what we're here for Miriam 😊  The team should send you an email shortly ^HP {'neg': 0.0, 'neu': 0.76, 'pos': 0.24, 'compound': 0.7184}\n",
            "@105837 We can help. Which version of iOS are you on? You can find that in Settings &gt; General &gt; About. Reply in DM. https://t.co/GDrqU22YpT {'neg': 0.0, 'neu': 0.899, 'pos': 0.101, 'compound': 0.4019}\n",
            "@105838 @AppleSupport Me too am suffering , hope the can find a solution {'neg': 0.169, 'neu': 0.546, 'pos': 0.284, 'compound': 0.2732}\n",
            "@AppleSupport hi #apple, I’ve a concern about the latest ios is too slow on #iphone6 and i am not happy with it. Any solution please? {'neg': 0.101, 'neu': 0.743, 'pos': 0.155, 'compound': 0.1536}\n",
            "@105839 Thanks for reaching out to us. We are always happy to help. Send us a DM so we can look into this together. https://t.co/GDrqU22YpT {'neg': 0.0, 'neu': 0.654, 'pos': 0.346, 'compound': 0.8779}\n",
            "I just updated my phone and suddenly everything takes ages to load wtf @76099 this update sux I hate it fix it bye {'neg': 0.333, 'neu': 0.667, 'pos': 0.0, 'compound': -0.875}\n",
            "@105840 Hi there! What device is this happening on? If you could also let us know the Android and Spotify versions you're using, that'd be great /AY {'neg': 0.0, 'neu': 0.855, 'pos': 0.145, 'compound': 0.6588}\n",
            "@SpotifyCares Thanks! Version 8.4.22.857 armv7 on anker bluetooth speaker on Samsung Galaxy Tab A (2016) Model SM-T280 Does distance from speaker matter? {'neg': 0.0, 'neu': 0.823, 'pos': 0.177, 'compound': 0.5093}\n",
            "@105840 Thanks. The distance could possibly affect playback. Does logging out &gt; restarting your device &gt; logging back in make a difference? /AY {'neg': 0.0, 'neu': 0.884, 'pos': 0.116, 'compound': 0.4404}\n",
            "@SpotifyCares No, but I've moved speaker to about 1 metre away and it's not skipping at the mo - it was about 3 or 4 metres away before. Fingers crossed! {'neg': 0.0, 'neu': 1.0, 'pos': 0.0, 'compound': 0.0}\n",
            "@105840 That's great to hear. If anything comes up, just let us know. We'll carry on helping out 🙂 /AY {'neg': 0.0, 'neu': 0.678, 'pos': 0.322, 'compound': 0.8405}\n",
            "@SpotifyCares Brilliant thanks 😊--------------------------------- {'neg': 0.0, 'neu': 0.24, 'pos': 0.76, 'compound': 0.9136}\n",
            "@105840 You're welcome! If there's anything else we can help with, just give us a shout. We're here for you 😉 /CP {'neg': 0.0, 'neu': 0.778, 'pos': 0.222, 'compound': 0.7177}\n",
            "@76495 @91226 Please help! Spotify Premium skipping through songs constantly on android tablet &amp; bluetooth speaker. Tried everything! {'neg': 0.0, 'neu': 0.741, 'pos': 0.259, 'compound': 0.6792}\n",
            "@105841 We'd love to help! Please DM us and let us know any steps you've tried since experiencing these behaviors. https://t.co/GDrqU22YpT {'neg': 0.0, 'neu': 0.655, 'pos': 0.345, 'compound': 0.8588}\n",
            "@AppleSupport after the 11.0.2 my phone just sucks most of the apps are broken, wifi disconnects frequently #apple #ios1102 #painfulupdate {'neg': 0.237, 'neu': 0.763, 'pos': 0.0, 'compound': -0.6808}\n",
            "@105842 We're sorry your flight has been delayed, Beatner. Are you travelling on the BA8733? If so, the updated departure time we have is 15:30. 1/2 {'neg': 0.118, 'neu': 0.882, 'pos': 0.0, 'compound': -0.296}\n",
            "First flight for long time with @British_Airways. Now over one 1h delay for the short jump FRA-LCY and NO one here to provide status updates {'neg': 0.185, 'neu': 0.815, 'pos': 0.0, 'compound': -0.6408}\n",
            "@105843 Battery life is important, and we're here for you. DM us the iOS version your iPhone is running. We'll go from there. https://t.co/GDrqU22YpT {'neg': 0.0, 'neu': 0.927, 'pos': 0.073, 'compound': 0.2023}\n",
            "Okay @76099 I used my fucking phone for 2 minutes and it drains it down 8 fucking percent {'neg': 0.0, 'neu': 0.899, 'pos': 0.101, 'compound': 0.2263}\n",
            "@105844 Thanks for reaching out to us. We are always happy to help. Send us a DM so we can look into this together. https://t.co/GDrqU22YpT {'neg': 0.0, 'neu': 0.654, 'pos': 0.346, 'compound': 0.8779}\n",
            "@AppleSupport Can you get my iPhone 7plus back on the old iOS please?  Battery runs out in half the time, apps now frequently crash. {'neg': 0.1, 'neu': 0.815, 'pos': 0.085, 'compound': -0.1027}\n",
            "@105844 We'd be happy to help. Send us a DM and we can start there. https://t.co/GDrqU22YpT {'neg': 0.0, 'neu': 0.686, 'pos': 0.314, 'compound': 0.7506}\n",
            "You’ve paralysed my phone with your update @76099 grrrrrrrrrr---- {'neg': 0.0, 'neu': 1.0, 'pos': 0.0, 'compound': 0.0}\n",
            "@82476 🤔 We'd like to help Sam, which number is calling you? Please DM us more info so we can advise further. https://t.co/5pyLDJBC6r {'neg': 0.0, 'neu': 0.694, 'pos': 0.306, 'compound': 0.7783}\n",
            "@O2 I received this a few weeks ago, since then I've been getting 2/3 calls a day from a telemarketer. Is someone using your name? https://t.co/GLtz4XHcex {'neg': 0.0, 'neu': 1.0, 'pos': 0.0, 'compound': 0.0}\n",
            "@105845 I understand this is a frustrating experience, please send a DM with your account information so I can look into this matter for you. -AD {'neg': 0.099, 'neu': 0.784, 'pos': 0.117, 'compound': -0.1217}\n",
            "My internet is down and xfinity talkin about 24-72 hours... y’all have the game messed up. @77245 {'neg': 0.13, 'neu': 0.87, 'pos': 0.0, 'compound': -0.34}\n",
            "@105676 I understand how you frustrated this situation can be. Please follow us by sending a DM for further assistance. Sprint Cares. -AC {'neg': 0.118, 'neu': 0.697, 'pos': 0.185, 'compound': 0.2263}\n",
            "@76803  I service last 40 min sprint can I get a refund https://t.co/wYPw9hP6wt {'neg': 0.0, 'neu': 1.0, 'pos': 0.0, 'compound': 0.0}\n",
            "@105846 We'd like to help. What happens when you try to listen to Apple Music &amp; use WhatsApp? Does the music pause? Let us know in DM. https://t.co/GDrqU22YpT {'neg': 0.0, 'neu': 0.824, 'pos': 0.176, 'compound': 0.6767}\n",
            "So the new @76099 update does not let me listen to music and go on whatsapp at the same time?!? {'neg': 0.0, 'neu': 1.0, 'pos': 0.0, 'compound': 0.0}\n",
            "@105847 Hi Harry! Help's here. Can you check if logging out &gt; restarting your device &gt; logging back in makes a difference? Keep us posted /MU {'neg': 0.0, 'neu': 1.0, 'pos': 0.0, 'compound': 0.0}\n",
            "@SpotifyCares seems to be working at this stage. Will let you know if it happens again. Cheers {'neg': 0.0, 'neu': 0.838, 'pos': 0.162, 'compound': 0.4767}\n",
            "@105847 Sure thing. We'll keep an eye out for your update /MU---- {'neg': 0.0, 'neu': 0.827, 'pos': 0.173, 'compound': 0.3182}\n",
            "@SpotifyCares problem has come back again today. is there some kind of bug? {'neg': 0.184, 'neu': 0.816, 'pos': 0.0, 'compound': -0.4019}\n",
            "@105847 Thanks for giving us a nudge about this. What device, operating system, and Spotify version is this happening on? /AY {'neg': 0.0, 'neu': 0.782, 'pos': 0.218, 'compound': 0.6486}\n",
            "@SpotifyCares It's on a Macbook Air (early 2014), running High Sierra, spotify version 1.0.65.320.gac7a8e02 {'neg': 0.0, 'neu': 1.0, 'pos': 0.0, 'compound': 0.0}\n",
            "@105847 Got it. Can you try the steps here for us: https://t.co/EqisDMwZAT? They should help with this. Let us know how it plays out /AY {'neg': 0.0, 'neu': 0.83, 'pos': 0.17, 'compound': 0.5719}\n",
            "@SpotifyCares i've been having issues with playback. songs have been stopping midway through and won't restart unless i close and reopen app {'neg': 0.071, 'neu': 0.929, 'pos': 0.0, 'compound': -0.1531}\n",
            "@105848 Let's take a look. What is the exact iOS you're using? Are you using any specific apps when noticing this? DM us your reply. https://t.co/GDrqU22YpT119290,119291119292 {'neg': 0.0, 'neu': 1.0, 'pos': 0.0, 'compound': 0.0}\n",
            "@AppleSupport Latest version 😡😡 I have read the help page turned off virtually all apps and location svs too - but in typing this I dropped 3% life {'neg': 0.0, 'neu': 0.942, 'pos': 0.058, 'compound': 0.2144}\n",
            "@AppleSupport Super help - problem solved 😀 once again in love with Apple {'neg': 0.103, 'neu': 0.307, 'pos': 0.59, 'compound': 0.9136}\n",
            "@AppleSupport #ios11update - is still killing my battery within 12 hours - phone is 10 months old - it’s a disgrace - used to get 2 days {'neg': 0.233, 'neu': 0.767, 'pos': 0.0, 'compound': -0.8225}\n",
            "@105849 Thanks for reaching out to us. We are always happy to help. Send us a DM so we can look into this together. https://t.co/GDrqU22YpT {'neg': 0.0, 'neu': 0.654, 'pos': 0.346, 'compound': 0.8779}\n",
            "Took my phone off charge at 7:20am. 8:03am - 60% battery remaining. @76099 plz I beg you, sort your battery life out😩 {'neg': 0.083, 'neu': 0.866, 'pos': 0.051, 'compound': -0.2023}\n",
            "@105850 Once the points load and you hit the number, you get it immediately! You'll even receive a congrats email. Are you almost there? ^AC {'neg': 0.0, 'neu': 0.822, 'pos': 0.178, 'compound': 0.6114}\n",
            "@SouthwestAir I am! Thank you for the answer!!------------------- {'neg': 0.0, 'neu': 0.675, 'pos': 0.325, 'compound': 0.5229}\n",
            "@southwestair Just curious....will I get the companion pass the exact moment I get enough points? It will I have to wait? Thanks! {'neg': 0.0, 'neu': 0.855, 'pos': 0.145, 'compound': 0.5502}\n",
            "@105851 We'd like to provide some assistance with this. Tell us more about the issue you're experiencing in DM. We'll go from there. https://t.co/GDrqU22YpT {'neg': 0.0, 'neu': 0.902, 'pos': 0.098, 'compound': 0.3612}\n",
            "@AppleSupport I need a new code for my I-store. I haven’t recd any but msg is too many sent. Help! {'neg': 0.0, 'neu': 0.832, 'pos': 0.168, 'compound': 0.5916}\n",
            "@105852 Are you experiencing an issue with your device? If so, DM us with what's going on. We'll see how we can help from there. https://t.co/GDrqU22YpT {'neg': 0.0, 'neu': 0.903, 'pos': 0.097, 'compound': 0.4019}\n",
            "@76099 @AppleSupport fix this update. It’s horrible-------------- {'neg': 0.368, 'neu': 0.632, 'pos': 0.0, 'compound': -0.5423}\n",
            "@105842 I appreciate it's after 15:30 now, so hopefully you will depart very soon. We're sorry for any inconvenience the delay has caused. 2/2 ^JR {'neg': 0.195, 'neu': 0.614, 'pos': 0.19, 'compound': 0.209}\n",
            "@British_Airways Thanks for your answer. Response onsite was that Aircraft will not depart today, so rebooking to @105853 with now 4h delay... {'neg': 0.091, 'neu': 0.794, 'pos': 0.115, 'compound': 0.1531}\n",
            "@105842 Very sorry to hear this.  We hope you get everything sorted.   Kind Regards ^Jools {'neg': 0.08, 'neu': 0.603, 'pos': 0.317, 'compound': 0.6915}\n",
            "@105854 I am sorry for the poor experience. Can you please DM the full service address and name on the account, as we ass... https://t.co/JEZhqGdBMd {'neg': 0.253, 'neu': 0.673, 'pos': 0.074, 'compound': -0.6808}\n",
            "@Ask_Spectrum It's just in my yard. I've called 4-5 times in 6 weeks. I'm not a customer but it's pretty tempting. I do have some coaxial {'neg': 0.0, 'neu': 0.853, 'pos': 0.147, 'compound': 0.6486}\n",
            "@76501 I guess this means free cable for the neighborhood. https://t.co/FBgEE9YXPm {'neg': 0.0, 'neu': 0.752, 'pos': 0.248, 'compound': 0.5106}\n",
            "@105855 Hi Thomas, if a colleague believes the person buying alcohol looks under 25, they will be challenged for ID to prove they're of age. - Paige {'neg': 0.051, 'neu': 0.949, 'pos': 0.0, 'compound': -0.1027}\n",
            "@Tesco Maybe hire colleagues who can see?------------------------ {'neg': 0.0, 'neu': 1.0, 'pos': 0.0, 'compound': 0.0}\n",
            "@Tesco The point is if it's enforced they do it properly or they don't. Plus take some common-sense and think does that person look over 18? {'neg': 0.0, 'neu': 1.0, 'pos': 0.0, 'compound': 0.0}\n",
            "@105855 Hi Thomas, this is correct but this helps our store colleagues judge age and protect them from making underage sales. Amanda {'neg': 0.0, 'neu': 0.73, 'pos': 0.27, 'compound': 0.8126}\n",
            "@Tesco Uk offlicense law is 18. Not 25--------------------------- {'neg': 0.0, 'neu': 1.0, 'pos': 0.0, 'compound': 0.0}\n",
            "@105855 Hi Thomas, we operate a Think 25 policy at our stores. I'd be flattered to be ID'd. :-) - Helena {'neg': 0.0, 'neu': 0.795, 'pos': 0.205, 'compound': 0.5994}\n",
            "Got id's @Tesco for buying one Adnams Broadside. Is being blind part of the job-spec? I am 35 and 99 kilos. {'neg': 0.119, 'neu': 0.881, 'pos': 0.0, 'compound': -0.4019}\n",
            "@105856 Hi there, could you try deleting your cache and cookies and reinstalling the app if using it? This should fix the issue :) - Dani {'neg': 0.0, 'neu': 0.893, 'pos': 0.107, 'compound': 0.4588}\n",
            "@Tesco Will I lose all the shopping I've done if I delete the cache/cookies (not using app)? {'neg': 0.144, 'neu': 0.856, 'pos': 0.0, 'compound': -0.4019}\n",
            "@105856 Hi there, as long as you sign out of your account prior to deleting your cache &amp; cookies, you'll still have a full basket :) Thanks - Mike {'neg': 0.0, 'neu': 0.821, 'pos': 0.179, 'compound': 0.7096}\n",
            "@Tesco Done all that. Still telling me there are no delivery slots whatsoever. {'neg': 0.155, 'neu': 0.845, 'pos': 0.0, 'compound': -0.296}\n",
            "@105856 Can you DM me your full name, address and email? I'd be happy to look into this further for you :) Thanks - Mike {'neg': 0.0, 'neu': 0.696, 'pos': 0.304, 'compound': 0.8625}\n",
            "Hey @Tesco, your website's broken. It's telling me there are no delivery slots for the next 3 weeks, which I find slightly unlikely. {'neg': 0.202, 'neu': 0.798, 'pos': 0.0, 'compound': -0.6486}\n",
            "@105857 Is there a particular app that seems to cause these issues more than others? What model iPhone are you using? Join us in DM. https://t.co/GDrqU22YpT {'neg': 0.0, 'neu': 0.907, 'pos': 0.093, 'compound': 0.3736}\n",
            "@AppleSupport I have the latest version iOS. It started immediately after I updated my phone. {'neg': 0.0, 'neu': 1.0, 'pos': 0.0, 'compound': 0.0}\n",
            "@105857 We'd like to help if we can. When did this start happening? Which version of iOS are you running currently? {'neg': 0.0, 'neu': 0.774, 'pos': 0.226, 'compound': 0.6767}\n",
            "My apps stop working without warning and my phone freezes every five minutes! Love the new update @76099!!!! {'neg': 0.134, 'neu': 0.567, 'pos': 0.3, 'compound': 0.7273}\n",
            "@105858 Hi Agoura, thanks for tweeting. Please refer to this article: https://t.co/BSsgjZARTc &amp; click the link to reply back. ^Rashmi https://t.co/a2xkfCrUG1 {'neg': 0.0, 'neu': 0.785, 'pos': 0.215, 'compound': 0.6369}\n",
            "@HPSupport Problem with printhead  Serial# TH536D1HN #hpcswus #hpprnt {'neg': 0.278, 'neu': 0.722, 'pos': 0.0, 'compound': -0.4019}\n",
            "@105859 UPS has a service called My Choice that will allow your packages to be delivered to UPS Store. ^ML  https://t.co/BPZKndqww1 https://t.co/wKJHDXWGRQ {'neg': 0.0, 'neu': 0.917, 'pos': 0.083, 'compound': 0.2263}\n",
            "@105860 I wish Amazon had an option of where I can just get it shipped to the ups store so I can avoid a lot of the struggle {'neg': 0.144, 'neu': 0.724, 'pos': 0.133, 'compound': -0.0935}\n",
            "They reschedule my shit for tomorrow https://t.co/RsvZcT982t----- {'neg': 0.375, 'neu': 0.625, 'pos': 0.0, 'compound': -0.5574}\n",
            "@105861 Hey Sara, sorry to hear of the issues you are having, can I ask if it's the lay out or just the speed of the website responding? TY - Chris {'neg': 0.039, 'neu': 0.862, 'pos': 0.099, 'compound': 0.4648}\n",
            "@Tesco bit of both - finding the layout cumbersome and when removing an item from faves - getting a huge slowdown. Not keen on the thin green line https://t.co/9281OKEebk {'neg': 0.067, 'neu': 0.86, 'pos': 0.073, 'compound': 0.049}\n",
            "@105861 If that doesn't help please DM your full name, address and email including the browser and device so we can log this. Thanks - Lee 2/2 {'neg': 0.134, 'neu': 0.76, 'pos': 0.107, 'compound': 0.04}\n",
            "@AmazonHelp delivery I paid for today,didn’t arrive.why not?i paid enough for it.where is it??I’m unhappy.refund the delivery charge {'neg': 0.0, 'neu': 1.0, 'pos': 0.0, 'compound': 0.0}\n",
            "@115843 You're not lion! She even shows witch way is up! That's quite the wardrobe! ^AC {'neg': 0.184, 'neu': 0.816, 'pos': 0.0, 'compound': -0.5229}\n",
            "@AmazonHelp Aww your reply made her night!----------------------- {'neg': 0.0, 'neu': 1.0, 'pos': 0.0, 'compound': 0.0}\n",
            "Anna Inspired in idea lab at school to be @115821 package being shipped to Narnia! \"Amazon can go anywhere\" according to Anna. https://t.co/TyvKhuu7su {'neg': 0.0, 'neu': 0.802, 'pos': 0.198, 'compound': 0.636}\n",
            "@115844 Oh my! I'm sorry for the troubles! Contact us by Phone or Chat: https://t.co/JzP7hlA23B &amp; we'll be glad to help! ^FR {'neg': 0.149, 'neu': 0.623, 'pos': 0.228, 'compound': 0.5067}\n",
            "@AmazonHelp I just said it's been sorted! I've been refunded! I'm just not impressed with the service any more. {'neg': 0.148, 'neu': 0.852, 'pos': 0.0, 'compound': -0.4833}\n",
            "@115845 They sent the feckin' order to Germany! Some dozy driver is looking for an address in the wrong country! I'm so done with Amazon! {'neg': 0.137, 'neu': 0.795, 'pos': 0.068, 'compound': -0.4611}\n",
            "@115844 WHAT IN THE WORLD?!-------------------------------------- {'neg': 0.0, 'neu': 1.0, 'pos': 0.0, 'compound': 0.0}\n",
            "I'm NEVER using Amazon again! After waiting in all day as item is \"out for delivery\", they've only gone and sent it to the WRONG COUNTRY! {'neg': 0.198, 'neu': 0.802, 'pos': 0.0, 'compound': -0.7127}\n",
            "@115846 That's okay! Thanks for checking! Please contact us by phone or chat and we can look into this: https://t.co/hApLpMlfHN ^BN {'neg': 0.0, 'neu': 0.701, 'pos': 0.299, 'compound': 0.7707}\n",
            "@115847 @115821 Yeah idk the shipping company and it says “mike Ziemer” signed for it in the mail room at our building lol {'neg': 0.053, 'neu': 0.758, 'pos': 0.189, 'compound': 0.5574}\n",
            "@115846 @115821 Remember my head phones and they brought them within minutes {'neg': 0.0, 'neu': 1.0, 'pos': 0.0, 'compound': 0.0}\n",
            "My package from @115821 with my Halloween costume was “delivered” Friday but I don’t have I so searching everywhere for a last minute idea. {'neg': 0.0, 'neu': 1.0, 'pos': 0.0, 'compound': 0.0}\n",
            "@115848 I'm sorry for the trouble this has caused you; please contact us so we may lend you a hand: https://t.co/hApLpMlfHN ^WM {'neg': 0.145, 'neu': 0.655, 'pos': 0.2, 'compound': 0.3612}\n",
            "@115821  https://t.co/Gb0beuA3IN--------------------------------- {'neg': 0.0, 'neu': 1.0, 'pos': 0.0, 'compound': 0.0}\n",
            "How @115821 packages china https://t.co/fO9vbus18E--------------- {'neg': 0.0, 'neu': 1.0, 'pos': 0.0, 'compound': 0.0}\n",
            "@115849 Please share your details here:https://t.co/GIJyeYqKE0 and I'll get back to you. 2/2 ^HD {'neg': 0.0, 'neu': 0.727, 'pos': 0.273, 'compound': 0.5423}\n",
            "@AmazonHelp Details sent. Please check.-------------------------- {'neg': 0.0, 'neu': 0.635, 'pos': 0.365, 'compound': 0.3182}\n",
            "@115849 Thanks for confirming that the details have been shared. Our team will give it a look and reach out shortly. ^AB {'neg': 0.0, 'neu': 0.748, 'pos': 0.252, 'compound': 0.6597}\n",
            "@AmazonHelp Already contacted 3-4 times in the last month. But all I got was assurance that matter is escalated &amp; new status will be provided in 1 day! {'neg': 0.0, 'neu': 0.851, 'pos': 0.149, 'compound': 0.5487}\n",
            "@115849 Please report this to our support team here: https://t.co/TdDksLo6Mf and we'll look into this. 2/2 ^HD {'neg': 0.0, 'neu': 0.75, 'pos': 0.25, 'compound': 0.6124}\n",
            "@115850 @115821 @AmazonHelp @115851 Order# 3632693-6196346. You couldn't deliver EVEN AFTER A MONTH. You should be ashamed of yourself. {'neg': 0.147, 'neu': 0.853, 'pos': 0.0, 'compound': -0.4767}\n",
            "@115852 We still offer discounts on eligible physical game pre-orders. For further details on Prime benefits: https://t.co/80y2YnlQGJ ^MB {'neg': 0.0, 'neu': 0.867, 'pos': 0.133, 'compound': 0.3818}\n",
            "@AmazonHelp since when you stop giving 20% off videogame pre-orders (amazon prime members) im confused? why? {'neg': 0.232, 'neu': 0.573, 'pos': 0.196, 'compound': -0.1926}\n",
            "@115853 I'm sorry we let you down! We'd like to make sure this is addressed. Please provide some details here: https://t.co/z6evtFsZI5 ^BN {'neg': 0.049, 'neu': 0.674, 'pos': 0.277, 'compound': 0.7263}\n",
            "Just pulled another #Amazon delivery out of the bushes since the #amzl people can’t walk the extra 2 ft to my door. So tired of this. {'neg': 0.127, 'neu': 0.815, 'pos': 0.058, 'compound': -0.4663}\n",
            "@115854 We're here for you. Which version of the iOS are you running? Check from Settings &gt; General &gt; About. {'neg': 0.0, 'neu': 1.0, 'pos': 0.0, 'compound': 0.0}\n",
            "@AppleSupport The newest update. I️ made sure to download it yesterday. {'neg': 0.0, 'neu': 0.813, 'pos': 0.187, 'compound': 0.3182}\n",
            "@115854 Lets take a closer look into this issue. Select the following link to join us in a DM and we'll go from there. https://t.co/GDrqU22YpT {'neg': 0.0, 'neu': 0.916, 'pos': 0.084, 'compound': 0.296}\n",
            "@AppleSupport  https://t.co/NV0yucs0lB--------------------------- {'neg': 0.0, 'neu': 1.0, 'pos': 0.0, 'compound': 0.0}\n",
            "@AppleSupport why are my I️’s changing not showing up correctly on any of my social media platforms? https://t.co/GyRvpyVnkE {'neg': 0.0, 'neu': 1.0, 'pos': 0.0, 'compound': 0.0}\n",
            "@115855 Let's go to DM for the next steps. DM us here: https://t.co/GDrqU22YpT {'neg': 0.0, 'neu': 1.0, 'pos': 0.0, 'compound': 0.0}\n",
            "@AppleSupport Tried resetting my settings .. restarting my phone .. all that {'neg': 0.0, 'neu': 1.0, 'pos': 0.0, 'compound': 0.0}\n",
            "@115855 Any steps tried since it started last night?------------- {'neg': 0.0, 'neu': 1.0, 'pos': 0.0, 'compound': 0.0}\n",
            "@AppleSupport This is what it looks like https://t.co/XCQU2l4xUB- {'neg': 0.0, 'neu': 0.737, 'pos': 0.263, 'compound': 0.3612}\n",
            "@115855 That's great it has iOS 11.1 as we can rule out being outdated. Any steps tried since this started? Do you recall when it started? {'neg': 0.0, 'neu': 0.849, 'pos': 0.151, 'compound': 0.6662}\n",
            "@AppleSupport I️ have an iPhone 7 Plus and yes I️ do------------- {'neg': 0.0, 'neu': 0.787, 'pos': 0.213, 'compound': 0.4019}\n",
            "@115855 We'd like to look into this with you. Which model do you have and is iOS 11.1 installed? Any steps tried so far? {'neg': 0.0, 'neu': 0.889, 'pos': 0.111, 'compound': 0.4329}\n",
            "@AppleSupport I️ need answers because it’s annoying 🙃------------ {'neg': 0.252, 'neu': 0.748, 'pos': 0.0, 'compound': -0.4019}\n",
            "Why are my I’s question marks ?---------------------------------- {'neg': 0.0, 'neu': 1.0, 'pos': 0.0, 'compound': 0.0}\n",
            "What is up with this “ I️ “-------------------------------------- {'neg': 0.0, 'neu': 1.0, 'pos': 0.0, 'compound': 0.0}\n",
            "@115856 Hey, let's work together to figure out what's going on. Meet us in DM and we'll continue from there. https://t.co/GDrqU22YpT {'neg': 0.0, 'neu': 1.0, 'pos': 0.0, 'compound': 0.0}\n",
            "@AppleSupport Just sent you all my DM---------------------------- {'neg': 0.0, 'neu': 1.0, 'pos': 0.0, 'compound': 0.0}\n",
            "Hey @AppleSupport and anyone else who upgraded to ios11.1, are y’all having issues with capital “I️” in the Mail app? As it puts in “A”? {'neg': 0.0, 'neu': 1.0, 'pos': 0.0, 'compound': 0.0}\n",
            "@115857 We'd like to investigate further with you. Send us a DM and we can troubleshoot more from there. https://t.co/GDrqU22YpT {'neg': 0.0, 'neu': 0.807, 'pos': 0.193, 'compound': 0.5106}\n",
            "@AppleSupport This is what is happening... https://t.co/X3SZSJXfAT {'neg': 0.0, 'neu': 1.0, 'pos': 0.0, 'compound': 0.0}\n",
            "@115857 Fill us in on what is happening, then we can help out from there. {'neg': 0.0, 'neu': 0.838, 'pos': 0.162, 'compound': 0.4019}\n",
            "Tf is wrong with my keyboard @115858----------------------------- {'neg': 0.341, 'neu': 0.659, 'pos': 0.0, 'compound': -0.4767}\n",
            "@115859 We've received your DM and will continue there.---------- {'neg': 0.0, 'neu': 1.0, 'pos': 0.0, 'compound': 0.0}\n",
            "@AppleSupport are the call centres closed for the night?--------- {'neg': 0.0, 'neu': 1.0, 'pos': 0.0, 'compound': 0.0}\n",
            "@115859 What's going on? We're hapy to help if we can. https://t.co/GDrqU22YpT {'neg': 0.0, 'neu': 0.803, 'pos': 0.197, 'compound': 0.4019}\n",
            "@115858 @AppleSupport hello are all the lines closed for tonight #help {'neg': 0.0, 'neu': 0.787, 'pos': 0.213, 'compound': 0.4019}\n",
            "@115860 Reach out to us via DM, and we can take a look at this with you. https://t.co/GDrqU22YpT {'neg': 0.0, 'neu': 0.939, 'pos': 0.061, 'compound': 0.0258}\n",
            "@115861 @115862 @AppleSupport I️ upgraded. I️t didn’t work.------ {'neg': 0.0, 'neu': 1.0, 'pos': 0.0, 'compound': 0.0}\n",
            "@115862 @AppleSupport I will!------------------------------------ {'neg': 0.0, 'neu': 1.0, 'pos': 0.0, 'compound': 0.0}\n",
            "@AppleSupport @115861 We’re going to need you to share the answers Angela. I️ can’t stand this! {'neg': 0.0, 'neu': 0.858, 'pos': 0.142, 'compound': 0.3595}\n",
            "@115861 You're in the right place; we'll do all we can to help. To start, let us know what iOS version is installed via DM: https://t.co/GDrqU22YpT {'neg': 0.0, 'neu': 0.903, 'pos': 0.097, 'compound': 0.4019}\n",
            "Hello, internet. Can someone explain why this symbol keeps appearing on my phone and when I️ try to type the letter I️? Also @AppleSupport https://t.co/QKwvTLtiN7 {'neg': 0.0, 'neu': 1.0, 'pos': 0.0, 'compound': 0.0}\n",
            "@115863 Go ahead and send us a DM please. Let us know the country you're in. {'neg': 0.0, 'neu': 0.867, 'pos': 0.133, 'compound': 0.3182}\n",
            "@AppleSupport I’ve got a screenshot saying my #iPhoneX is reserved for the 3rd then an email saying it’s the 18th... what happened? {'neg': 0.0, 'neu': 1.0, 'pos': 0.0, 'compound': 0.0}\n",
            "@115864 We'd like to help, but we'll need more details. What's happening on your device and which model is it? Do you have iOS 11.1? {'neg': 0.0, 'neu': 0.853, 'pos': 0.147, 'compound': 0.4515}\n",
            "@AppleSupport I have the iPhone 6s Plus and just did the most recent update. {'neg': 0.0, 'neu': 1.0, 'pos': 0.0, 'compound': 0.0}\n",
            "@115864 To make sure, is iOS 11.1 installed on it currently? Also, any steps tried so far? DM us here: https://t.co/GDrqU22YpT {'neg': 0.0, 'neu': 0.883, 'pos': 0.117, 'compound': 0.3939}\n",
            "Thank you @AppleSupport I updated my phone and now it is even slower and barely works. Thank you for ruining my phone.😤 {'neg': 0.065, 'neu': 0.781, 'pos': 0.154, 'compound': 0.4062}\n",
            "@115865 Thanks! Which iOS version is currently showing in Settings &gt; General &gt; About? {'neg': 0.0, 'neu': 0.803, 'pos': 0.197, 'compound': 0.4926}\n",
            "@AppleSupport iOS 11.0.3----------------------------------------- {'neg': 0.0, 'neu': 1.0, 'pos': 0.0, 'compound': 0.0}\n",
            "@115865 Let's check Settings &gt; General &gt; Software Update. iOS 11.1 was released earlier today. If you see it, please backup &amp; update. {'neg': 0.0, 'neu': 0.905, 'pos': 0.095, 'compound': 0.3182}\n",
            "@AppleSupport Okey. Thank you! 🤗--------------------------------- {'neg': 0.0, 'neu': 0.417, 'pos': 0.583, 'compound': 0.68}\n",
            "@115865 Our pleasure. If you're still having issues after a back up and update, contact us back. We're happy to help. {'neg': 0.0, 'neu': 0.641, 'pos': 0.359, 'compound': 0.8779}\n",
            "@AppleSupport iPhone 7 Plus 😊------------------------------------ {'neg': 0.0, 'neu': 0.538, 'pos': 0.462, 'compound': 0.7184}\n",
            "@115865 Hi there! What type of device are we working with?------- {'neg': 0.0, 'neu': 1.0, 'pos': 0.0, 'compound': 0.0}\n",
            "@AppleSupport I need the software update urgently. The battery lasts literally half a day 🙍🏼🙁@AppleSupport {'neg': 0.184, 'neu': 0.816, 'pos': 0.0, 'compound': -0.5434}\n",
            "@115865 We offer support via Twitter in English. Get help in Spanish here: https://t.co/IBIY3vMgPj or join https://t.co/OczyRx7IOs {'neg': 0.0, 'neu': 0.648, 'pos': 0.352, 'compound': 0.765}\n",
            "Hola @AppleSupport necesito urgente la actualización de software. La batería me dura literal medio día 🙍🏼🙇🏼‍♀️ {'neg': 0.085, 'neu': 0.915, 'pos': 0.0, 'compound': -0.34}\n",
            "@115866 We want to help! DM us and let us know more about the issues you are having. https://t.co/GDrqU22YpT {'neg': 0.0, 'neu': 0.798, 'pos': 0.202, 'compound': 0.5093}\n",
            "@AppleSupport Hi! What is going on? Has Youtube lost it? What can be done about it? Thanks for the support! https://t.co/T8ZZp4IH6t {'neg': 0.085, 'neu': 0.666, 'pos': 0.249, 'compound': 0.6623}\n",
            "@115867 We'd like to get you speaking to our experts here: https://t.co/IBIY3vMgPj {'neg': 0.0, 'neu': 0.815, 'pos': 0.185, 'compound': 0.3612}\n",
            "@AppleSupport ? hello-------------------------------------------- {'neg': 0.0, 'neu': 1.0, 'pos': 0.0, 'compound': 0.0}\n",
            "@AppleSupport my Apple TV works fine with my phone, but when playing videos on Mac air it stutters so much &amp; sound is still on Mac not tv? {'neg': 0.08, 'neu': 0.804, 'pos': 0.116, 'compound': 0.0258}\n",
            "@115868 We've just released iOS 11.1. We suggest backing up &amp; updating. Then, test the issue again. Here's how: https://t.co/80YRnjDFDk {'neg': 0.0, 'neu': 0.945, 'pos': 0.055, 'compound': 0.0258}\n",
            "@AppleSupport Yes it did, 11.0.3--------------------------------- {'neg': 0.0, 'neu': 0.597, 'pos': 0.403, 'compound': 0.4019}\n",
            "@115868 Let us help with your Home button. Did this issue start right after iOS 11? Which version of iOS 11 are you running? {'neg': 0.0, 'neu': 0.883, 'pos': 0.117, 'compound': 0.4696}\n",
            "MY HOME BUTTON DOESN’T WORK #IOS11 @AppleSupport----------------- {'neg': 0.0, 'neu': 1.0, 'pos': 0.0, 'compound': 0.0}\n",
            "@115869 We're here to help. Meet us in DM and we can check on available options. https://t.co/GDrqU22YpT {'neg': 0.0, 'neu': 0.856, 'pos': 0.144, 'compound': 0.4019}\n",
            "Hey @115858! Last time I downloaded an update my freaking phone gave me hell. Any recommendations? {'neg': 0.355, 'neu': 0.645, 'pos': 0.0, 'compound': -0.8268}\n",
            "@115870 DM us the specific iOS version you are running currently and we'll continue there. https://t.co/GDrqU22YpT {'neg': 0.0, 'neu': 1.0, 'pos': 0.0, 'compound': 0.0}\n",
            "@AppleSupport I can not find an option to get it there. It was just always there when playing. {'neg': 0.0, 'neu': 0.904, 'pos': 0.096, 'compound': 0.2023}\n",
            "@115870 Just to confirm, this is only happening with Spotify, correct? {'neg': 0.0, 'neu': 1.0, 'pos': 0.0, 'compound': 0.0}\n",
            "@AppleSupport The app is still there. But no longer able to control it from the lockscreen. {'neg': 0.157, 'neu': 0.843, 'pos': 0.0, 'compound': -0.4215}\n",
            "@115870 Thanks for reaching out to us. Are you experiencing the missing app after restating your device? {'neg': 0.105, 'neu': 0.67, 'pos': 0.225, 'compound': 0.3612}\n",
            "After update #ios1103 no spotify on my lock screen?@AppleSupport- {'neg': 0.216, 'neu': 0.784, 'pos': 0.0, 'compound': -0.296}\n",
            "@115871 We want to help you get your battery life back on track. Please DM and we'll look at it together. https://t.co/GDrqU22YpT {'neg': 0.0, 'neu': 0.751, 'pos': 0.249, 'compound': 0.6486}\n",
            "I just need @115858 to do something about the battery life because it sucks ass {'neg': 0.316, 'neu': 0.684, 'pos': 0.0, 'compound': -0.7184}\n",
            "@115872 Happy to follow up! Contact us via https://t.co/1xM0TILvAI so we can connect. {'neg': 0.0, 'neu': 0.75, 'pos': 0.25, 'compound': 0.6114}\n",
            "@Uber_Support Already did that was told we requested to dropped off somewhere different which is completely false. {'neg': 0.0, 'neu': 1.0, 'pos': 0.0, 'compound': 0.0}\n",
            "@115872 We apologize for the trouble! Send us a DM with your email address and we'll connect. {'neg': 0.154, 'neu': 0.774, 'pos': 0.072, 'compound': -0.3802}\n",
            "@115873 you need to correct false charges from a trip in Lexington KY on Saturday. I want my $13 back #lyingdriver #theft {'neg': 0.09, 'neu': 0.855, 'pos': 0.056, 'compound': -0.2023}\n",
            "@115874 We're here to help! Send us a note here, https://t.co/WFtPA6RjWt and our team will be in touch. {'neg': 0.0, 'neu': 0.85, 'pos': 0.15, 'compound': 0.4574}\n",
            "@115873 my driver just drove me to the department of air travel instead of the airport.......... rufkm {'neg': 0.0, 'neu': 1.0, 'pos': 0.0, 'compound': 0.0}\n",
            "@115875 We’re here to help, Travis! Send us a note via https://t.co/dwDjAokZht and we'll be in touch. {'neg': 0.0, 'neu': 0.842, 'pos': 0.158, 'compound': 0.4574}\n",
            "@Uber_Support I’m not getting your texts. https://t.co/GhefNjQTfg {'neg': 0.0, 'neu': 1.0, 'pos': 0.0, 'compound': 0.0}\n",
            "@115876 For more info about UberEats availability click here; https://t.co/3A9YFZQFaF {'neg': 0.0, 'neu': 1.0, 'pos': 0.0, 'compound': 0.0}\n",
            "@115877 got this threw my door today went to order... sorry we don't deliver to your area! What!!! Why did I get this then! https://t.co/BGzU59vYJS {'neg': 0.093, 'neu': 0.907, 'pos': 0.0, 'compound': -0.3544}\n",
            "@115878 We have received your DM and will follow up with you there. {'neg': 0.0, 'neu': 1.0, 'pos': 0.0, 'compound': 0.0}\n",
            "@Uber_Support @115879 wouldn't do this to me 😔------------------- {'neg': 0.0, 'neu': 0.86, 'pos': 0.14, 'compound': 0.0772}\n",
            "@Uber_Support Why is there no phone number ?? I'm literally stranded and now I have to wait for an automated reply this is ridiculous {'neg': 0.23, 'neu': 0.77, 'pos': 0.0, 'compound': -0.6465}\n"
          ]
        }
      ]
    },
    {
      "cell_type": "markdown",
      "metadata": {
        "id": "6SsFZvzL7a8t"
      },
      "source": [
        "From reading the VaderSentiment documentation, for our purposes (classifying sentiment for each whole tweet), we can assess each tweet's compound score (the 'compound' field in the SentimentIntensityAnalyzer). Due to time constraints, I will use this as a proxy for our sentiment classification.\n",
        "\n",
        "Based off the documentation, a compound score of at least 0.05 is positive, less than this but over -0.05 is neutral, and less than or equal to -0.05 is negative.\n",
        "\n",
        "With this in mind, I will classify each tweet as such, and subsequently create a pie chart that visualises the proportion of tweets that are considered as positive, neutral and negative."
      ]
    },
    {
      "cell_type": "code",
      "metadata": {
        "colab": {
          "base_uri": "https://localhost:8080/",
          "height": 264
        },
        "id": "_Qx1KHbo82PZ",
        "outputId": "aabc4045-2cf6-4e98-b099-def3c0d60ae1"
      },
      "source": [
        "sentiment_dictionary = {\"positive\": 0, \"neutral\": 0, \"negative\": 0}\n",
        "\n",
        "for sentence in tweet_list:\n",
        "    vs = analyzer.polarity_scores(sentence)\n",
        "    compound = vs[\"compound\"]\n",
        "    if compound >= 0.05:\n",
        "      sentiment_dictionary[\"positive\"] += 1\n",
        "    elif compound > -0.05:\n",
        "      sentiment_dictionary[\"neutral\"] += 1\n",
        "    else:\n",
        "      sentiment_dictionary[\"negative\"] += 1\n",
        "\n",
        "import matplotlib.pyplot as plt\n",
        "import numpy as np\n",
        "\n",
        "plot_labels = []\n",
        "quantities = []\n",
        "for item in sentiment_dictionary:\n",
        "  plot_labels.append(item)\n",
        "  quantity = sentiment_dictionary[item]\n",
        "  quantities.append(quantity)\n",
        "quantities = np.array(quantities)\n",
        "colours = [\"#99ff99\",\"#66b3ff\", \"#ff9999\"]\n",
        "plt.pie(quantities, labels = plot_labels, colors=colours, autopct=\"%1.1f%%\")\n",
        "plt.title('Sentiment of Tweets Displayed')\n",
        "plt.show() "
      ],
      "execution_count": 14,
      "outputs": [
        {
          "output_type": "display_data",
          "data": {
            "image/png": "[encoded data removed]",
            "text/plain": [
              "<Figure size 432x288 with 1 Axes>"
            ]
          },
          "metadata": {}
        }
      ]
    },
    {
      "cell_type": "markdown",
      "metadata": {
        "id": "3BesasdPAI6m"
      },
      "source": [
        "It seems that a slight majority of all our tweets (in the initial dataset at least) are considered as positive by the model. This is interesting, and perhaps we want to investigate how trustworthy these results are. In my view, this would be achieved by inspecting results that are classified as 'positive' individually."
      ]
    },
    {
      "cell_type": "code",
      "metadata": {
        "colab": {
          "base_uri": "https://localhost:8080/"
        },
        "id": "MV2U9KxzCy9a",
        "outputId": "fbf658dc-79e3-455d-ab31-55058bf1d862"
      },
      "source": [
        "for sentence in tweet_list:\n",
        "    vs = analyzer.polarity_scores(sentence)\n",
        "    compound = vs[\"compound\"]\n",
        "    if compound >= 0.05:\n",
        "      print(\"\\'{}\\' has a compound of {}!\".format(sentence, compound))"
      ],
      "execution_count": 15,
      "outputs": [
        {
          "output_type": "stream",
          "name": "stdout",
          "text": [
            "'@105835 Your business means a lot to us. Please DM your name, zip code and additional details about your concern. ^RR https://t.co/znUu1VJn9r' has a compound of 0.3182!\n",
            "'@76328 I really hope you all change but I'm sure you won't! Because you don't have to!' has a compound of 0.6839!\n",
            "'@VirginTrains yep, I've tried laptop too several times over the past week and again today. I've tried different browsers too' has a compound of 0.296!\n",
            "'@105836 It's working OK from here, Miriam. Does this link help https://t.co/0m2mpH15eh ? ^MM' has a compound of 0.6841!\n",
            "'@105836 That's what we're here for Miriam 😊  The team should send you an email shortly ^HP' has a compound of 0.7184!\n",
            "'@105837 We can help. Which version of iOS are you on? You can find that in Settings &gt; General &gt; About. Reply in DM. https://t.co/GDrqU22YpT' has a compound of 0.4019!\n",
            "'@105838 @AppleSupport Me too am suffering , hope the can find a solution' has a compound of 0.2732!\n",
            "'@AppleSupport hi #apple, I’ve a concern about the latest ios is too slow on #iphone6 and i am not happy with it. Any solution please?' has a compound of 0.1536!\n",
            "'@105839 Thanks for reaching out to us. We are always happy to help. Send us a DM so we can look into this together. https://t.co/GDrqU22YpT' has a compound of 0.8779!\n",
            "'@105840 Hi there! What device is this happening on? If you could also let us know the Android and Spotify versions you're using, that'd be great /AY' has a compound of 0.6588!\n",
            "'@SpotifyCares Thanks! Version 8.4.22.857 armv7 on anker bluetooth speaker on Samsung Galaxy Tab A (2016) Model SM-T280 Does distance from speaker matter?' has a compound of 0.5093!\n",
            "'@105840 Thanks. The distance could possibly affect playback. Does logging out &gt; restarting your device &gt; logging back in make a difference? /AY' has a compound of 0.4404!\n",
            "'@105840 That's great to hear. If anything comes up, just let us know. We'll carry on helping out 🙂 /AY' has a compound of 0.8405!\n",
            "'@SpotifyCares Brilliant thanks 😊' has a compound of 0.9136!\n",
            "'@105840 You're welcome! If there's anything else we can help with, just give us a shout. We're here for you 😉 /CP' has a compound of 0.7177!\n",
            "'@76495 @91226 Please help! Spotify Premium skipping through songs constantly on android tablet &amp; bluetooth speaker. Tried everything!' has a compound of 0.6792!\n",
            "'@105841 We'd love to help! Please DM us and let us know any steps you've tried since experiencing these behaviors. https://t.co/GDrqU22YpT' has a compound of 0.8588!\n",
            "'@105843 Battery life is important, and we're here for you. DM us the iOS version your iPhone is running. We'll go from there. https://t.co/GDrqU22YpT' has a compound of 0.2023!\n",
            "'Okay @76099 I used my fucking phone for 2 minutes and it drains it down 8 fucking percent' has a compound of 0.2263!\n",
            "'@105844 Thanks for reaching out to us. We are always happy to help. Send us a DM so we can look into this together. https://t.co/GDrqU22YpT' has a compound of 0.8779!\n",
            "'@105844 We'd be happy to help. Send us a DM and we can start there. https://t.co/GDrqU22YpT' has a compound of 0.7506!\n",
            "'@82476 🤔 We'd like to help Sam, which number is calling you? Please DM us more info so we can advise further. https://t.co/5pyLDJBC6r' has a compound of 0.7783!\n",
            "'@105676 I understand how you frustrated this situation can be. Please follow us by sending a DM for further assistance. Sprint Cares. -AC' has a compound of 0.2263!\n",
            "'@105846 We'd like to help. What happens when you try to listen to Apple Music &amp; use WhatsApp? Does the music pause? Let us know in DM. https://t.co/GDrqU22YpT' has a compound of 0.6767!\n",
            "'@SpotifyCares seems to be working at this stage. Will let you know if it happens again. Cheers' has a compound of 0.4767!\n",
            "'@105847 Sure thing. We'll keep an eye out for your update /MU' has a compound of 0.3182!\n",
            "'@105847 Thanks for giving us a nudge about this. What device, operating system, and Spotify version is this happening on? /AY' has a compound of 0.6486!\n",
            "'@105847 Got it. Can you try the steps here for us: https://t.co/EqisDMwZAT? They should help with this. Let us know how it plays out /AY' has a compound of 0.5719!\n",
            "'@AppleSupport Latest version 😡😡 I have read the help page turned off virtually all apps and location svs too - but in typing this I dropped 3% life' has a compound of 0.2144!\n",
            "'@AppleSupport Super help - problem solved 😀 once again in love with Apple' has a compound of 0.9136!\n",
            "'@105849 Thanks for reaching out to us. We are always happy to help. Send us a DM so we can look into this together. https://t.co/GDrqU22YpT' has a compound of 0.8779!\n",
            "'@105850 Once the points load and you hit the number, you get it immediately! You'll even receive a congrats email. Are you almost there? ^AC' has a compound of 0.6114!\n",
            "'@SouthwestAir I am! Thank you for the answer!!' has a compound of 0.5229!\n",
            "'@southwestair Just curious....will I get the companion pass the exact moment I get enough points? It will I have to wait? Thanks!' has a compound of 0.5502!\n",
            "'@105851 We'd like to provide some assistance with this. Tell us more about the issue you're experiencing in DM. We'll go from there. https://t.co/GDrqU22YpT' has a compound of 0.3612!\n",
            "'@AppleSupport I need a new code for my I-store. I haven’t recd any but msg is too many sent. Help!' has a compound of 0.5916!\n",
            "'@105852 Are you experiencing an issue with your device? If so, DM us with what's going on. We'll see how we can help from there. https://t.co/GDrqU22YpT' has a compound of 0.4019!\n",
            "'@105842 I appreciate it's after 15:30 now, so hopefully you will depart very soon. We're sorry for any inconvenience the delay has caused. 2/2 ^JR' has a compound of 0.209!\n",
            "'@British_Airways Thanks for your answer. Response onsite was that Aircraft will not depart today, so rebooking to @105853 with now 4h delay...' has a compound of 0.1531!\n",
            "'@105842 Very sorry to hear this.  We hope you get everything sorted.   Kind Regards ^Jools' has a compound of 0.6915!\n",
            "'@Ask_Spectrum It's just in my yard. I've called 4-5 times in 6 weeks. I'm not a customer but it's pretty tempting. I do have some coaxial' has a compound of 0.6486!\n",
            "'@76501 I guess this means free cable for the neighborhood. https://t.co/FBgEE9YXPm' has a compound of 0.5106!\n",
            "'@105855 Hi Thomas, this is correct but this helps our store colleagues judge age and protect them from making underage sales. Amanda' has a compound of 0.8126!\n",
            "'@105855 Hi Thomas, we operate a Think 25 policy at our stores. I'd be flattered to be ID'd. :-) - Helena' has a compound of 0.5994!\n",
            "'@105856 Hi there, could you try deleting your cache and cookies and reinstalling the app if using it? This should fix the issue :) - Dani' has a compound of 0.4588!\n",
            "'@105856 Hi there, as long as you sign out of your account prior to deleting your cache &amp; cookies, you'll still have a full basket :) Thanks - Mike' has a compound of 0.7096!\n",
            "'@105856 Can you DM me your full name, address and email? I'd be happy to look into this further for you :) Thanks - Mike' has a compound of 0.8625!\n",
            "'@105857 Is there a particular app that seems to cause these issues more than others? What model iPhone are you using? Join us in DM. https://t.co/GDrqU22YpT' has a compound of 0.3736!\n",
            "'@105857 We'd like to help if we can. When did this start happening? Which version of iOS are you running currently?' has a compound of 0.6767!\n",
            "'My apps stop working without warning and my phone freezes every five minutes! Love the new update @76099!!!!' has a compound of 0.7273!\n",
            "'@105858 Hi Agoura, thanks for tweeting. Please refer to this article: https://t.co/BSsgjZARTc &amp; click the link to reply back. ^Rashmi https://t.co/a2xkfCrUG1' has a compound of 0.6369!\n",
            "'@105859 UPS has a service called My Choice that will allow your packages to be delivered to UPS Store. ^ML  https://t.co/BPZKndqww1 https://t.co/wKJHDXWGRQ' has a compound of 0.2263!\n",
            "'@105861 Hey Sara, sorry to hear of the issues you are having, can I ask if it's the lay out or just the speed of the website responding? TY - Chris' has a compound of 0.4648!\n",
            "'Anna Inspired in idea lab at school to be @115821 package being shipped to Narnia! \"Amazon can go anywhere\" according to Anna. https://t.co/TyvKhuu7su' has a compound of 0.636!\n",
            "'@115844 Oh my! I'm sorry for the troubles! Contact us by Phone or Chat: https://t.co/JzP7hlA23B &amp; we'll be glad to help! ^FR' has a compound of 0.5067!\n",
            "'@115846 That's okay! Thanks for checking! Please contact us by phone or chat and we can look into this: https://t.co/hApLpMlfHN ^BN' has a compound of 0.7707!\n",
            "'@115847 @115821 Yeah idk the shipping company and it says “mike Ziemer” signed for it in the mail room at our building lol' has a compound of 0.5574!\n",
            "'@115848 I'm sorry for the trouble this has caused you; please contact us so we may lend you a hand: https://t.co/hApLpMlfHN ^WM' has a compound of 0.3612!\n",
            "'@115849 Please share your details here:https://t.co/GIJyeYqKE0 and I'll get back to you. 2/2 ^HD' has a compound of 0.5423!\n",
            "'@AmazonHelp Details sent. Please check.' has a compound of 0.3182!\n",
            "'@115849 Thanks for confirming that the details have been shared. Our team will give it a look and reach out shortly. ^AB' has a compound of 0.6597!\n",
            "'@AmazonHelp Already contacted 3-4 times in the last month. But all I got was assurance that matter is escalated &amp; new status will be provided in 1 day!' has a compound of 0.5487!\n",
            "'@115849 Please report this to our support team here: https://t.co/TdDksLo6Mf and we'll look into this. 2/2 ^HD' has a compound of 0.6124!\n",
            "'@115852 We still offer discounts on eligible physical game pre-orders. For further details on Prime benefits: https://t.co/80y2YnlQGJ ^MB' has a compound of 0.3818!\n",
            "'@115853 I'm sorry we let you down! We'd like to make sure this is addressed. Please provide some details here: https://t.co/z6evtFsZI5 ^BN' has a compound of 0.7263!\n",
            "'@AppleSupport The newest update. I️ made sure to download it yesterday.' has a compound of 0.3182!\n",
            "'@115854 Lets take a closer look into this issue. Select the following link to join us in a DM and we'll go from there. https://t.co/GDrqU22YpT' has a compound of 0.296!\n",
            "'@AppleSupport This is what it looks like https://t.co/XCQU2l4xUB' has a compound of 0.3612!\n",
            "'@115855 That's great it has iOS 11.1 as we can rule out being outdated. Any steps tried since this started? Do you recall when it started?' has a compound of 0.6662!\n",
            "'@AppleSupport I️ have an iPhone 7 Plus and yes I️ do' has a compound of 0.4019!\n",
            "'@115855 We'd like to look into this with you. Which model do you have and is iOS 11.1 installed? Any steps tried so far?' has a compound of 0.4329!\n",
            "'@115857 We'd like to investigate further with you. Send us a DM and we can troubleshoot more from there. https://t.co/GDrqU22YpT' has a compound of 0.5106!\n",
            "'@115857 Fill us in on what is happening, then we can help out from there.' has a compound of 0.4019!\n",
            "'@115859 What's going on? We're hapy to help if we can. https://t.co/GDrqU22YpT' has a compound of 0.4019!\n",
            "'@115858 @AppleSupport hello are all the lines closed for tonight #help' has a compound of 0.4019!\n",
            "'@AppleSupport @115861 We’re going to need you to share the answers Angela. I️ can’t stand this!' has a compound of 0.3595!\n",
            "'@115861 You're in the right place; we'll do all we can to help. To start, let us know what iOS version is installed via DM: https://t.co/GDrqU22YpT' has a compound of 0.4019!\n",
            "'@115863 Go ahead and send us a DM please. Let us know the country you're in.' has a compound of 0.3182!\n",
            "'@115864 We'd like to help, but we'll need more details. What's happening on your device and which model is it? Do you have iOS 11.1?' has a compound of 0.4515!\n",
            "'@115864 To make sure, is iOS 11.1 installed on it currently? Also, any steps tried so far? DM us here: https://t.co/GDrqU22YpT' has a compound of 0.3939!\n",
            "'Thank you @AppleSupport I updated my phone and now it is even slower and barely works. Thank you for ruining my phone.😤' has a compound of 0.4062!\n",
            "'@115865 Thanks! Which iOS version is currently showing in Settings &gt; General &gt; About?' has a compound of 0.4926!\n",
            "'@115865 Let's check Settings &gt; General &gt; Software Update. iOS 11.1 was released earlier today. If you see it, please backup &amp; update.' has a compound of 0.3182!\n",
            "'@AppleSupport Okey. Thank you! 🤗' has a compound of 0.68!\n",
            "'@115865 Our pleasure. If you're still having issues after a back up and update, contact us back. We're happy to help.' has a compound of 0.8779!\n",
            "'@AppleSupport iPhone 7 Plus 😊' has a compound of 0.7184!\n",
            "'@115865 We offer support via Twitter in English. Get help in Spanish here: https://t.co/IBIY3vMgPj or join https://t.co/OczyRx7IOs' has a compound of 0.765!\n",
            "'@115866 We want to help! DM us and let us know more about the issues you are having. https://t.co/GDrqU22YpT' has a compound of 0.5093!\n",
            "'@AppleSupport Hi! What is going on? Has Youtube lost it? What can be done about it? Thanks for the support! https://t.co/T8ZZp4IH6t' has a compound of 0.6623!\n",
            "'@115867 We'd like to get you speaking to our experts here: https://t.co/IBIY3vMgPj' has a compound of 0.3612!\n",
            "'@AppleSupport Yes it did, 11.0.3' has a compound of 0.4019!\n",
            "'@115868 Let us help with your Home button. Did this issue start right after iOS 11? Which version of iOS 11 are you running?' has a compound of 0.4696!\n",
            "'@115869 We're here to help. Meet us in DM and we can check on available options. https://t.co/GDrqU22YpT' has a compound of 0.4019!\n",
            "'@AppleSupport I can not find an option to get it there. It was just always there when playing.' has a compound of 0.2023!\n",
            "'@115870 Thanks for reaching out to us. Are you experiencing the missing app after restating your device?' has a compound of 0.3612!\n",
            "'@115871 We want to help you get your battery life back on track. Please DM and we'll look at it together. https://t.co/GDrqU22YpT' has a compound of 0.6486!\n",
            "'@115872 Happy to follow up! Contact us via https://t.co/1xM0TILvAI so we can connect.' has a compound of 0.6114!\n",
            "'@115874 We're here to help! Send us a note here, https://t.co/WFtPA6RjWt and our team will be in touch.' has a compound of 0.4574!\n",
            "'@115875 We’re here to help, Travis! Send us a note via https://t.co/dwDjAokZht and we'll be in touch.' has a compound of 0.4574!\n",
            "'@Uber_Support @115879 wouldn't do this to me 😔' has a compound of 0.0772!\n"
          ]
        }
      ]
    },
    {
      "cell_type": "markdown",
      "metadata": {
        "id": "BHtbwIjhDJLG"
      },
      "source": [
        "From my (admittedly subjective) observation, it seems that most of these 'positive' tweets are replies to queries on behalf of a company (perhaps VADER picked up optimistic tones from these via words used politely in this context like 'like', 'help' and 'happy' that tend to be interpreted positively, and this increased their compound scores?). There also tend to be a lot of inclusive pronouns/words like 'we', 'together' and 'our' that may add to this nuance that is interpreted positively by VADER. I also note that positive emojis like \":-)\", \"🤗\" and \"😊\" (to name a few) come up in these tweets, which likely drives the compound score up as we are told that VADER takes them into account. Otherwise, there are some clear positive tweets here too - such as happy customer reviews. For example, \"@AppleSupport Super help - problem solved 😀 once again in love with Apple\" and \"@AppleSupport Okey. Thank you! 🤗\" seem quite positive to me. \n",
        "\n",
        "There also are a few exceptions (where would the fun be if there weren't?). For example, \"Okay @76099 I used my fucking phone for 2 minutes and it drains it down 8 fucking percent\" does not seem positive at all to me (in fact, it clearly seems negative). Perhaps its compound score is relatively high due to the sexual connotations of the \"f word\" (which can be interpreted in a positive or happy way). Also, \"@Uber_Support @115879 wouldn't do this to me 😔\" seems like a disappointed tweet, so if this is the case it shouldn't be considered positive. Perhaps in this case, the algorithm is interpreting the sentence as the tweeter speaking positively about @115879, rather than negatively about @Uber_Support. However, from inspection, these seem to be some relatively rare extreme exceptions, but overall most of the positive classifications seem reasonable to me (although I may not fully agree that each of them should be considered positive overall).\n",
        "\n",
        "While I wouldn't consider seeing if we can adjust the results due to limited time, I think it is worth at least considering that there is an argument that a lot of these more 'nuanced' (that is, using less strong positive words) and less emoji-filled tweets are better placed to be classified as 'neutral' rather than 'positive'. Outside of retraining or changing our model, perhaps we could consider changing the thresholds to deal with these questionable results to fine-tune the model to align with our expectations.\n",
        "\n",
        "Otherwise, let's consider the other tasks."
      ]
    },
    {
      "cell_type": "markdown",
      "metadata": {
        "id": "_hwizo3uKZsh"
      },
      "source": [
        "To see how many times a specific inputted (lower case - assuming this is the format) word or handle has been seen in all tweets, we can create a specific function for this purpose. The way I would do this is to make a function that inspects each tweet (via the tweets list), and find if that word/handle appears in each tweet (once is sufficient - I think worrying about repetition can bias the integrity of the function's results), and accumulate to a counter it returns at the end if so."
      ]
    },
    {
      "cell_type": "code",
      "metadata": {
        "id": "UvexnXF9LMQs"
      },
      "source": [
        "def word_commonality(word):\n",
        "  word = word.lower()\n",
        "  count = 0\n",
        "  for tweet in tweet_list:\n",
        "    split_tweet = tweet.split()\n",
        "    for item in split_tweet:\n",
        "      item = item.lower()\n",
        "      if item == word:\n",
        "        count += 1\n",
        "        break\n",
        "  return count"
      ],
      "execution_count": 16,
      "outputs": []
    },
    {
      "cell_type": "markdown",
      "metadata": {
        "id": "m9nP7J4xLtls"
      },
      "source": [
        "Let's run some examples (on our initial data). I will try \"thanks\" and \"@applesupport\"."
      ]
    },
    {
      "cell_type": "code",
      "metadata": {
        "colab": {
          "base_uri": "https://localhost:8080/"
        },
        "id": "tjf-UFLaHGq7",
        "outputId": "acb4347b-9c26-46b4-f3b8-9fd371b6bb2d"
      },
      "source": [
        "print(\"The word commonality of \\'thanks\\' is {}\".format(word_commonality(\"thanks\")))\n",
        "print(\"The handle commonality of \\'@AppleSupport\\' is {}\".format(word_commonality(\"@AppleSupport\")))"
      ],
      "execution_count": 17,
      "outputs": [
        {
          "output_type": "stream",
          "name": "stdout",
          "text": [
            "The word commonality of 'thanks' is 14\n",
            "The handle commonality of '@AppleSupport' is 42\n"
          ]
        }
      ]
    },
    {
      "cell_type": "markdown",
      "metadata": {
        "id": "zV-CaSg6KaOs"
      },
      "source": [
        "\"Thanks\" comes up in 14 out of 199 tweets, and \"@AppleSupport\" in 42 of 199 tweets. This seems reasonable to me."
      ]
    },
    {
      "cell_type": "markdown",
      "metadata": {
        "id": "2WIKoBGIKaLH"
      },
      "source": [
        "We want the average sentiment of tweets with a specific word or handle. To do so, we could follow a largely similar method to before (checking each tweet where the handle/word appears). We then would get the sentiment of each relevant tweet (using compound), get the average of this, then scale this between 0 and 100% (0.0 would be a good place for 50%, but 0% should be marked by the lowest possible compound score, and vice versa for 100%). We are told that the compound score is normalised to be between -1 and 1 so I will use these as the relevant benchmarks, and linearly extrapolate between them for simplicity. I will also use 'thanks' and '@AppleSupport' as examples here too."
      ]
    },
    {
      "cell_type": "code",
      "metadata": {
        "id": "XMom-Vr0PyWH"
      },
      "source": [
        "def average_sentiment(word):\n",
        "  word = word.lower()\n",
        "  count = 0\n",
        "  total_compound = 0\n",
        "  for tweet in tweet_list:\n",
        "    split_tweet = tweet.split()\n",
        "    for item in split_tweet:\n",
        "      item = item.lower()\n",
        "      if item == word:\n",
        "        count += 1\n",
        "        vs = analyzer.polarity_scores(tweet)\n",
        "        compound = vs[\"compound\"]\n",
        "        total_compound += compound\n",
        "        break\n",
        "  print(count)\n",
        "  average_compound = total_compound / count\n",
        "  fraction = (average_compound + 1) / 2\n",
        "  return fraction"
      ],
      "execution_count": 18,
      "outputs": []
    },
    {
      "cell_type": "code",
      "metadata": {
        "colab": {
          "base_uri": "https://localhost:8080/"
        },
        "id": "Po3nnhARQadL",
        "outputId": "d4586bba-2bba-40dd-ff30-0925bc463b9e"
      },
      "source": [
        "print(\"The average sentiment of \\'thanks\\' is {}%\".format(round(100 * average_sentiment(\"thanks\"), 1)))\n",
        "print(\"The average sentiment of \\'@AppleSupport\\' is {}%\".format(round(100 * average_sentiment(\"@AppleSupport\"), 1)))"
      ],
      "execution_count": 19,
      "outputs": [
        {
          "output_type": "stream",
          "name": "stdout",
          "text": [
            "14\n",
            "The average sentiment of 'thanks' is 82.3%\n",
            "42\n",
            "The average sentiment of '@AppleSupport' is 53.4%\n"
          ]
        }
      ]
    },
    {
      "cell_type": "markdown",
      "metadata": {
        "id": "oTMXEuvlR0M1"
      },
      "source": [
        "The average sentiment of 'thanks' is 82.3% which is quite positive, which intuitively makes sense. For '@AppleSupport' it was 53.4% which is quite neutral. As we saw it come up in positive tweets, it must have come up in (probably some mix of) negative or neutral tweets too for its overall sentiment to be neutral! This makes sense as these tweets are probably complaints which are more negative.\n"
      ]
    },
    {
      "cell_type": "markdown",
      "metadata": {
        "id": "aRYjoYJcSWzf"
      },
      "source": [
        "To retrieve the most positive, negative, or divisive (evenly split) words, we need to inspect each word coming from any tweet individually, and carry out an overall sentiment analysis on each word (the average sentiment function from above seems suitable for this task).  \n",
        "\n",
        "To make this interesting, I could split this up into words and handles. That is, figure out the most positive, negative and divisive word, and likewise for handles!\n"
      ]
    },
    {
      "cell_type": "code",
      "metadata": {
        "colab": {
          "base_uri": "https://localhost:8080/",
          "height": 404
        },
        "id": "RiMW2MQmUYze",
        "outputId": "084de6d4-f335-4c2e-b7c0-039b58311b05"
      },
      "source": [
        "import string\n",
        "\n",
        "\n",
        "def sentiment_ranker():\n",
        "  words_dict = {}\n",
        "  all_words = []\n",
        "  for tweet in tweet_list:\n",
        "    split_tweet = tweet.split()\n",
        "    for item in split_tweet:\n",
        "      item = item.lower()\n",
        "      vs = analyzer.polarity_scores(tweet)\n",
        "      compound = vs[\"compound\"]\n",
        "      if item not in words_dict:\n",
        "        words_dict[item] = [compound, 1]\n",
        "      else:\n",
        "        words_dict[item][0] += compound\n",
        "        words_dict[item][1] += 1\n",
        "  print(words_dict)\n",
        "  highest, lowest, middle = float('-inf'), float('inf'), float('inf')\n",
        "  highest_word, lowest_word, middle_word = '', '', ''\n",
        "  for word in words_dict:\n",
        "    item = words_dict[word]\n",
        "    average_sentiment = item[0]/item[1]\n",
        "    if average_sentiment > highest:\n",
        "      highest = average_sentiment\n",
        "      highest_word = word\n",
        "    if average_sentiment < lowest:\n",
        "      lowest = average_sentiment\n",
        "      lowest_word = word\n",
        "    if abs(average_sentiment) < abs(middle):\n",
        "      middle = average_sentiment\n",
        "      middle_word = word\n",
        "  print(highest_word, middle_word, lowest_word)\n",
        "\n",
        "sentiment_ranker()\n",
        "\n",
        "\n"
      ],
      "execution_count": 24,
      "outputs": [
        {
          "output_type": "stream",
          "name": "stdout",
          "text": [
            "{'@applesupport': [2.8490999999999995, 42], 'causing': [-0.3818, 1], 'the': [2.0387000000000004, 105], 'reply': [0.010500000000000065, 5], 'to': [24.54800000000001, 86], 'be': [6.481000000000001, 16], 'disregarded': [-0.3818, 1], 'and': [12.766399999999999, 61], 'tapped': [-0.3818, 1], 'notification': [-0.3818, 1], 'under': [-0.4845, 2], 'keyboard': [-0.8585, 2], 'is': [1.5866999999999991, 49], 'opened😡😡😡': [-0.3818, 1], '@105835': [0.3182, 1], 'your': [5.9473, 33], 'business': [0.3182, 1], 'means': [0.8288, 2], 'a': [10.759099999999998, 52], 'lot': [0.22469999999999998, 2], 'us.': [3.3131, 5], 'please': [7.0331, 17], 'dm': [8.9684, 30], 'name,': [1.2207000000000001, 3], 'zip': [0.3182, 1], 'code': [0.9097999999999999, 2], 'additional': [0.3182, 1], 'details': [2.9465000000000003, 6], 'about': [1.5948000000000002, 11], 'concern.': [0.3182, 1], '^rr': [0.3182, 1], 'https://t.co/znuu1vjn9r': [0.3182, 1], '@76328': [0.6839, 1], 'i': [-1.4861, 51], 'really': [0.6839, 1], 'hope': [1.6486, 3], 'you': [19.0203, 54], 'all': [0.8402, 10], 'change': [0.6839, 1], 'but': [3.5556000000000005, 11], \"i'm\": [0.01069999999999982, 10], 'sure': [2.0465999999999998, 4], \"won't!\": [0.6839, 1], 'because': [-0.43640000000000007, 3], \"don't\": [0.32949999999999996, 2], 'have': [3.3170999999999995, 18], 'to!': [0.6839, 1], '@105836': [1.3509000000000002, 4], 'livechat': [-0.0516, 1], 'online': [-0.0516, 1], 'at': [2.69, 10], 'moment': [0.49860000000000004, 2], '-': [0.7145000000000002, 18], 'https://t.co/sy94vtu8kq': [-0.0516, 1], 'or': [2.4556, 7], 'contact': [3.0763000000000003, 6], '03331': [-0.0516, 1], '031': [-0.1032, 2], 'option': [0.0572, 3], '1,': [-0.0516, 1], '4,': [-0.0516, 1], '3': [-0.7001999999999999, 3], '(leave': [-0.0516, 1], 'message)': [-0.0516, 1], 'request': [-0.0516, 1], 'call': [-0.664, 3], 'back': [1.7507, 9], '@virgintrains': [-0.7183, 3], 'see': [0.3182, 3], 'attached': [-0.4019, 1], 'error': [-0.4019, 1], 'message.': [-0.4019, 1], \"i've\": [-0.1996, 9], 'tried': [3.2211, 11], 'leaving': [-0.4019, 1], 'voicemail': [-0.4019, 1], 'several': [-0.1059, 2], 'times': [1.0914, 4], 'in': [9.930100000000003, 33], 'past': [-0.1059, 2], 'week': [-0.1059, 2], 'https://t.co/nxvzjlyx1k': [-0.4019, 1], 'from': [3.6051, 17], 'another': [-0.4663, 2], 'device,': [0.6486, 2], 'miriam': [0.7184, 2], '^mm': [0.6841, 2], 'yep,': [0.296, 1], 'laptop': [0.296, 1], 'too': [1.8247999999999998, 6], 'over': [-0.34480000000000005, 3], 'again': [0.8077, 3], 'today.': [0.2123, 3], 'different': [0.296, 2], 'browsers': [0.296, 1], \"it's\": [1.5231999999999999, 10], 'working': [1.8881000000000001, 4], 'ok': [0.6841, 1], 'here,': [1.1415, 2], 'miriam.': [0.6841, 1], 'does': [2.3104999999999998, 6], 'this': [11.3261, 38], 'link': [1.6170000000000002, 3], 'help': [7.685600000000001, 14], 'https://t.co/0m2mph15eh': [0.6841, 1], '?': [0.6841, 3], 'still': [-0.15730000000000016, 8], \"haven't\": [-0.6124, 1], 'heard': [-0.6124, 1], '&amp;': [2.902799999999999, 11], 'number': [-0.4806, 3], 'directed': [-0.6124, 1], 'by': [0.8913, 4], 'phone': [-2.0291, 15], 'dead': [-0.6124, 1], 'end': [-0.6124, 1], 'live': [-0.6124, 1], 'chat': [0.1583, 2], \"doesn't\": [-0.5724, 2], 'work.': [-0.6124, 2], 'can': [12.1111, 36], 'someone': [-0.6124, 3], 'me?': [-0.6124, 1], \"that's\": [2.4729, 5], 'what': [5.5657000000000005, 16], \"we're\": [3.6904999999999997, 10], 'here': [2.8861999999999997, 9], 'for': [8.8239, 48], '😊': [2.3504, 3], 'team': [2.4478999999999997, 4], 'should': [1.2723999999999998, 4], 'send': [5.344399999999999, 11], 'an': [0.06379999999999986, 11], 'email': [0.3782000000000001, 4], 'shortly': [0.7184, 1], '^hp': [0.7184, 1], '@105837': [0.4019, 1], 'we': [16.2243, 38], 'help.': [6.144600000000001, 9], 'which': [3.0549, 10], 'version': [4.0173, 13], 'of': [0.05280000000000007, 21], 'ios': [5.454, 19], 'are': [5.3846, 25], 'on?': [2.7735, 5], 'find': [0.2288000000000001, 4], 'that': [2.4032999999999998, 10], 'settings': [1.2127, 5], '&gt;': [3.3062, 12], 'general': [1.2127, 4], 'about.': [0.4019, 2], 'dm.': [1.8134, 4], 'https://t.co/gdrqu22ypt': [10.250600000000002, 23], '@105838': [0.2732, 1], 'me': [-0.8984999999999997, 9], 'am': [-0.6558999999999999, 4], 'suffering': [0.2732, 1], ',': [0.2732, 1], 'solution': [0.42679999999999996, 2], 'hi': [3.9270000000000005, 10], '#apple,': [0.1536, 1], 'i’ve': [0.1536, 2], 'concern': [0.1536, 1], 'latest': [0.368, 3], 'slow': [0.1536, 1], 'on': [4.276099999999999, 24], '#iphone6': [0.1536, 1], 'not': [0.22619999999999993, 13], 'happy': [5.8897, 8], 'with': [1.3030999999999997, 26], 'it.': [0.7254999999999999, 2], 'any': [1.9959000000000002, 12], 'please?': [0.05089999999999999, 2], '@105839': [0.8779, 1], 'thanks': [9.0519, 14], 'reaching': [2.9949000000000003, 4], 'out': [7.524900000000001, 18], 'always': [2.8360000000000003, 4], 'us': [19.778799999999997, 43], 'so': [4.4967, 18], 'look': [6.820600000000001, 13], 'into': [5.4865, 9], 'together.': [3.2823, 4], 'just': [-0.3506999999999999, 18], 'updated': [-0.7648, 4], 'my': [-2.1918, 38], 'suddenly': [-0.875, 1], 'everything': [-0.1835, 2], 'takes': [-0.875, 1], 'ages': [-0.875, 1], 'load': [-0.26359999999999995, 2], 'wtf': [-0.875, 1], '@76099': [-1.3933, 6], 'update': [-1.4957, 8], 'sux': [-0.875, 1], 'hate': [-0.875, 1], 'it': [5.034000000000002, 31], 'fix': [-0.9585, 3], 'bye': [-0.875, 1], '@105840': [2.6574, 4], 'there!': [0.6588, 2], 'device': [1.5907000000000002, 6], 'happening': [1.7589, 4], 'if': [5.5333000000000006, 17], 'could': [1.5580000000000003, 3], 'also': [0.6588, 2], 'let': [6.5087, 12], 'know': [4.4723, 8], 'android': [1.338, 2], 'spotify': [1.6906, 5], 'versions': [0.6588, 1], \"you're\": [2.8127999999999997, 8], 'using,': [0.6588, 1], \"that'd\": [0.6588, 1], 'great': [2.1655, 3], '/ay': [3.1602, 5], '@spotifycares': [1.3446, 7], 'thanks!': [1.5520999999999998, 3], '8.4.22.857': [0.5093, 1], 'armv7': [0.5093, 1], 'anker': [0.5093, 1], 'bluetooth': [1.1885, 2], 'speaker': [1.0186, 3], 'samsung': [0.5093, 1], 'galaxy': [0.5093, 1], 'tab': [0.5093, 1], '(2016)': [0.5093, 1], 'model': [1.7673, 4], 'sm-t280': [0.5093, 1], 'distance': [0.9497, 2], 'matter?': [0.5093, 1], 'thanks.': [0.4404, 1], 'possibly': [0.4404, 1], 'affect': [0.4404, 1], 'playback.': [0.2873, 2], 'logging': [0.8808, 4], 'restarting': [0.4404, 3], 'make': [1.5606, 3], 'difference?': [0.4404, 2], 'no,': [0.0, 1], 'moved': [0.0, 1], '1': [0.5487, 2], 'metre': [0.0, 1], 'away': [0.0, 2], 'skipping': [0.6792, 2], 'mo': [0.0, 1], 'was': [1.2223, 7], '4': [0.0, 1], 'metres': [0.0, 1], 'before.': [0.0, 1], 'fingers': [0.0, 1], 'crossed!': [0.0, 1], 'hear.': [0.8405, 1], 'anything': [1.5582, 2], 'comes': [0.8405, 1], 'up,': [0.8405, 1], 'know.': [0.8405, 1], \"we'll\": [5.118399999999999, 15], 'carry': [0.8405, 1], 'helping': [0.8405, 1], '🙂': [0.8405, 1], 'brilliant': [0.9136, 1], 'welcome!': [0.7177, 1], \"there's\": [0.7177, 1], 'else': [0.7177, 2], 'with,': [0.7177, 1], 'give': [1.3774, 2], 'shout.': [0.7177, 1], '😉': [0.7177, 1], '/cp': [0.7177, 1], '@76495': [0.6792, 1], '@91226': [0.6792, 1], 'help!': [3.6029999999999998, 6], 'premium': [0.6792, 1], 'through': [0.5261, 2], 'songs': [0.5261, 2], 'constantly': [0.6792, 1], 'tablet': [0.6792, 1], 'speaker.': [0.6792, 1], 'everything!': [0.6792, 1], '@105841': [0.8588, 1], \"we'd\": [6.5848, 11], 'love': [2.4997, 3], 'steps': [2.9236999999999997, 6], \"you've\": [0.8588, 1], 'since': [0.8661000000000001, 6], 'experiencing': [1.9830999999999999, 4], 'these': [1.2324, 2], 'behaviors.': [0.8588, 1], 'after': [-0.24849999999999994, 9], '11.0.2': [-0.6808, 1], 'sucks': [-1.3992, 2], 'most': [-0.6808, 2], 'apps': [0.1582, 5], 'broken,': [-0.6808, 1], 'wifi': [-0.6808, 1], 'disconnects': [-0.6808, 1], 'frequently': [-0.7835, 2], '#apple': [-0.6808, 1], '#ios1102': [-0.6808, 1], '#painfulupdate': [-0.6808, 1], '@105842': [0.6045, 3], 'sorry': [1.6283, 9], 'flight': [-0.9368000000000001, 2], 'has': [1.4271, 7], 'been': [-0.9091000000000002, 7], 'delayed,': [-0.296, 1], 'beatner.': [-0.296, 1], 'travelling': [-0.296, 1], 'ba8733?': [-0.296, 1], 'so,': [0.1059, 2], 'departure': [-0.296, 1], 'time': [-1.7636, 3], '15:30.': [-0.296, 1], '1/2': [-0.296, 1], 'first': [-0.6408, 1], 'long': [0.06879999999999997, 2], '@british_airways.': [-0.6408, 1], 'now': [-0.8307, 5], 'one': [-1.6835, 3], '1h': [-0.6408, 1], 'delay': [-0.4318000000000001, 2], 'short': [-0.6408, 1], 'jump': [-0.6408, 1], 'fra-lcy': [-0.6408, 1], 'no': [-2.9494, 6], 'provide': [0.44669999999999993, 3], 'status': [-0.09210000000000007, 2], 'updates': [-0.6408, 1], '@105843': [0.2023, 1], 'battery': [-1.7407, 8], 'life': [0.14459999999999995, 5], 'important,': [0.2023, 1], 'you.': [1.5922000000000003, 7], 'iphone': [1.5935000000000001, 6], 'running.': [0.2023, 1], 'go': [1.8137, 7], 'there.': [2.7053000000000003, 13], 'okay': [0.2263, 1], 'used': [-0.5962000000000001, 2], 'fucking': [0.4526, 2], '2': [-1.0625, 3], 'minutes': [0.2263, 2], 'drains': [0.2263, 1], 'down': [-0.11370000000000002, 2], '8': [0.2263, 1], 'percent': [0.2263, 1], '@105844': [1.6285, 2], 'get': [3.5496000000000003, 14], '7plus': [-0.1027, 1], 'old': [-0.9252, 2], 'runs': [-0.1027, 1], 'half': [-0.6461, 2], 'time,': [-0.1027, 1], 'crash.': [-0.1027, 1], 'start': [1.8969, 3], 'you’ve': [0.0, 1], 'paralysed': [0.0, 1], 'grrrrrrrrrr': [0.0, 1], '@82476': [0.7783, 1], '🤔': [0.7783, 1], 'like': [5.336600000000001, 10], 'sam,': [0.7783, 1], 'calling': [0.7783, 1], 'you?': [0.7783, 1], 'more': [2.9845, 7], 'info': [0.7783, 2], 'advise': [0.7783, 1], 'further.': [0.7783, 1], 'https://t.co/5pyldjbc6r': [0.7783, 1], '@o2': [0.0, 1], 'received': [0.0, 3], 'few': [0.0, 1], 'weeks': [0.0, 1], 'ago,': [0.0, 1], 'then': [0.4019, 3], 'getting': [0.049, 3], '2/3': [0.0, 1], 'calls': [0.0, 1], 'day': [-1.2561, 3], 'telemarketer.': [0.0, 1], 'using': [-0.6557999999999999, 5], 'name?': [0.0, 1], 'https://t.co/gltz4xhcex': [0.0, 1], '@105845': [-0.1217, 1], 'understand': [0.1046, 2], 'frustrating': [-0.1217, 1], 'experience,': [-0.1217, 1], 'account': [0.5879, 2], 'information': [-0.1217, 1], 'matter': [0.42699999999999994, 2], '-ad': [-0.1217, 1], 'internet': [-0.34, 1], 'xfinity': [-0.34, 1], 'talkin': [-0.34, 1], '24-72': [-0.34, 1], 'hours...': [-0.34, 1], 'y’all': [-0.34, 2], 'game': [0.04179999999999995, 2], 'messed': [-0.34, 1], 'up.': [-0.34, 1], '@77245': [-0.34, 1], '@105676': [0.2263, 1], 'how': [1.2001, 4], 'frustrated': [0.2263, 1], 'situation': [0.2263, 1], 'be.': [0.2263, 1], 'follow': [0.8377000000000001, 3], 'sending': [0.2263, 1], 'further': [1.9811999999999999, 4], 'assistance.': [0.2263, 1], 'sprint': [0.2263, 2], 'cares.': [0.2263, 1], '-ac': [0.2263, 1], '@76803': [0.0, 1], 'service': [-0.9378, 4], 'last': [-0.2781, 5], '40': [0.0, 1], 'min': [0.0, 1], 'refund': [0.0, 1], 'https://t.co/wypw9hp6wt': [0.0, 1], '@105846': [0.6767, 1], 'happens': [1.1534, 2], 'when': [2.1041, 9], 'try': [1.7073999999999998, 4], 'listen': [0.6767, 2], 'apple': [1.6161, 3], 'music': [1.3534, 3], 'use': [0.6767, 1], 'whatsapp?': [0.6767, 1], 'pause?': [0.6767, 1], 'new': [1.8676, 4], 'whatsapp': [0.0, 1], 'same': [0.0, 1], 'time?!?': [0.0, 1], '@105847': [1.5387, 4], 'harry!': [0.0, 1], \"help's\": [0.0, 1], 'here.': [0.0, 1], 'check': [0.7201, 4], 'makes': [0.0, 1], 'keep': [0.3182, 2], 'posted': [0.0, 1], '/mu': [0.3182, 2], 'seems': [0.8503000000000001, 2], 'stage.': [0.4767, 1], 'will': [2.7764999999999995, 12], 'again.': [0.5025000000000001, 2], 'cheers': [0.4767, 1], 'thing.': [0.3182, 1], 'eye': [0.3182, 1], 'problem': [0.10980000000000006, 3], 'come': [-0.4019, 1], 'there': [-1.4170999999999998, 6], 'some': [0.8731, 6], 'kind': [0.2896, 2], 'bug?': [-0.4019, 1], 'giving': [0.45599999999999996, 2], 'nudge': [0.6486, 1], 'this.': [2.4593000000000003, 7], 'operating': [0.6486, 1], 'system,': [0.6486, 1], 'macbook': [0.0, 1], 'air': [0.0258, 3], '(early': [0.0, 1], '2014),': [0.0, 1], 'running': [0.6767, 3], 'high': [0.0, 1], 'sierra,': [0.0, 1], '1.0.65.320.gac7a8e02': [0.0, 1], 'got': [0.3642999999999999, 5], 'us:': [0.5719, 1], 'https://t.co/eqisdmwzat?': [0.5719, 1], 'they': [-0.5493000000000001, 7], 'plays': [0.5719, 1], 'having': [0.7248, 3], 'issues': [2.0725000000000002, 6], 'stopping': [-0.1531, 1], 'midway': [-0.1531, 1], \"won't\": [-0.1531, 1], 'restart': [-0.1531, 1], 'unless': [-0.1531, 1], 'close': [-0.1531, 1], 'reopen': [-0.1531, 1], 'app': [0.619, 5], '@105848': [0.0, 1], \"let's\": [0.3182, 4], 'take': [0.3218, 4], 'look.': [0.0, 1], 'exact': [0.5502, 2], 'using?': [0.3736, 2], 'specific': [0.0, 2], 'noticing': [0.0, 1], 'this?': [0.0, 1], 'reply.': [0.0, 1], 'https://t.co/gdrqu22ypt119290,119291119292': [0.0, 1], '😡😡': [0.2144, 1], 'read': [0.2144, 1], 'page': [0.2144, 1], 'turned': [0.2144, 1], 'off': [-0.1805, 4], 'virtually': [0.2144, 1], 'location': [0.2144, 1], 'svs': [0.2144, 1], 'typing': [0.2144, 1], 'dropped': [0.2144, 2], '3%': [0.2144, 1], 'super': [0.9136, 1], 'solved': [0.9136, 1], '😀': [0.9136, 1], 'once': [1.525, 2], '#ios11update': [-0.8225, 1], 'killing': [-0.8225, 1], 'within': [-0.8225, 2], '12': [-0.8225, 1], 'hours': [-0.8225, 1], '10': [-0.8225, 1], 'months': [-0.8225, 1], 'it’s': [-1.7667, 4], 'disgrace': [-0.8225, 1], 'days': [-0.8225, 1], '@105849': [0.8779, 1], 'took': [-0.2023, 1], 'charge': [-0.2023, 2], '7:20am.': [-0.2023, 1], '8:03am': [-0.2023, 1], '60%': [-0.2023, 1], 'remaining.': [-0.2023, 1], 'plz': [-0.2023, 1], 'beg': [-0.2023, 1], 'you,': [-0.2023, 1], 'sort': [-0.2023, 1], 'out😩': [-0.2023, 1], '@105850': [0.6114, 1], 'points': [0.6114, 1], 'hit': [0.6114, 1], 'number,': [0.6114, 1], 'immediately!': [0.6114, 1], \"you'll\": [1.3210000000000002, 2], 'even': [0.018000000000000016, 4], 'receive': [0.6114, 1], 'congrats': [0.6114, 1], 'email.': [0.6114, 1], 'almost': [0.6114, 1], 'there?': [0.6114, 1], '^ac': [0.08850000000000002, 2], '@southwestair': [1.0731000000000002, 2], 'am!': [0.5229, 1], 'thank': [2.0153000000000003, 4], 'answer!!': [0.5229, 1], 'curious....will': [0.5502, 1], 'companion': [0.5502, 1], 'pass': [0.5502, 1], 'enough': [0.5502, 2], 'points?': [0.5502, 1], 'wait?': [0.5502, 1], '@105851': [0.3612, 1], 'assistance': [0.3612, 1], 'tell': [0.3612, 1], 'issue': [1.7173, 5], 'need': [-0.4633999999999999, 7], 'i-store.': [0.5916, 1], 'haven’t': [0.5916, 1], 'recd': [0.5916, 1], 'msg': [0.5916, 1], 'many': [0.5916, 1], 'sent.': [0.9097999999999999, 2], '@105852': [0.4019, 1], 'device?': [0.7631, 2], \"what's\": [1.2553, 4], 'going': [1.8256000000000001, 5], 'on.': [0.4019, 2], 'update.': [0.41229999999999994, 5], 'horrible': [-0.5423, 1], 'appreciate': [0.209, 1], '15:30': [0.209, 1], 'now,': [0.209, 1], 'hopefully': [0.209, 1], 'depart': [0.3621, 2], 'very': [0.9005, 2], 'soon.': [0.209, 1], 'inconvenience': [0.209, 1], 'caused.': [0.209, 1], '2/2': [1.4037000000000002, 4], '^jr': [0.209, 1], '@british_airways': [0.1531, 1], 'answer.': [0.1531, 1], 'response': [0.1531, 1], 'onsite': [0.1531, 1], 'aircraft': [0.1531, 1], 'today,': [0.1531, 1], 'rebooking': [0.1531, 1], '@105853': [0.1531, 1], '4h': [0.1531, 1], 'delay...': [0.1531, 1], 'hear': [1.1562999999999999, 2], 'sorted.': [0.6915, 1], 'regards': [0.6915, 1], '^jools': [0.6915, 1], '@105854': [-0.6808, 1], 'poor': [-0.6808, 1], 'experience.': [-0.6808, 1], 'full': [0.9313000000000001, 4], 'address': [-0.6195999999999999, 5], 'name': [-0.6808, 1], 'account,': [-0.6808, 1], 'as': [0.6919000000000001, 6], 'ass...': [-0.6808, 1], 'https://t.co/jezhqgdbmd': [-0.6808, 1], '@ask_spectrum': [0.6486, 1], 'yard.': [0.6486, 1], 'called': [0.8749, 2], '4-5': [0.6486, 1], '6': [0.6486, 1], 'weeks.': [0.6486, 1], 'customer': [0.6486, 1], 'pretty': [0.6486, 1], 'tempting.': [0.6486, 1], 'do': [2.3618, 9], 'coaxial': [0.6486, 1], '@76501': [0.5106, 1], 'guess': [0.5106, 1], 'free': [0.5106, 1], 'cable': [0.5106, 1], 'neighborhood.': [0.5106, 1], 'https://t.co/fbgee9yxpm': [0.5106, 1], '@105855': [1.3093, 3], 'thomas,': [1.3093, 3], 'colleague': [-0.1027, 1], 'believes': [-0.1027, 1], 'person': [-0.1027, 2], 'buying': [-0.5045999999999999, 2], 'alcohol': [-0.1027, 1], 'looks': [0.2585, 2], '25,': [-0.1027, 1], 'challenged': [-0.1027, 1], 'id': [-0.1027, 1], 'prove': [-0.1027, 1], \"they're\": [-0.1027, 1], 'age.': [-0.1027, 1], 'paige': [-0.1027, 1], '@tesco': [-1.0508, 7], 'maybe': [0.0, 1], 'hire': [0.0, 1], 'colleagues': [0.8126, 2], 'who': [0.0, 2], 'see?': [0.0, 1], 'point': [0.0, 1], 'enforced': [0.0, 1], 'properly': [0.0, 1], \"don't.\": [0.0, 1], 'plus': [1.1203, 4], 'common-sense': [0.0, 1], 'think': [0.5994, 2], '18?': [0.0, 1], 'correct': [0.6103, 2], 'helps': [0.8126, 1], 'our': [4.938, 8], 'store': [0.7191, 2], 'judge': [0.8126, 1], 'age': [0.8126, 1], 'protect': [0.8126, 1], 'them': [0.8126, 2], 'making': [0.8126, 1], 'underage': [0.8126, 1], 'sales.': [0.8126, 1], 'amanda': [0.8126, 1], 'uk': [0.0, 1], 'offlicense': [0.0, 1], 'law': [0.0, 1], '18.': [0.0, 1], '25': [0.5994, 2], 'operate': [0.5994, 1], 'policy': [0.5994, 1], 'stores.': [0.5994, 1], \"i'd\": [1.4619, 2], 'flattered': [0.5994, 1], \"id'd.\": [0.5994, 1], ':-)': [0.5994, 1], 'helena': [0.5994, 1], \"id's\": [-0.4019, 1], 'adnams': [-0.4019, 1], 'broadside.': [-0.4019, 1], 'being': [0.9003000000000001, 3], 'blind': [-0.4019, 1], 'part': [-0.4019, 1], 'job-spec?': [-0.4019, 1], '35': [-0.4019, 1], '99': [-0.4019, 1], 'kilos.': [-0.4019, 1], '@105856': [2.0309, 3], 'there,': [1.1684, 2], 'deleting': [1.1684, 2], 'cache': [1.1684, 2], 'cookies': [0.4588, 1], 'reinstalling': [0.4588, 1], 'it?': [2.2349, 4], ':)': [2.0309, 3], 'dani': [0.4588, 1], 'lose': [-0.4019, 1], 'shopping': [-0.4019, 1], 'done': [-0.49670000000000003, 4], 'delete': [-0.4019, 1], 'cache/cookies': [-0.4019, 1], '(not': [-0.4019, 1], 'app)?': [-0.4019, 1], 'sign': [0.7096, 1], 'prior': [0.7096, 1], 'cookies,': [0.7096, 1], 'basket': [0.7096, 1], 'mike': [1.5721, 2], 'that.': [-0.296, 1], 'telling': [-0.9445999999999999, 2], 'delivery': [-1.4108999999999998, 5], 'slots': [-0.9445999999999999, 2], 'whatsoever.': [-0.296, 1], 'email?': [0.8625, 1], 'hey': [-1.0106, 4], '@tesco,': [-0.6486, 1], \"website's\": [-0.6486, 1], 'broken.': [-0.6486, 1], 'next': [-0.6486, 2], 'weeks,': [-0.6486, 1], 'slightly': [-0.6486, 1], 'unlikely.': [-0.6486, 1], '@105857': [1.0503, 2], 'particular': [0.3736, 1], 'cause': [0.3736, 1], 'than': [0.3736, 1], 'others?': [0.3736, 1], 'join': [1.4346, 3], 'ios.': [0.0, 1], 'started': [0.0, 2], 'immediately': [0.0, 1], 'phone.': [0.0, 1], 'can.': [1.0786, 2], 'did': [0.7919, 5], 'happening?': [0.6767, 1], 'currently?': [1.0706, 2], 'stop': [0.5347, 2], 'without': [0.7273, 1], 'warning': [0.7273, 1], 'freezes': [0.7273, 1], 'every': [0.7273, 1], 'five': [0.7273, 1], 'minutes!': [0.7273, 1], '@76099!!!!': [0.7273, 1], '@105858': [0.6369, 1], 'agoura,': [0.6369, 1], 'tweeting.': [0.6369, 1], 'refer': [0.6369, 1], 'article:': [0.6369, 1], 'https://t.co/bssgjzartc': [0.6369, 1], 'click': [0.6369, 2], 'back.': [1.5148000000000001, 2], '^rashmi': [0.6369, 1], 'https://t.co/a2xkfcrug1': [0.6369, 1], '@hpsupport': [-0.4019, 1], 'printhead': [-0.4019, 1], 'serial#': [-0.4019, 1], 'th536d1hn': [-0.4019, 1], '#hpcswus': [-0.4019, 1], '#hpprnt': [-0.4019, 1], '@105859': [0.2263, 1], 'ups': [0.3591, 3], 'choice': [0.2263, 1], 'allow': [0.2263, 1], 'packages': [0.2263, 2], 'delivered': [0.2263, 1], 'store.': [0.2263, 1], '^ml': [0.2263, 1], 'https://t.co/bpzkndqww1': [0.2263, 1], 'https://t.co/wkjhdxwgrq': [0.2263, 1], '@105860': [-0.0935, 1], 'wish': [-0.0935, 1], 'amazon': [-0.8062, 2], 'had': [-0.0935, 1], 'where': [-0.0935, 1], 'shipped': [0.5425, 2], 'avoid': [-0.0935, 1], 'struggle': [-0.0935, 1], 'reschedule': [-0.5574, 1], 'shit': [-0.5574, 1], 'tomorrow': [-0.5574, 1], 'https://t.co/rsvzct982t': [-0.5574, 1], '@105861': [0.5048, 2], 'sara,': [0.4648, 1], 'having,': [0.4648, 1], 'ask': [0.4648, 1], 'lay': [0.4648, 1], 'speed': [0.4648, 1], 'website': [0.4648, 1], 'responding?': [0.4648, 1], 'ty': [0.4648, 1], 'chris': [0.4648, 1], 'bit': [0.049, 1], 'both': [0.049, 1], 'finding': [0.049, 1], 'layout': [0.049, 1], 'cumbersome': [0.049, 1], 'removing': [0.049, 1], 'item': [-0.6637, 2], 'faves': [0.049, 1], 'huge': [0.049, 1], 'slowdown.': [0.049, 1], 'keen': [0.049, 1], 'thin': [0.049, 1], 'green': [0.049, 1], 'line': [0.049, 1], 'https://t.co/9281okeebk': [0.049, 1], 'including': [0.04, 1], 'browser': [0.04, 1], 'log': [0.04, 1], 'lee': [0.04, 1], '@amazonhelp': [-0.28570000000000007, 7], 'paid': [0.0, 2], 'today,didn’t': [0.0, 1], 'arrive.why': [0.0, 1], 'not?i': [0.0, 1], 'it.where': [0.0, 1], 'it??i’m': [0.0, 1], 'unhappy.refund': [0.0, 1], '@115843': [-0.5229, 1], 'lion!': [-0.5229, 1], 'she': [-0.5229, 1], 'shows': [-0.5229, 1], 'witch': [-0.5229, 1], 'way': [-0.5229, 1], 'up!': [0.08850000000000002, 2], 'quite': [-0.5229, 1], 'wardrobe!': [-0.5229, 1], 'aww': [0.0, 1], 'made': [0.3182, 2], 'her': [0.0, 1], 'night!': [0.0, 1], 'anna': [0.636, 1], 'inspired': [0.636, 1], 'idea': [0.636, 1], 'lab': [0.636, 1], 'school': [0.636, 1], '@115821': [0.7167, 7], 'package': [0.636, 2], 'narnia!': [0.636, 1], '\"amazon': [0.636, 1], 'anywhere\"': [0.636, 1], 'according': [0.636, 1], 'anna.': [0.636, 1], 'https://t.co/tyvkhuu7su': [0.636, 1], '@115844': [0.5067, 2], 'oh': [0.5067, 1], 'my!': [0.5067, 1], 'troubles!': [0.5067, 1], 'chat:': [0.5067, 1], 'https://t.co/jzp7hla23b': [0.5067, 1], 'glad': [0.5067, 1], '^fr': [0.5067, 1], 'said': [-0.4833, 1], 'sorted!': [-0.4833, 1], 'refunded!': [-0.4833, 1], 'impressed': [-0.4833, 1], 'more.': [-0.4833, 1], '@115845': [-0.4611, 1], 'sent': [-1.1738, 3], \"feckin'\": [-0.4611, 1], 'order': [-0.4611, 1], 'germany!': [-0.4611, 1], 'dozy': [-0.4611, 1], 'driver': [-0.4611, 2], 'looking': [-0.4611, 1], 'wrong': [-1.6505, 3], 'country!': [-1.1738, 2], 'amazon!': [-0.4611, 1], 'world?!': [0.0, 1], 'never': [-0.7127, 1], 'again!': [-0.7127, 1], 'waiting': [-0.7127, 1], '\"out': [-0.7127, 1], 'delivery\",': [-0.7127, 1], \"they've\": [-0.7127, 1], 'only': [-0.7127, 2], 'gone': [-0.7127, 1], '@115846': [0.7707, 2], 'okay!': [0.7707, 1], 'checking!': [0.7707, 1], 'this:': [0.7707, 1], 'https://t.co/haplpmlfhn': [1.1319000000000001, 2], '^bn': [1.4969999999999999, 2], '@115847': [0.5574, 1], 'yeah': [0.5574, 1], 'idk': [0.5574, 1], 'shipping': [0.5574, 1], 'company': [0.5574, 1], 'says': [0.5574, 1], '“mike': [0.5574, 1], 'ziemer”': [0.5574, 1], 'signed': [0.5574, 1], 'mail': [0.5574, 2], 'room': [0.5574, 1], 'building': [0.5574, 1], 'lol': [0.5574, 1], 'remember': [0.0, 1], 'head': [0.0, 1], 'phones': [0.0, 1], 'brought': [0.0, 1], 'halloween': [0.0, 1], 'costume': [0.0, 1], '“delivered”': [0.0, 1], 'friday': [0.0, 1], 'don’t': [0.0, 1], 'searching': [0.0, 1], 'everywhere': [0.0, 1], 'minute': [0.0, 1], 'idea.': [0.0, 1], '@115848': [0.3612, 1], 'trouble': [0.3612, 1], 'caused': [0.3612, 1], 'you;': [0.3612, 1], 'may': [0.3612, 1], 'lend': [0.3612, 1], 'hand:': [0.3612, 1], '^wm': [0.3612, 1], 'https://t.co/gb0beua3in': [0.0, 1], 'china': [0.0, 1], 'https://t.co/fo9vbus18e': [0.0, 1], '@115849': [1.8144, 3], 'share': [0.9017999999999999, 2], 'here:https://t.co/gijyeyqke0': [0.5423, 1], \"i'll\": [0.5423, 1], '^hd': [1.1547, 2], 'check.': [0.3182, 1], 'confirming': [0.6597, 1], 'shared.': [0.6597, 1], 'reach': [0.6855, 2], 'shortly.': [0.6597, 1], '^ab': [0.6597, 1], 'already': [0.5487, 2], 'contacted': [0.5487, 1], '3-4': [0.5487, 1], 'month.': [0.07199999999999995, 2], 'assurance': [0.5487, 1], 'escalated': [0.5487, 1], 'provided': [0.5487, 1], 'day!': [0.5487, 1], 'report': [0.6124, 1], 'support': [1.3774000000000002, 2], 'here:': [2.8588, 6], 'https://t.co/tddkslo6mf': [0.6124, 1], '@115850': [-0.4767, 1], '@115851': [-0.4767, 1], 'order#': [-0.4767, 1], '3632693-6196346.': [-0.4767, 1], \"couldn't\": [-0.4767, 1], 'deliver': [-0.8311, 2], 'ashamed': [-0.4767, 1], 'yourself.': [-0.4767, 1], '@115852': [0.3818, 1], 'offer': [1.1468, 2], 'discounts': [0.3818, 1], 'eligible': [0.3818, 1], 'physical': [0.3818, 1], 'pre-orders.': [0.3818, 1], 'prime': [0.18919999999999998, 2], 'benefits:': [0.3818, 1], 'https://t.co/80y2ynlqgj': [0.3818, 1], '^mb': [0.3818, 1], '20%': [-0.1926, 1], 'videogame': [-0.1926, 1], 'pre-orders': [-0.1926, 1], '(amazon': [-0.1926, 1], 'members)': [-0.1926, 1], 'im': [-0.1926, 1], 'confused?': [-0.1926, 1], 'why?': [-0.1926, 1], '@115853': [0.7263, 1], 'down!': [0.7263, 1], 'addressed.': [0.7263, 1], 'https://t.co/z6evtfszi5': [0.7263, 1], 'pulled': [-0.4663, 1], '#amazon': [-0.4663, 1], 'bushes': [-0.4663, 1], '#amzl': [-0.4663, 1], 'people': [-0.4663, 1], 'can’t': [-0.1068, 2], 'walk': [-0.4663, 1], 'extra': [-0.4663, 1], 'ft': [-0.4663, 1], 'door.': [-0.4663, 1], 'tired': [-0.4663, 1], '@115854': [0.296, 2], 'running?': [0.4696, 2], 'newest': [0.3182, 1], 'i️': [1.0796, 8], 'download': [0.3182, 1], 'yesterday.': [0.3182, 1], 'lets': [0.296, 1], 'closer': [0.296, 1], 'issue.': [0.296, 1], 'select': [0.296, 1], 'following': [0.296, 1], 'https://t.co/nv0yucs0lb': [0.0, 1], 'why': [-1.0009, 5], 'i️’s': [0.0, 1], 'changing': [0.0, 1], 'showing': [0.4926, 2], 'up': [0.9037000000000001, 5], 'correctly': [0.0, 1], 'social': [0.0, 1], 'media': [0.0, 1], 'platforms?': [0.0, 1], 'https://t.co/gyrvpyvnke': [0.0, 1], '@115855': [1.0991, 4], 'steps.': [0.0, 1], 'resetting': [0.0, 1], '..': [0.0, 2], 'night?': [0.0, 2], 'https://t.co/xcqu2l4xub': [0.3612, 1], '11.1': [1.8112, 4], 'rule': [0.6662, 1], 'outdated.': [0.6662, 1], 'started?': [1.3324, 2], 'recall': [0.6662, 1], '7': [1.1203, 2], 'yes': [0.8038, 2], 'installed?': [0.4329, 1], 'far?': [0.8268, 2], 'answers': [-0.04239999999999999, 2], 'annoying': [-0.4019, 1], '🙃': [-0.4019, 1], 'i’s': [0.0, 1], 'question': [0.0, 1], 'marks': [0.0, 1], '“': [0.0, 2], '@115856': [0.0, 1], 'hey,': [0.0, 1], 'work': [0.0, 2], 'together': [0.0, 1], 'figure': [0.0, 1], 'meet': [0.4019, 2], 'continue': [0.0, 3], 'anyone': [0.0, 1], 'upgraded': [0.0, 1], 'ios11.1,': [0.0, 1], 'capital': [0.0, 1], '“i️”': [0.0, 1], 'app?': [0.0, 1], 'puts': [0.0, 1], '“a”?': [0.0, 1], '@115857': [0.9125000000000001, 2], 'investigate': [0.5106, 1], 'troubleshoot': [0.5106, 1], 'happening...': [0.0, 1], 'https://t.co/x3szsjxfat': [0.0, 1], 'fill': [0.4019, 1], 'happening,': [0.4019, 1], 'tf': [-0.4767, 1], '@115858': [-0.7932000000000001, 3], '@115859': [0.4019, 2], \"we've\": [0.0258, 2], 'centres': [0.0, 1], 'closed': [0.4019, 2], 'hapy': [0.4019, 1], 'hello': [0.4019, 2], 'lines': [0.4019, 1], 'tonight': [0.4019, 1], '#help': [0.4019, 1], '@115860': [0.0258, 1], 'via': [2.2615, 5], 'dm,': [0.0258, 1], '@115861': [0.7614, 3], '@115862': [0.0, 2], 'upgraded.': [0.0, 1], 'i️t': [0.0, 1], 'didn’t': [0.0, 1], 'will!': [0.0, 1], 'we’re': [0.8169, 2], 'angela.': [0.3595, 1], 'stand': [0.3595, 1], 'this!': [0.3595, 1], 'right': [0.8714999999999999, 2], 'place;': [0.4019, 1], 'start,': [0.4019, 1], 'installed': [0.7958, 2], 'dm:': [0.4019, 1], 'hello,': [0.0, 1], 'internet.': [0.0, 1], 'explain': [0.0, 1], 'symbol': [0.0, 1], 'keeps': [0.0, 1], 'appearing': [0.0, 1], 'type': [0.0, 2], 'letter': [0.0, 1], 'i️?': [0.0, 1], 'https://t.co/qkwvtltin7': [0.0, 1], '@115863': [0.3182, 1], 'ahead': [0.3182, 1], 'please.': [0.3182, 1], 'country': [0.3182, 1], 'in.': [0.3182, 1], 'screenshot': [0.0, 1], 'saying': [0.0, 2], '#iphonex': [0.0, 1], 'reserved': [0.0, 1], '3rd': [0.0, 1], '18th...': [0.0, 1], 'happened?': [0.0, 1], '@115864': [0.8453999999999999, 2], 'help,': [0.9089, 2], 'details.': [0.4515, 1], '11.1?': [0.4515, 1], '6s': [0.0, 1], 'recent': [0.0, 1], 'sure,': [0.3939, 1], 'also,': [0.3939, 1], 'slower': [0.4062, 1], 'barely': [0.4062, 1], 'works.': [0.4062, 1], 'ruining': [0.4062, 1], 'phone.😤': [0.4062, 1], '@115865': [2.4537, 5], 'currently': [0.4926, 2], 'about?': [0.4926, 1], '11.0.3': [0.4019, 2], 'software': [-0.2252, 2], 'released': [0.344, 2], 'earlier': [0.3182, 1], 'it,': [0.3182, 1], 'backup': [0.3182, 1], 'okey.': [0.68, 1], 'you!': [0.68, 1], '🤗': [0.68, 1], 'pleasure.': [0.8779, 1], 'update,': [0.8779, 1], 'with?': [0.0, 1], 'urgently.': [-0.5434, 1], 'lasts': [-0.5434, 1], 'literally': [-1.1899, 2], '🙍🏼🙁@applesupport': [-0.5434, 1], 'twitter': [0.765, 1], 'english.': [0.765, 1], 'spanish': [0.765, 1], 'https://t.co/ibiy3vmgpj': [1.1262, 2], 'https://t.co/oczyrx7ios': [0.765, 1], 'hola': [-0.34, 1], 'necesito': [-0.34, 1], 'urgente': [-0.34, 1], 'la': [-0.68, 2], 'actualización': [-0.34, 1], 'de': [-0.34, 1], 'software.': [-0.34, 1], 'batería': [-0.34, 1], 'dura': [-0.34, 1], 'literal': [-0.34, 1], 'medio': [-0.34, 1], 'día': [-0.34, 1], '🙍🏼🙇🏼\\u200d♀️': [-0.34, 1], '@115866': [0.5093, 1], 'want': [0.9555999999999999, 3], 'having.': [0.5093, 1], 'hi!': [0.6623, 1], 'youtube': [0.6623, 1], 'lost': [0.6623, 1], 'support!': [0.6623, 1], 'https://t.co/t8zzp4ih6t': [0.6623, 1], '@115867': [0.3612, 1], 'speaking': [0.3612, 1], 'experts': [0.3612, 1], 'tv': [0.0258, 1], 'works': [0.0258, 1], 'fine': [0.0258, 1], 'phone,': [0.0258, 1], 'playing': [0.0258, 1], 'videos': [0.0258, 1], 'mac': [0.0516, 2], 'stutters': [0.0258, 1], 'much': [0.0258, 1], 'sound': [0.0258, 1], 'tv?': [0.0258, 1], '@115868': [0.4954, 2], '11.1.': [0.0258, 1], 'suggest': [0.0258, 1], 'backing': [0.0258, 1], 'updating.': [0.0258, 1], 'then,': [0.0258, 1], 'test': [0.0258, 1], \"here's\": [0.0258, 1], 'how:': [0.0258, 1], 'https://t.co/80yrnjdfdk': [0.0258, 1], 'did,': [0.4019, 1], 'home': [0.4696, 2], 'button.': [0.4696, 1], '11?': [0.4696, 1], '11': [0.4696, 1], 'button': [0.0, 1], 'doesn’t': [0.0, 1], '#ios11': [0.0, 1], '@115869': [0.4019, 1], 'available': [0.4019, 1], 'options.': [0.4019, 1], '@115858!': [-0.8268, 1], 'downloaded': [-0.8268, 1], 'freaking': [-0.8268, 1], 'gave': [-0.8268, 1], 'hell.': [-0.8268, 1], 'recommendations?': [-0.8268, 1], '@115870': [0.3612, 3], 'playing.': [0.2023, 1], 'confirm,': [0.0, 1], 'spotify,': [0.0, 1], 'correct?': [0.0, 1], 'longer': [-0.4215, 1], 'able': [-0.4215, 1], 'control': [-0.4215, 1], 'lockscreen.': [-0.4215, 1], 'missing': [0.3612, 1], 'restating': [0.3612, 1], '#ios1103': [-0.296, 1], 'lock': [-0.296, 1], 'screen?@applesupport': [-0.296, 1], '@115871': [0.6486, 1], 'track.': [0.6486, 1], 'something': [-0.7184, 1], 'ass': [-0.7184, 1], '@115872': [0.23120000000000007, 2], 'https://t.co/1xm0tilvai': [0.6114, 1], 'connect.': [0.23120000000000007, 2], '@uber_support': [-0.5692999999999999, 4], 'told': [0.0, 1], 'requested': [0.0, 1], 'somewhere': [0.0, 1], 'completely': [0.0, 1], 'false.': [0.0, 1], 'apologize': [-0.3802, 1], 'trouble!': [-0.3802, 1], '@115873': [-0.2023, 2], 'false': [-0.2023, 1], 'charges': [-0.2023, 1], 'trip': [-0.2023, 1], 'lexington': [-0.2023, 1], 'ky': [-0.2023, 1], 'saturday.': [-0.2023, 1], '$13': [-0.2023, 1], '#lyingdriver': [-0.2023, 1], '#theft': [-0.2023, 1], '@115874': [0.4574, 1], 'note': [0.9148, 2], 'https://t.co/wftpa6rjwt': [0.4574, 1], 'touch.': [0.9148, 2], 'drove': [0.0, 1], 'department': [0.0, 1], 'travel': [0.0, 1], 'instead': [0.0, 1], 'airport..........': [0.0, 1], 'rufkm': [0.0, 1], '@115875': [0.4574, 1], 'travis!': [0.4574, 1], 'https://t.co/dwdjaokzht': [0.4574, 1], 'i’m': [0.0, 1], 'texts.': [0.0, 1], 'https://t.co/ghefnjqtfg': [0.0, 1], '@115876': [0.0, 1], 'ubereats': [0.0, 1], 'availability': [0.0, 1], 'here;': [0.0, 1], 'https://t.co/3a9yfzqfaf': [0.0, 1], '@115877': [-0.3544, 1], 'threw': [-0.3544, 1], 'door': [-0.3544, 1], 'today': [-0.3544, 1], 'went': [-0.3544, 1], 'order...': [-0.3544, 1], 'area!': [-0.3544, 1], 'what!!!': [-0.3544, 1], 'then!': [-0.3544, 1], 'https://t.co/bgzu59vyjs': [-0.3544, 1], '@115878': [0.0, 1], '@115879': [0.0772, 1], \"wouldn't\": [0.0772, 1], '😔': [0.0772, 1], '??': [-0.6465, 1], 'stranded': [-0.6465, 1], 'wait': [-0.6465, 1], 'automated': [-0.6465, 1], 'ridiculous': [-0.6465, 1]}\n",
            "brilliant no, suddenly\n"
          ]
        },
        {
          "output_type": "error",
          "ename": "IndexError",
          "evalue": "ignored",
          "traceback": [
            "\u001b[0;31m---------------------------------------------------------------------------\u001b[0m",
            "\u001b[0;31mIndexError\u001b[0m                                Traceback (most recent call last)",
            "\u001b[0;32m<ipython-input-24-39b3a40d481e>\u001b[0m in \u001b[0;36m<module>\u001b[0;34m()\u001b[0m\n\u001b[1;32m     48\u001b[0m   \u001b[0mprint\u001b[0m\u001b[0;34m(\u001b[0m\u001b[0mwords_dict\u001b[0m\u001b[0;34m)\u001b[0m\u001b[0;34m\u001b[0m\u001b[0;34m\u001b[0m\u001b[0m\n\u001b[1;32m     49\u001b[0m \u001b[0;34m\u001b[0m\u001b[0m\n\u001b[0;32m---> 50\u001b[0;31m \u001b[0msentiment_ranker\u001b[0m\u001b[0;34m(\u001b[0m\u001b[0;34m)\u001b[0m\u001b[0;34m\u001b[0m\u001b[0;34m\u001b[0m\u001b[0m\n\u001b[0m\u001b[1;32m     51\u001b[0m \u001b[0;34m\u001b[0m\u001b[0m\n\u001b[1;32m     52\u001b[0m \u001b[0;34m\u001b[0m\u001b[0m\n",
            "\u001b[0;32m<ipython-input-24-39b3a40d481e>\u001b[0m in \u001b[0;36msentiment_ranker\u001b[0;34m()\u001b[0m\n\u001b[1;32m     32\u001b[0m       \u001b[0mmiddle_word\u001b[0m \u001b[0;34m=\u001b[0m \u001b[0mword\u001b[0m\u001b[0;34m\u001b[0m\u001b[0;34m\u001b[0m\u001b[0m\n\u001b[1;32m     33\u001b[0m   \u001b[0mprint\u001b[0m\u001b[0;34m(\u001b[0m\u001b[0mhighest_word\u001b[0m\u001b[0;34m,\u001b[0m \u001b[0mmiddle_word\u001b[0m\u001b[0;34m,\u001b[0m \u001b[0mlowest_word\u001b[0m\u001b[0;34m)\u001b[0m\u001b[0;34m\u001b[0m\u001b[0;34m\u001b[0m\u001b[0m\n\u001b[0;32m---> 34\u001b[0;31m   \u001b[0mall_words\u001b[0m\u001b[0;34m[\u001b[0m\u001b[0;36m0\u001b[0m\u001b[0;34m]\u001b[0m \u001b[0;34m=\u001b[0m \u001b[0mlist\u001b[0m\u001b[0;34m(\u001b[0m\u001b[0mset\u001b[0m\u001b[0;34m(\u001b[0m\u001b[0mall_words\u001b[0m\u001b[0;34m[\u001b[0m\u001b[0;36m0\u001b[0m\u001b[0;34m]\u001b[0m\u001b[0;34m.\u001b[0m\u001b[0msplit\u001b[0m\u001b[0;34m(\u001b[0m\u001b[0;34m)\u001b[0m\u001b[0;34m)\u001b[0m\u001b[0;34m)\u001b[0m\u001b[0;34m\u001b[0m\u001b[0;34m\u001b[0m\u001b[0m\n\u001b[0m\u001b[1;32m     35\u001b[0m   \u001b[0mi\u001b[0m \u001b[0;34m=\u001b[0m \u001b[0;36m0\u001b[0m\u001b[0;34m\u001b[0m\u001b[0;34m\u001b[0m\u001b[0m\n\u001b[1;32m     36\u001b[0m   \u001b[0;32mwhile\u001b[0m \u001b[0mi\u001b[0m \u001b[0;34m<\u001b[0m \u001b[0mlen\u001b[0m\u001b[0;34m(\u001b[0m\u001b[0mall_words\u001b[0m\u001b[0;34m[\u001b[0m\u001b[0;36m0\u001b[0m\u001b[0;34m]\u001b[0m\u001b[0;34m)\u001b[0m\u001b[0;34m:\u001b[0m\u001b[0;34m\u001b[0m\u001b[0;34m\u001b[0m\u001b[0m\n",
            "\u001b[0;31mIndexError\u001b[0m: list index out of range"
          ]
        }
      ]
    }
  ]
}