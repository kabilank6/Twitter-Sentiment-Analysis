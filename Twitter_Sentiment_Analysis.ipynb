{
  "nbformat": 4,
  "nbformat_minor": 0,
  "metadata": {
    "colab": {
      "name": "Twitter Sentiment Analysis.ipynb",
      "provenance": [],
      "authorship_tag": "ABX9TyOyOkot31aNjnRsqHsk4P17",
      "include_colab_link": true
    },
    "kernelspec": {
      "name": "python3",
      "display_name": "Python 3"
    },
    "language_info": {
      "name": "python"
    }
  },
  "cells": [
    {
      "cell_type": "markdown",
      "metadata": {
        "id": "view-in-github",
        "colab_type": "text"
      },
      "source": [
        "<a href=\"https://colab.research.google.com/github/kabilank6/Twitter-Sentiment-Analysis/blob/main/Twitter_Sentiment_Analysis.ipynb\" target=\"_parent\"><img src=\"https://colab.research.google.com/assets/colab-badge.svg\" alt=\"Open In Colab\"/></a>"
      ]
    },
    {
      "cell_type": "markdown",
      "metadata": {
        "id": "ciOO_mT4s9VF"
      },
      "source": [
        "We first need to ingest the csv file so we can take its information for further processing later on. From inspection, we see that the data is unstructured (that is, not laid out in things like columns - each relevant line/row just represents what is said in a tweet). \n",
        "\n",
        "In my view, the best way to take the data in is then to open the csv, then read the csv (like a text file - fortunately Python has a library called \"csv\" for this purpose), and to append any relevant rows (that is, that has a tweet) to a list which I will call \"tweet_list\". From this, we have everything we need in one place (the list), and we can do whatever analysis we desire after."
      ]
    },
    {
      "cell_type": "code",
      "metadata": {
        "colab": {
          "base_uri": "https://localhost:8080/"
        },
        "id": "XogGPl2ks-NA",
        "outputId": "a6f60eb3-d03d-4459-c3e5-73bab6fd7b12"
      },
      "source": [
        "import csv\n",
        "\n",
        "tweet_list = []\n",
        "\n",
        "# Can replace \"support_tweets.csv\" with desired csv filename. The assumption here\n",
        "# is that the only row that doesn't contain a tweet other than an empty\n",
        "# row is that which contains the string \"tweet_text\", like in the csv provided.\n",
        "\n",
        "\n",
        "with open(\"support_tweets.csv\") as csv_file:\n",
        "    csv_reader = csv.reader(csv_file)\n",
        "    line_count = 0\n",
        "    for row in csv_reader:\n",
        "      item = \"\".join(row)\n",
        "      if item != \"\" and item != \"tweet_text\":\n",
        "        tweet_list.append(item)\n",
        "print(tweet_list)\n",
        "print(len(tweet_list))"
      ],
      "execution_count": null,
      "outputs": [
        {
          "output_type": "stream",
          "name": "stdout",
          "text": [
            "['@AppleSupport causing the reply to be disregarded and the tapped notification under the keyboard is opened😡😡😡', '@105835 Your business means a lot to us. Please DM your name, zip code and additional details about your concern. ^RR https://t.co/znUu1VJn9r', \"@76328 I really hope you all change but I'm sure you won't! Because you don't have to!\", '@105836 LiveChat is online at the moment - https://t.co/SY94VtU8Kq or contact 03331 031 031 option 1, 4, 3 (Leave a message) to request a call back', \"@VirginTrains see attached error message. I've tried leaving a voicemail several times in the past week https://t.co/NxVZjlYx1k\", '@105836 Have you tried from another device, Miriam ^MM', \"@VirginTrains yep, I've tried laptop too several times over the past week and again today. I've tried different browsers too\", \"@105836 It's working OK from here, Miriam. Does this link help https://t.co/0m2mpH15eh ? ^MM\", \"@VirginTrains I still haven't heard &amp; the number I'm directed to by phone is a dead end &amp; the live chat doesn't work. Can someone call me?\", \"@105836 That's what we're here for Miriam 😊  The team should send you an email shortly ^HP\", '@105837 We can help. Which version of iOS are you on? You can find that in Settings &gt; General &gt; About. Reply in DM. https://t.co/GDrqU22YpT', '@105838 @AppleSupport Me too am suffering , hope the can find a solution', '@AppleSupport hi #apple, I’ve a concern about the latest ios is too slow on #iphone6 and i am not happy with it. Any solution please?', '@105839 Thanks for reaching out to us. We are always happy to help. Send us a DM so we can look into this together. https://t.co/GDrqU22YpT', 'I just updated my phone and suddenly everything takes ages to load wtf @76099 this update sux I hate it fix it bye', \"@105840 Hi there! What device is this happening on? If you could also let us know the Android and Spotify versions you're using, that'd be great /AY\", '@SpotifyCares Thanks! Version 8.4.22.857 armv7 on anker bluetooth speaker on Samsung Galaxy Tab A (2016) Model SM-T280 Does distance from speaker matter?', '@105840 Thanks. The distance could possibly affect playback. Does logging out &gt; restarting your device &gt; logging back in make a difference? /AY', \"@SpotifyCares No, but I've moved speaker to about 1 metre away and it's not skipping at the mo - it was about 3 or 4 metres away before. Fingers crossed!\", \"@105840 That's great to hear. If anything comes up, just let us know. We'll carry on helping out 🙂 /AY\", '@SpotifyCares Brilliant thanks 😊', \"@105840 You're welcome! If there's anything else we can help with, just give us a shout. We're here for you 😉 /CP\", '@76495 @91226 Please help! Spotify Premium skipping through songs constantly on android tablet &amp; bluetooth speaker. Tried everything!', \"@105841 We'd love to help! Please DM us and let us know any steps you've tried since experiencing these behaviors. https://t.co/GDrqU22YpT\", '@AppleSupport after the 11.0.2 my phone just sucks most of the apps are broken, wifi disconnects frequently #apple #ios1102 #painfulupdate', \"@105842 We're sorry your flight has been delayed, Beatner. Are you travelling on the BA8733? If so, the updated departure time we have is 15:30. 1/2\", 'First flight for long time with @British_Airways. Now over one 1h delay for the short jump FRA-LCY and NO one here to provide status updates', \"@105843 Battery life is important, and we're here for you. DM us the iOS version your iPhone is running. We'll go from there. https://t.co/GDrqU22YpT\", 'Okay @76099 I used my fucking phone for 2 minutes and it drains it down 8 fucking percent', '@105844 Thanks for reaching out to us. We are always happy to help. Send us a DM so we can look into this together. https://t.co/GDrqU22YpT', '@AppleSupport Can you get my iPhone 7plus back on the old iOS please?  Battery runs out in half the time, apps now frequently crash.', \"@105844 We'd be happy to help. Send us a DM and we can start there. https://t.co/GDrqU22YpT\", 'You’ve paralysed my phone with your update @76099 grrrrrrrrrr', \"@82476 🤔 We'd like to help Sam, which number is calling you? Please DM us more info so we can advise further. https://t.co/5pyLDJBC6r\", \"@O2 I received this a few weeks ago, since then I've been getting 2/3 calls a day from a telemarketer. Is someone using your name? https://t.co/GLtz4XHcex\", '@105845 I understand this is a frustrating experience, please send a DM with your account information so I can look into this matter for you. -AD', 'My internet is down and xfinity talkin about 24-72 hours... y’all have the game messed up. @77245', '@105676 I understand how you frustrated this situation can be. Please follow us by sending a DM for further assistance. Sprint Cares. -AC', '@76803  I service last 40 min sprint can I get a refund https://t.co/wYPw9hP6wt', \"@105846 We'd like to help. What happens when you try to listen to Apple Music &amp; use WhatsApp? Does the music pause? Let us know in DM. https://t.co/GDrqU22YpT\", 'So the new @76099 update does not let me listen to music and go on whatsapp at the same time?!?', \"@105847 Hi Harry! Help's here. Can you check if logging out &gt; restarting your device &gt; logging back in makes a difference? Keep us posted /MU\", '@SpotifyCares seems to be working at this stage. Will let you know if it happens again. Cheers', \"@105847 Sure thing. We'll keep an eye out for your update /MU\", '@SpotifyCares problem has come back again today. is there some kind of bug?', '@105847 Thanks for giving us a nudge about this. What device, operating system, and Spotify version is this happening on? /AY', \"@SpotifyCares It's on a Macbook Air (early 2014), running High Sierra, spotify version 1.0.65.320.gac7a8e02\", '@105847 Got it. Can you try the steps here for us: https://t.co/EqisDMwZAT? They should help with this. Let us know how it plays out /AY', \"@SpotifyCares i've been having issues with playback. songs have been stopping midway through and won't restart unless i close and reopen app\", \"@105848 Let's take a look. What is the exact iOS you're using? Are you using any specific apps when noticing this? DM us your reply. https://t.co/GDrqU22YpT119290,119291119292\", '@AppleSupport Latest version 😡😡 I have read the help page turned off virtually all apps and location svs too - but in typing this I dropped 3% life', '@AppleSupport Super help - problem solved 😀 once again in love with Apple', '@AppleSupport #ios11update - is still killing my battery within 12 hours - phone is 10 months old - it’s a disgrace - used to get 2 days', '@105849 Thanks for reaching out to us. We are always happy to help. Send us a DM so we can look into this together. https://t.co/GDrqU22YpT', 'Took my phone off charge at 7:20am. 8:03am - 60% battery remaining. @76099 plz I beg you, sort your battery life out😩', \"@105850 Once the points load and you hit the number, you get it immediately! You'll even receive a congrats email. Are you almost there? ^AC\", '@SouthwestAir I am! Thank you for the answer!!', '@southwestair Just curious....will I get the companion pass the exact moment I get enough points? It will I have to wait? Thanks!', \"@105851 We'd like to provide some assistance with this. Tell us more about the issue you're experiencing in DM. We'll go from there. https://t.co/GDrqU22YpT\", '@AppleSupport I need a new code for my I-store. I haven’t recd any but msg is too many sent. Help!', \"@105852 Are you experiencing an issue with your device? If so, DM us with what's going on. We'll see how we can help from there. https://t.co/GDrqU22YpT\", '@76099 @AppleSupport fix this update. It’s horrible', \"@105842 I appreciate it's after 15:30 now, so hopefully you will depart very soon. We're sorry for any inconvenience the delay has caused. 2/2 ^JR\", '@British_Airways Thanks for your answer. Response onsite was that Aircraft will not depart today, so rebooking to @105853 with now 4h delay...', '@105842 Very sorry to hear this.  We hope you get everything sorted.   Kind Regards ^Jools', '@105854 I am sorry for the poor experience. Can you please DM the full service address and name on the account, as we ass... https://t.co/JEZhqGdBMd', \"@Ask_Spectrum It's just in my yard. I've called 4-5 times in 6 weeks. I'm not a customer but it's pretty tempting. I do have some coaxial\", '@76501 I guess this means free cable for the neighborhood. https://t.co/FBgEE9YXPm', \"@105855 Hi Thomas, if a colleague believes the person buying alcohol looks under 25, they will be challenged for ID to prove they're of age. - Paige\", '@Tesco Maybe hire colleagues who can see?', \"@Tesco The point is if it's enforced they do it properly or they don't. Plus take some common-sense and think does that person look over 18?\", '@105855 Hi Thomas, this is correct but this helps our store colleagues judge age and protect them from making underage sales. Amanda', '@Tesco Uk offlicense law is 18. Not 25', \"@105855 Hi Thomas, we operate a Think 25 policy at our stores. I'd be flattered to be ID'd. :-) - Helena\", \"Got id's @Tesco for buying one Adnams Broadside. Is being blind part of the job-spec? I am 35 and 99 kilos.\", '@105856 Hi there, could you try deleting your cache and cookies and reinstalling the app if using it? This should fix the issue :) - Dani', \"@Tesco Will I lose all the shopping I've done if I delete the cache/cookies (not using app)?\", \"@105856 Hi there, as long as you sign out of your account prior to deleting your cache &amp; cookies, you'll still have a full basket :) Thanks - Mike\", '@Tesco Done all that. Still telling me there are no delivery slots whatsoever.', \"@105856 Can you DM me your full name, address and email? I'd be happy to look into this further for you :) Thanks - Mike\", \"Hey @Tesco, your website's broken. It's telling me there are no delivery slots for the next 3 weeks, which I find slightly unlikely.\", '@105857 Is there a particular app that seems to cause these issues more than others? What model iPhone are you using? Join us in DM. https://t.co/GDrqU22YpT', '@AppleSupport I have the latest version iOS. It started immediately after I updated my phone.', \"@105857 We'd like to help if we can. When did this start happening? Which version of iOS are you running currently?\", 'My apps stop working without warning and my phone freezes every five minutes! Love the new update @76099!!!!', '@105858 Hi Agoura, thanks for tweeting. Please refer to this article: https://t.co/BSsgjZARTc &amp; click the link to reply back. ^Rashmi https://t.co/a2xkfCrUG1', '@HPSupport Problem with printhead  Serial# TH536D1HN #hpcswus #hpprnt', '@105859 UPS has a service called My Choice that will allow your packages to be delivered to UPS Store. ^ML  https://t.co/BPZKndqww1 https://t.co/wKJHDXWGRQ', '@105860 I wish Amazon had an option of where I can just get it shipped to the ups store so I can avoid a lot of the struggle', 'They reschedule my shit for tomorrow https://t.co/RsvZcT982t', \"@105861 Hey Sara, sorry to hear of the issues you are having, can I ask if it's the lay out or just the speed of the website responding? TY - Chris\", '@Tesco bit of both - finding the layout cumbersome and when removing an item from faves - getting a huge slowdown. Not keen on the thin green line https://t.co/9281OKEebk', \"@105861 If that doesn't help please DM your full name, address and email including the browser and device so we can log this. Thanks - Lee 2/2\", '@AmazonHelp delivery I paid for today,didn’t arrive.why not?i paid enough for it.where is it??I’m unhappy.refund the delivery charge', \"@115843 You're not lion! She even shows witch way is up! That's quite the wardrobe! ^AC\", '@AmazonHelp Aww your reply made her night!', 'Anna Inspired in idea lab at school to be @115821 package being shipped to Narnia! \"Amazon can go anywhere\" according to Anna. https://t.co/TyvKhuu7su', \"@115844 Oh my! I'm sorry for the troubles! Contact us by Phone or Chat: https://t.co/JzP7hlA23B &amp; we'll be glad to help! ^FR\", \"@AmazonHelp I just said it's been sorted! I've been refunded! I'm just not impressed with the service any more.\", \"@115845 They sent the feckin' order to Germany! Some dozy driver is looking for an address in the wrong country! I'm so done with Amazon!\", '@115844 WHAT IN THE WORLD?!', 'I\\'m NEVER using Amazon again! After waiting in all day as item is \"out for delivery\", they\\'ve only gone and sent it to the WRONG COUNTRY!', \"@115846 That's okay! Thanks for checking! Please contact us by phone or chat and we can look into this: https://t.co/hApLpMlfHN ^BN\", '@115847 @115821 Yeah idk the shipping company and it says “mike Ziemer” signed for it in the mail room at our building lol', '@115846 @115821 Remember my head phones and they brought them within minutes', 'My package from @115821 with my Halloween costume was “delivered” Friday but I don’t have I so searching everywhere for a last minute idea.', \"@115848 I'm sorry for the trouble this has caused you; please contact us so we may lend you a hand: https://t.co/hApLpMlfHN ^WM\", '@115821  https://t.co/Gb0beuA3IN', 'How @115821 packages china https://t.co/fO9vbus18E', \"@115849 Please share your details here:https://t.co/GIJyeYqKE0 and I'll get back to you. 2/2 ^HD\", '@AmazonHelp Details sent. Please check.', '@115849 Thanks for confirming that the details have been shared. Our team will give it a look and reach out shortly. ^AB', '@AmazonHelp Already contacted 3-4 times in the last month. But all I got was assurance that matter is escalated &amp; new status will be provided in 1 day!', \"@115849 Please report this to our support team here: https://t.co/TdDksLo6Mf and we'll look into this. 2/2 ^HD\", \"@115850 @115821 @AmazonHelp @115851 Order# 3632693-6196346. You couldn't deliver EVEN AFTER A MONTH. You should be ashamed of yourself.\", '@115852 We still offer discounts on eligible physical game pre-orders. For further details on Prime benefits: https://t.co/80y2YnlQGJ ^MB', '@AmazonHelp since when you stop giving 20% off videogame pre-orders (amazon prime members) im confused? why?', \"@115853 I'm sorry we let you down! We'd like to make sure this is addressed. Please provide some details here: https://t.co/z6evtFsZI5 ^BN\", 'Just pulled another #Amazon delivery out of the bushes since the #amzl people can’t walk the extra 2 ft to my door. So tired of this.', \"@115854 We're here for you. Which version of the iOS are you running? Check from Settings &gt; General &gt; About.\", '@AppleSupport The newest update. I️ made sure to download it yesterday.', \"@115854 Lets take a closer look into this issue. Select the following link to join us in a DM and we'll go from there. https://t.co/GDrqU22YpT\", '@AppleSupport  https://t.co/NV0yucs0lB', '@AppleSupport why are my I️’s changing not showing up correctly on any of my social media platforms? https://t.co/GyRvpyVnkE', \"@115855 Let's go to DM for the next steps. DM us here: https://t.co/GDrqU22YpT\", '@AppleSupport Tried resetting my settings .. restarting my phone .. all that', '@115855 Any steps tried since it started last night?', '@AppleSupport This is what it looks like https://t.co/XCQU2l4xUB', \"@115855 That's great it has iOS 11.1 as we can rule out being outdated. Any steps tried since this started? Do you recall when it started?\", '@AppleSupport I️ have an iPhone 7 Plus and yes I️ do', \"@115855 We'd like to look into this with you. Which model do you have and is iOS 11.1 installed? Any steps tried so far?\", '@AppleSupport I️ need answers because it’s annoying 🙃', 'Why are my I’s question marks ?', 'What is up with this “ I️ “', \"@115856 Hey, let's work together to figure out what's going on. Meet us in DM and we'll continue from there. https://t.co/GDrqU22YpT\", '@AppleSupport Just sent you all my DM', 'Hey @AppleSupport and anyone else who upgraded to ios11.1, are y’all having issues with capital “I️” in the Mail app? As it puts in “A”?', \"@115857 We'd like to investigate further with you. Send us a DM and we can troubleshoot more from there. https://t.co/GDrqU22YpT\", '@AppleSupport This is what is happening... https://t.co/X3SZSJXfAT', '@115857 Fill us in on what is happening, then we can help out from there.', 'Tf is wrong with my keyboard @115858', \"@115859 We've received your DM and will continue there.\", '@AppleSupport are the call centres closed for the night?', \"@115859 What's going on? We're hapy to help if we can. https://t.co/GDrqU22YpT\", '@115858 @AppleSupport hello are all the lines closed for tonight #help', '@115860 Reach out to us via DM, and we can take a look at this with you. https://t.co/GDrqU22YpT', '@115861 @115862 @AppleSupport I️ upgraded. I️t didn’t work.', '@115862 @AppleSupport I will!', '@AppleSupport @115861 We’re going to need you to share the answers Angela. I️ can’t stand this!', \"@115861 You're in the right place; we'll do all we can to help. To start, let us know what iOS version is installed via DM: https://t.co/GDrqU22YpT\", 'Hello, internet. Can someone explain why this symbol keeps appearing on my phone and when I️ try to type the letter I️? Also @AppleSupport https://t.co/QKwvTLtiN7', \"@115863 Go ahead and send us a DM please. Let us know the country you're in.\", '@AppleSupport I’ve got a screenshot saying my #iPhoneX is reserved for the 3rd then an email saying it’s the 18th... what happened?', \"@115864 We'd like to help, but we'll need more details. What's happening on your device and which model is it? Do you have iOS 11.1?\", '@AppleSupport I have the iPhone 6s Plus and just did the most recent update.', '@115864 To make sure, is iOS 11.1 installed on it currently? Also, any steps tried so far? DM us here: https://t.co/GDrqU22YpT', 'Thank you @AppleSupport I updated my phone and now it is even slower and barely works. Thank you for ruining my phone.😤', '@115865 Thanks! Which iOS version is currently showing in Settings &gt; General &gt; About?', '@AppleSupport iOS 11.0.3', \"@115865 Let's check Settings &gt; General &gt; Software Update. iOS 11.1 was released earlier today. If you see it, please backup &amp; update.\", '@AppleSupport Okey. Thank you! 🤗', \"@115865 Our pleasure. If you're still having issues after a back up and update, contact us back. We're happy to help.\", '@AppleSupport iPhone 7 Plus 😊', '@115865 Hi there! What type of device are we working with?', '@AppleSupport I need the software update urgently. The battery lasts literally half a day 🙍🏼🙁@AppleSupport', '@115865 We offer support via Twitter in English. Get help in Spanish here: https://t.co/IBIY3vMgPj or join https://t.co/OczyRx7IOs', 'Hola @AppleSupport necesito urgente la actualización de software. La batería me dura literal medio día 🙍🏼🙇🏼\\u200d♀️', '@115866 We want to help! DM us and let us know more about the issues you are having. https://t.co/GDrqU22YpT', '@AppleSupport Hi! What is going on? Has Youtube lost it? What can be done about it? Thanks for the support! https://t.co/T8ZZp4IH6t', \"@115867 We'd like to get you speaking to our experts here: https://t.co/IBIY3vMgPj\", '@AppleSupport ? hello', '@AppleSupport my Apple TV works fine with my phone, but when playing videos on Mac air it stutters so much &amp; sound is still on Mac not tv?', \"@115868 We've just released iOS 11.1. We suggest backing up &amp; updating. Then, test the issue again. Here's how: https://t.co/80YRnjDFDk\", '@AppleSupport Yes it did, 11.0.3', '@115868 Let us help with your Home button. Did this issue start right after iOS 11? Which version of iOS 11 are you running?', 'MY HOME BUTTON DOESN’T WORK #IOS11 @AppleSupport', \"@115869 We're here to help. Meet us in DM and we can check on available options. https://t.co/GDrqU22YpT\", 'Hey @115858! Last time I downloaded an update my freaking phone gave me hell. Any recommendations?', \"@115870 DM us the specific iOS version you are running currently and we'll continue there. https://t.co/GDrqU22YpT\", '@AppleSupport I can not find an option to get it there. It was just always there when playing.', '@115870 Just to confirm, this is only happening with Spotify, correct?', '@AppleSupport The app is still there. But no longer able to control it from the lockscreen.', '@115870 Thanks for reaching out to us. Are you experiencing the missing app after restating your device?', 'After update #ios1103 no spotify on my lock screen?@AppleSupport', \"@115871 We want to help you get your battery life back on track. Please DM and we'll look at it together. https://t.co/GDrqU22YpT\", 'I just need @115858 to do something about the battery life because it sucks ass', '@115872 Happy to follow up! Contact us via https://t.co/1xM0TILvAI so we can connect.', '@Uber_Support Already did that was told we requested to dropped off somewhere different which is completely false.', \"@115872 We apologize for the trouble! Send us a DM with your email address and we'll connect.\", '@115873 you need to correct false charges from a trip in Lexington KY on Saturday. I want my $13 back #lyingdriver #theft', \"@115874 We're here to help! Send us a note here, https://t.co/WFtPA6RjWt and our team will be in touch.\", '@115873 my driver just drove me to the department of air travel instead of the airport.......... rufkm', \"@115875 We’re here to help, Travis! Send us a note via https://t.co/dwDjAokZht and we'll be in touch.\", '@Uber_Support I’m not getting your texts. https://t.co/GhefNjQTfg', '@115876 For more info about UberEats availability click here; https://t.co/3A9YFZQFaF', \"@115877 got this threw my door today went to order... sorry we don't deliver to your area! What!!! Why did I get this then! https://t.co/BGzU59vYJS\", '@115878 We have received your DM and will follow up with you there.', \"@Uber_Support @115879 wouldn't do this to me 😔\", \"@Uber_Support Why is there no phone number ?? I'm literally stranded and now I have to wait for an automated reply this is ridiculous\"]\n",
            "199\n"
          ]
        }
      ]
    },
    {
      "cell_type": "markdown",
      "metadata": {
        "id": "UxSsp2yBs5Lt"
      },
      "source": [
        "As outlined in Task One, we want to extract the sentiment of each tweet. Before going into this however, it is worth breaking down what we can expect from each sentence, so we understand how to deal with each sentence. To achieve this, we can look at examples from the csv file we are given.\n",
        "\n",
        "'@AppleSupport causing the reply to be disregarded and the tapped notification under the keyboard is opened😡😡😡' is an example.\n",
        "\n",
        "We can see from this (and cross inspection with other examples) that there are three specific common parts to each tweet. The @ part (for the Twitter handle of someone being mentioned), the message (in this case it's in one sentence, however in others the tweet's message could be covered through at least two sentences). Lastly, in this and several other cases, there often is an emoji included somewhere (in the sentence mentioned above, we can see it is angry). In some tweets, we can see initials of a company representative replying to a query (for example, \"RR\" in \"@105835 Your business means a lot to us. Please DM your name, zip code and additional details about your concern. ^RR https://t.co/znUu1VJn9r\"). Due to the limited time of this task, I will assume that this will be treated as neutral (as we intuitively would want to treat it) by any sentiment analysis library we use.\n",
        "\n",
        "With this in mind, perhaps the only part of the tweet that might be worth giving special treatment to is the emoji. From doing some research, I found [this Stack Overflow post](https://stackoverflow.com/questions/57744725/how-to-convert-emojis-emoticons-to-their-meanings-in-python) that suggested a good way to objectively deal with the emoji is to convert it to a relevant word that describes its sentiment well (our choice of model will handle the rest after with the rest of the text). However, it seems unweldy to copy a lot of code for a few specific emojis, and it would be nice if there was a library that did this for us. Fortunately, [VADER Sentiment Analysis](https://pypi.org/project/vader-sentiment/) seems to be good with dealing with UTF-8 encoded emojis, and social media style sentiment analysis, so it is worth looking into it."
      ]
    },
    {
      "cell_type": "code",
      "metadata": {
        "colab": {
          "base_uri": "https://localhost:8080/"
        },
        "id": "iX6sIKUM1i5y",
        "outputId": "c7caa0b4-df31-4750-ac64-05d0dcc4249d"
      },
      "source": [
        "!pip install vaderSentiment"
      ],
      "execution_count": null,
      "outputs": [
        {
          "output_type": "stream",
          "name": "stdout",
          "text": [
            "Collecting vaderSentiment\n",
            "  Downloading vaderSentiment-3.3.2-py2.py3-none-any.whl (125 kB)\n",
            "\u001b[?25l\r\u001b[K     |██▋                             | 10 kB 18.2 MB/s eta 0:00:01\r\u001b[K     |█████▏                          | 20 kB 23.1 MB/s eta 0:00:01\r\u001b[K     |███████▉                        | 30 kB 26.9 MB/s eta 0:00:01\r\u001b[K     |██████████▍                     | 40 kB 20.4 MB/s eta 0:00:01\r\u001b[K     |█████████████                   | 51 kB 8.6 MB/s eta 0:00:01\r\u001b[K     |███████████████▋                | 61 kB 7.6 MB/s eta 0:00:01\r\u001b[K     |██████████████████▏             | 71 kB 8.5 MB/s eta 0:00:01\r\u001b[K     |████████████████████▉           | 81 kB 9.0 MB/s eta 0:00:01\r\u001b[K     |███████████████████████▍        | 92 kB 9.8 MB/s eta 0:00:01\r\u001b[K     |██████████████████████████      | 102 kB 8.1 MB/s eta 0:00:01\r\u001b[K     |████████████████████████████▋   | 112 kB 8.1 MB/s eta 0:00:01\r\u001b[K     |███████████████████████████████▏| 122 kB 8.1 MB/s eta 0:00:01\r\u001b[K     |████████████████████████████████| 125 kB 8.1 MB/s \n",
            "\u001b[?25hRequirement already satisfied: requests in /usr/local/lib/python3.7/dist-packages (from vaderSentiment) (2.23.0)\n",
            "Requirement already satisfied: chardet<4,>=3.0.2 in /usr/local/lib/python3.7/dist-packages (from requests->vaderSentiment) (3.0.4)\n",
            "Requirement already satisfied: certifi>=2017.4.17 in /usr/local/lib/python3.7/dist-packages (from requests->vaderSentiment) (2021.5.30)\n",
            "Requirement already satisfied: urllib3!=1.25.0,!=1.25.1,<1.26,>=1.21.1 in /usr/local/lib/python3.7/dist-packages (from requests->vaderSentiment) (1.24.3)\n",
            "Requirement already satisfied: idna<3,>=2.5 in /usr/local/lib/python3.7/dist-packages (from requests->vaderSentiment) (2.10)\n",
            "Installing collected packages: vaderSentiment\n",
            "Successfully installed vaderSentiment-3.3.2\n"
          ]
        }
      ]
    },
    {
      "cell_type": "code",
      "metadata": {
        "colab": {
          "base_uri": "https://localhost:8080/"
        },
        "id": "A3TUE6Xsw_8j",
        "outputId": "ca016f97-95da-4912-c422-6df0e3c2afe0"
      },
      "source": [
        "from vaderSentiment.vaderSentiment import SentimentIntensityAnalyzer\n",
        "analyzer = SentimentIntensityAnalyzer()\n",
        "for sentence in tweet_list:\n",
        "    vs = analyzer.polarity_scores(sentence)\n",
        "    print(\"{:-<65} {}\".format(sentence, str(vs)))"
      ],
      "execution_count": null,
      "outputs": [
        {
          "output_type": "stream",
          "name": "stdout",
          "text": [
            "@AppleSupport causing the reply to be disregarded and the tapped notification under the keyboard is opened😡😡😡 {'neg': 0.11, 'neu': 0.89, 'pos': 0.0, 'compound': -0.3818}\n",
            "@105835 Your business means a lot to us. Please DM your name, zip code and additional details about your concern. ^RR https://t.co/znUu1VJn9r {'neg': 0.0, 'neu': 0.901, 'pos': 0.099, 'compound': 0.3182}\n",
            "@76328 I really hope you all change but I'm sure you won't! Because you don't have to! {'neg': 0.0, 'neu': 0.727, 'pos': 0.273, 'compound': 0.6839}\n",
            "@105836 LiveChat is online at the moment - https://t.co/SY94VtU8Kq or contact 03331 031 031 option 1, 4, 3 (Leave a message) to request a call back {'neg': 0.046, 'neu': 0.954, 'pos': 0.0, 'compound': -0.0516}\n",
            "@VirginTrains see attached error message. I've tried leaving a voicemail several times in the past week https://t.co/NxVZjlYx1k {'neg': 0.144, 'neu': 0.856, 'pos': 0.0, 'compound': -0.4019}\n",
            "@105836 Have you tried from another device, Miriam ^MM----------- {'neg': 0.0, 'neu': 1.0, 'pos': 0.0, 'compound': 0.0}\n",
            "@VirginTrains yep, I've tried laptop too several times over the past week and again today. I've tried different browsers too {'neg': 0.0, 'neu': 0.896, 'pos': 0.104, 'compound': 0.296}\n",
            "@105836 It's working OK from here, Miriam. Does this link help https://t.co/0m2mpH15eh ? ^MM {'neg': 0.0, 'neu': 0.681, 'pos': 0.319, 'compound': 0.6841}\n",
            "@VirginTrains I still haven't heard &amp; the number I'm directed to by phone is a dead end &amp; the live chat doesn't work. Can someone call me? {'neg': 0.141, 'neu': 0.817, 'pos': 0.042, 'compound': -0.6124}\n",
            "@105836 That's what we're here for Miriam 😊  The team should send you an email shortly ^HP {'neg': 0.0, 'neu': 0.76, 'pos': 0.24, 'compound': 0.7184}\n",
            "@105837 We can help. Which version of iOS are you on? You can find that in Settings &gt; General &gt; About. Reply in DM. https://t.co/GDrqU22YpT {'neg': 0.0, 'neu': 0.899, 'pos': 0.101, 'compound': 0.4019}\n",
            "@105838 @AppleSupport Me too am suffering , hope the can find a solution {'neg': 0.169, 'neu': 0.546, 'pos': 0.284, 'compound': 0.2732}\n",
            "@AppleSupport hi #apple, I’ve a concern about the latest ios is too slow on #iphone6 and i am not happy with it. Any solution please? {'neg': 0.101, 'neu': 0.743, 'pos': 0.155, 'compound': 0.1536}\n",
            "@105839 Thanks for reaching out to us. We are always happy to help. Send us a DM so we can look into this together. https://t.co/GDrqU22YpT {'neg': 0.0, 'neu': 0.654, 'pos': 0.346, 'compound': 0.8779}\n",
            "I just updated my phone and suddenly everything takes ages to load wtf @76099 this update sux I hate it fix it bye {'neg': 0.333, 'neu': 0.667, 'pos': 0.0, 'compound': -0.875}\n",
            "@105840 Hi there! What device is this happening on? If you could also let us know the Android and Spotify versions you're using, that'd be great /AY {'neg': 0.0, 'neu': 0.855, 'pos': 0.145, 'compound': 0.6588}\n",
            "@SpotifyCares Thanks! Version 8.4.22.857 armv7 on anker bluetooth speaker on Samsung Galaxy Tab A (2016) Model SM-T280 Does distance from speaker matter? {'neg': 0.0, 'neu': 0.823, 'pos': 0.177, 'compound': 0.5093}\n",
            "@105840 Thanks. The distance could possibly affect playback. Does logging out &gt; restarting your device &gt; logging back in make a difference? /AY {'neg': 0.0, 'neu': 0.884, 'pos': 0.116, 'compound': 0.4404}\n",
            "@SpotifyCares No, but I've moved speaker to about 1 metre away and it's not skipping at the mo - it was about 3 or 4 metres away before. Fingers crossed! {'neg': 0.0, 'neu': 1.0, 'pos': 0.0, 'compound': 0.0}\n",
            "@105840 That's great to hear. If anything comes up, just let us know. We'll carry on helping out 🙂 /AY {'neg': 0.0, 'neu': 0.678, 'pos': 0.322, 'compound': 0.8405}\n",
            "@SpotifyCares Brilliant thanks 😊--------------------------------- {'neg': 0.0, 'neu': 0.24, 'pos': 0.76, 'compound': 0.9136}\n",
            "@105840 You're welcome! If there's anything else we can help with, just give us a shout. We're here for you 😉 /CP {'neg': 0.0, 'neu': 0.778, 'pos': 0.222, 'compound': 0.7177}\n",
            "@76495 @91226 Please help! Spotify Premium skipping through songs constantly on android tablet &amp; bluetooth speaker. Tried everything! {'neg': 0.0, 'neu': 0.741, 'pos': 0.259, 'compound': 0.6792}\n",
            "@105841 We'd love to help! Please DM us and let us know any steps you've tried since experiencing these behaviors. https://t.co/GDrqU22YpT {'neg': 0.0, 'neu': 0.655, 'pos': 0.345, 'compound': 0.8588}\n",
            "@AppleSupport after the 11.0.2 my phone just sucks most of the apps are broken, wifi disconnects frequently #apple #ios1102 #painfulupdate {'neg': 0.237, 'neu': 0.763, 'pos': 0.0, 'compound': -0.6808}\n",
            "@105842 We're sorry your flight has been delayed, Beatner. Are you travelling on the BA8733? If so, the updated departure time we have is 15:30. 1/2 {'neg': 0.118, 'neu': 0.882, 'pos': 0.0, 'compound': -0.296}\n",
            "First flight for long time with @British_Airways. Now over one 1h delay for the short jump FRA-LCY and NO one here to provide status updates {'neg': 0.185, 'neu': 0.815, 'pos': 0.0, 'compound': -0.6408}\n",
            "@105843 Battery life is important, and we're here for you. DM us the iOS version your iPhone is running. We'll go from there. https://t.co/GDrqU22YpT {'neg': 0.0, 'neu': 0.927, 'pos': 0.073, 'compound': 0.2023}\n",
            "Okay @76099 I used my fucking phone for 2 minutes and it drains it down 8 fucking percent {'neg': 0.0, 'neu': 0.899, 'pos': 0.101, 'compound': 0.2263}\n",
            "@105844 Thanks for reaching out to us. We are always happy to help. Send us a DM so we can look into this together. https://t.co/GDrqU22YpT {'neg': 0.0, 'neu': 0.654, 'pos': 0.346, 'compound': 0.8779}\n",
            "@AppleSupport Can you get my iPhone 7plus back on the old iOS please?  Battery runs out in half the time, apps now frequently crash. {'neg': 0.1, 'neu': 0.815, 'pos': 0.085, 'compound': -0.1027}\n",
            "@105844 We'd be happy to help. Send us a DM and we can start there. https://t.co/GDrqU22YpT {'neg': 0.0, 'neu': 0.686, 'pos': 0.314, 'compound': 0.7506}\n",
            "You’ve paralysed my phone with your update @76099 grrrrrrrrrr---- {'neg': 0.0, 'neu': 1.0, 'pos': 0.0, 'compound': 0.0}\n",
            "@82476 🤔 We'd like to help Sam, which number is calling you? Please DM us more info so we can advise further. https://t.co/5pyLDJBC6r {'neg': 0.0, 'neu': 0.694, 'pos': 0.306, 'compound': 0.7783}\n",
            "@O2 I received this a few weeks ago, since then I've been getting 2/3 calls a day from a telemarketer. Is someone using your name? https://t.co/GLtz4XHcex {'neg': 0.0, 'neu': 1.0, 'pos': 0.0, 'compound': 0.0}\n",
            "@105845 I understand this is a frustrating experience, please send a DM with your account information so I can look into this matter for you. -AD {'neg': 0.099, 'neu': 0.784, 'pos': 0.117, 'compound': -0.1217}\n",
            "My internet is down and xfinity talkin about 24-72 hours... y’all have the game messed up. @77245 {'neg': 0.13, 'neu': 0.87, 'pos': 0.0, 'compound': -0.34}\n",
            "@105676 I understand how you frustrated this situation can be. Please follow us by sending a DM for further assistance. Sprint Cares. -AC {'neg': 0.118, 'neu': 0.697, 'pos': 0.185, 'compound': 0.2263}\n",
            "@76803  I service last 40 min sprint can I get a refund https://t.co/wYPw9hP6wt {'neg': 0.0, 'neu': 1.0, 'pos': 0.0, 'compound': 0.0}\n",
            "@105846 We'd like to help. What happens when you try to listen to Apple Music &amp; use WhatsApp? Does the music pause? Let us know in DM. https://t.co/GDrqU22YpT {'neg': 0.0, 'neu': 0.824, 'pos': 0.176, 'compound': 0.6767}\n",
            "So the new @76099 update does not let me listen to music and go on whatsapp at the same time?!? {'neg': 0.0, 'neu': 1.0, 'pos': 0.0, 'compound': 0.0}\n",
            "@105847 Hi Harry! Help's here. Can you check if logging out &gt; restarting your device &gt; logging back in makes a difference? Keep us posted /MU {'neg': 0.0, 'neu': 1.0, 'pos': 0.0, 'compound': 0.0}\n",
            "@SpotifyCares seems to be working at this stage. Will let you know if it happens again. Cheers {'neg': 0.0, 'neu': 0.838, 'pos': 0.162, 'compound': 0.4767}\n",
            "@105847 Sure thing. We'll keep an eye out for your update /MU---- {'neg': 0.0, 'neu': 0.827, 'pos': 0.173, 'compound': 0.3182}\n",
            "@SpotifyCares problem has come back again today. is there some kind of bug? {'neg': 0.184, 'neu': 0.816, 'pos': 0.0, 'compound': -0.4019}\n",
            "@105847 Thanks for giving us a nudge about this. What device, operating system, and Spotify version is this happening on? /AY {'neg': 0.0, 'neu': 0.782, 'pos': 0.218, 'compound': 0.6486}\n",
            "@SpotifyCares It's on a Macbook Air (early 2014), running High Sierra, spotify version 1.0.65.320.gac7a8e02 {'neg': 0.0, 'neu': 1.0, 'pos': 0.0, 'compound': 0.0}\n",
            "@105847 Got it. Can you try the steps here for us: https://t.co/EqisDMwZAT? They should help with this. Let us know how it plays out /AY {'neg': 0.0, 'neu': 0.83, 'pos': 0.17, 'compound': 0.5719}\n",
            "@SpotifyCares i've been having issues with playback. songs have been stopping midway through and won't restart unless i close and reopen app {'neg': 0.071, 'neu': 0.929, 'pos': 0.0, 'compound': -0.1531}\n",
            "@105848 Let's take a look. What is the exact iOS you're using? Are you using any specific apps when noticing this? DM us your reply. https://t.co/GDrqU22YpT119290,119291119292 {'neg': 0.0, 'neu': 1.0, 'pos': 0.0, 'compound': 0.0}\n",
            "@AppleSupport Latest version 😡😡 I have read the help page turned off virtually all apps and location svs too - but in typing this I dropped 3% life {'neg': 0.0, 'neu': 0.942, 'pos': 0.058, 'compound': 0.2144}\n",
            "@AppleSupport Super help - problem solved 😀 once again in love with Apple {'neg': 0.103, 'neu': 0.307, 'pos': 0.59, 'compound': 0.9136}\n",
            "@AppleSupport #ios11update - is still killing my battery within 12 hours - phone is 10 months old - it’s a disgrace - used to get 2 days {'neg': 0.233, 'neu': 0.767, 'pos': 0.0, 'compound': -0.8225}\n",
            "@105849 Thanks for reaching out to us. We are always happy to help. Send us a DM so we can look into this together. https://t.co/GDrqU22YpT {'neg': 0.0, 'neu': 0.654, 'pos': 0.346, 'compound': 0.8779}\n",
            "Took my phone off charge at 7:20am. 8:03am - 60% battery remaining. @76099 plz I beg you, sort your battery life out😩 {'neg': 0.083, 'neu': 0.866, 'pos': 0.051, 'compound': -0.2023}\n",
            "@105850 Once the points load and you hit the number, you get it immediately! You'll even receive a congrats email. Are you almost there? ^AC {'neg': 0.0, 'neu': 0.822, 'pos': 0.178, 'compound': 0.6114}\n",
            "@SouthwestAir I am! Thank you for the answer!!------------------- {'neg': 0.0, 'neu': 0.675, 'pos': 0.325, 'compound': 0.5229}\n",
            "@southwestair Just curious....will I get the companion pass the exact moment I get enough points? It will I have to wait? Thanks! {'neg': 0.0, 'neu': 0.855, 'pos': 0.145, 'compound': 0.5502}\n",
            "@105851 We'd like to provide some assistance with this. Tell us more about the issue you're experiencing in DM. We'll go from there. https://t.co/GDrqU22YpT {'neg': 0.0, 'neu': 0.902, 'pos': 0.098, 'compound': 0.3612}\n",
            "@AppleSupport I need a new code for my I-store. I haven’t recd any but msg is too many sent. Help! {'neg': 0.0, 'neu': 0.832, 'pos': 0.168, 'compound': 0.5916}\n",
            "@105852 Are you experiencing an issue with your device? If so, DM us with what's going on. We'll see how we can help from there. https://t.co/GDrqU22YpT {'neg': 0.0, 'neu': 0.903, 'pos': 0.097, 'compound': 0.4019}\n",
            "@76099 @AppleSupport fix this update. It’s horrible-------------- {'neg': 0.368, 'neu': 0.632, 'pos': 0.0, 'compound': -0.5423}\n",
            "@105842 I appreciate it's after 15:30 now, so hopefully you will depart very soon. We're sorry for any inconvenience the delay has caused. 2/2 ^JR {'neg': 0.195, 'neu': 0.614, 'pos': 0.19, 'compound': 0.209}\n",
            "@British_Airways Thanks for your answer. Response onsite was that Aircraft will not depart today, so rebooking to @105853 with now 4h delay... {'neg': 0.091, 'neu': 0.794, 'pos': 0.115, 'compound': 0.1531}\n",
            "@105842 Very sorry to hear this.  We hope you get everything sorted.   Kind Regards ^Jools {'neg': 0.08, 'neu': 0.603, 'pos': 0.317, 'compound': 0.6915}\n",
            "@105854 I am sorry for the poor experience. Can you please DM the full service address and name on the account, as we ass... https://t.co/JEZhqGdBMd {'neg': 0.253, 'neu': 0.673, 'pos': 0.074, 'compound': -0.6808}\n",
            "@Ask_Spectrum It's just in my yard. I've called 4-5 times in 6 weeks. I'm not a customer but it's pretty tempting. I do have some coaxial {'neg': 0.0, 'neu': 0.853, 'pos': 0.147, 'compound': 0.6486}\n",
            "@76501 I guess this means free cable for the neighborhood. https://t.co/FBgEE9YXPm {'neg': 0.0, 'neu': 0.752, 'pos': 0.248, 'compound': 0.5106}\n",
            "@105855 Hi Thomas, if a colleague believes the person buying alcohol looks under 25, they will be challenged for ID to prove they're of age. - Paige {'neg': 0.051, 'neu': 0.949, 'pos': 0.0, 'compound': -0.1027}\n",
            "@Tesco Maybe hire colleagues who can see?------------------------ {'neg': 0.0, 'neu': 1.0, 'pos': 0.0, 'compound': 0.0}\n",
            "@Tesco The point is if it's enforced they do it properly or they don't. Plus take some common-sense and think does that person look over 18? {'neg': 0.0, 'neu': 1.0, 'pos': 0.0, 'compound': 0.0}\n",
            "@105855 Hi Thomas, this is correct but this helps our store colleagues judge age and protect them from making underage sales. Amanda {'neg': 0.0, 'neu': 0.73, 'pos': 0.27, 'compound': 0.8126}\n",
            "@Tesco Uk offlicense law is 18. Not 25--------------------------- {'neg': 0.0, 'neu': 1.0, 'pos': 0.0, 'compound': 0.0}\n",
            "@105855 Hi Thomas, we operate a Think 25 policy at our stores. I'd be flattered to be ID'd. :-) - Helena {'neg': 0.0, 'neu': 0.795, 'pos': 0.205, 'compound': 0.5994}\n",
            "Got id's @Tesco for buying one Adnams Broadside. Is being blind part of the job-spec? I am 35 and 99 kilos. {'neg': 0.119, 'neu': 0.881, 'pos': 0.0, 'compound': -0.4019}\n",
            "@105856 Hi there, could you try deleting your cache and cookies and reinstalling the app if using it? This should fix the issue :) - Dani {'neg': 0.0, 'neu': 0.893, 'pos': 0.107, 'compound': 0.4588}\n",
            "@Tesco Will I lose all the shopping I've done if I delete the cache/cookies (not using app)? {'neg': 0.144, 'neu': 0.856, 'pos': 0.0, 'compound': -0.4019}\n",
            "@105856 Hi there, as long as you sign out of your account prior to deleting your cache &amp; cookies, you'll still have a full basket :) Thanks - Mike {'neg': 0.0, 'neu': 0.821, 'pos': 0.179, 'compound': 0.7096}\n",
            "@Tesco Done all that. Still telling me there are no delivery slots whatsoever. {'neg': 0.155, 'neu': 0.845, 'pos': 0.0, 'compound': -0.296}\n",
            "@105856 Can you DM me your full name, address and email? I'd be happy to look into this further for you :) Thanks - Mike {'neg': 0.0, 'neu': 0.696, 'pos': 0.304, 'compound': 0.8625}\n",
            "Hey @Tesco, your website's broken. It's telling me there are no delivery slots for the next 3 weeks, which I find slightly unlikely. {'neg': 0.202, 'neu': 0.798, 'pos': 0.0, 'compound': -0.6486}\n",
            "@105857 Is there a particular app that seems to cause these issues more than others? What model iPhone are you using? Join us in DM. https://t.co/GDrqU22YpT {'neg': 0.0, 'neu': 0.907, 'pos': 0.093, 'compound': 0.3736}\n",
            "@AppleSupport I have the latest version iOS. It started immediately after I updated my phone. {'neg': 0.0, 'neu': 1.0, 'pos': 0.0, 'compound': 0.0}\n",
            "@105857 We'd like to help if we can. When did this start happening? Which version of iOS are you running currently? {'neg': 0.0, 'neu': 0.774, 'pos': 0.226, 'compound': 0.6767}\n",
            "My apps stop working without warning and my phone freezes every five minutes! Love the new update @76099!!!! {'neg': 0.134, 'neu': 0.567, 'pos': 0.3, 'compound': 0.7273}\n",
            "@105858 Hi Agoura, thanks for tweeting. Please refer to this article: https://t.co/BSsgjZARTc &amp; click the link to reply back. ^Rashmi https://t.co/a2xkfCrUG1 {'neg': 0.0, 'neu': 0.785, 'pos': 0.215, 'compound': 0.6369}\n",
            "@HPSupport Problem with printhead  Serial# TH536D1HN #hpcswus #hpprnt {'neg': 0.278, 'neu': 0.722, 'pos': 0.0, 'compound': -0.4019}\n",
            "@105859 UPS has a service called My Choice that will allow your packages to be delivered to UPS Store. ^ML  https://t.co/BPZKndqww1 https://t.co/wKJHDXWGRQ {'neg': 0.0, 'neu': 0.917, 'pos': 0.083, 'compound': 0.2263}\n",
            "@105860 I wish Amazon had an option of where I can just get it shipped to the ups store so I can avoid a lot of the struggle {'neg': 0.144, 'neu': 0.724, 'pos': 0.133, 'compound': -0.0935}\n",
            "They reschedule my shit for tomorrow https://t.co/RsvZcT982t----- {'neg': 0.375, 'neu': 0.625, 'pos': 0.0, 'compound': -0.5574}\n",
            "@105861 Hey Sara, sorry to hear of the issues you are having, can I ask if it's the lay out or just the speed of the website responding? TY - Chris {'neg': 0.039, 'neu': 0.862, 'pos': 0.099, 'compound': 0.4648}\n",
            "@Tesco bit of both - finding the layout cumbersome and when removing an item from faves - getting a huge slowdown. Not keen on the thin green line https://t.co/9281OKEebk {'neg': 0.067, 'neu': 0.86, 'pos': 0.073, 'compound': 0.049}\n",
            "@105861 If that doesn't help please DM your full name, address and email including the browser and device so we can log this. Thanks - Lee 2/2 {'neg': 0.134, 'neu': 0.76, 'pos': 0.107, 'compound': 0.04}\n",
            "@AmazonHelp delivery I paid for today,didn’t arrive.why not?i paid enough for it.where is it??I’m unhappy.refund the delivery charge {'neg': 0.0, 'neu': 1.0, 'pos': 0.0, 'compound': 0.0}\n",
            "@115843 You're not lion! She even shows witch way is up! That's quite the wardrobe! ^AC {'neg': 0.184, 'neu': 0.816, 'pos': 0.0, 'compound': -0.5229}\n",
            "@AmazonHelp Aww your reply made her night!----------------------- {'neg': 0.0, 'neu': 1.0, 'pos': 0.0, 'compound': 0.0}\n",
            "Anna Inspired in idea lab at school to be @115821 package being shipped to Narnia! \"Amazon can go anywhere\" according to Anna. https://t.co/TyvKhuu7su {'neg': 0.0, 'neu': 0.802, 'pos': 0.198, 'compound': 0.636}\n",
            "@115844 Oh my! I'm sorry for the troubles! Contact us by Phone or Chat: https://t.co/JzP7hlA23B &amp; we'll be glad to help! ^FR {'neg': 0.149, 'neu': 0.623, 'pos': 0.228, 'compound': 0.5067}\n",
            "@AmazonHelp I just said it's been sorted! I've been refunded! I'm just not impressed with the service any more. {'neg': 0.148, 'neu': 0.852, 'pos': 0.0, 'compound': -0.4833}\n",
            "@115845 They sent the feckin' order to Germany! Some dozy driver is looking for an address in the wrong country! I'm so done with Amazon! {'neg': 0.137, 'neu': 0.795, 'pos': 0.068, 'compound': -0.4611}\n",
            "@115844 WHAT IN THE WORLD?!-------------------------------------- {'neg': 0.0, 'neu': 1.0, 'pos': 0.0, 'compound': 0.0}\n",
            "I'm NEVER using Amazon again! After waiting in all day as item is \"out for delivery\", they've only gone and sent it to the WRONG COUNTRY! {'neg': 0.198, 'neu': 0.802, 'pos': 0.0, 'compound': -0.7127}\n",
            "@115846 That's okay! Thanks for checking! Please contact us by phone or chat and we can look into this: https://t.co/hApLpMlfHN ^BN {'neg': 0.0, 'neu': 0.701, 'pos': 0.299, 'compound': 0.7707}\n",
            "@115847 @115821 Yeah idk the shipping company and it says “mike Ziemer” signed for it in the mail room at our building lol {'neg': 0.053, 'neu': 0.758, 'pos': 0.189, 'compound': 0.5574}\n",
            "@115846 @115821 Remember my head phones and they brought them within minutes {'neg': 0.0, 'neu': 1.0, 'pos': 0.0, 'compound': 0.0}\n",
            "My package from @115821 with my Halloween costume was “delivered” Friday but I don’t have I so searching everywhere for a last minute idea. {'neg': 0.0, 'neu': 1.0, 'pos': 0.0, 'compound': 0.0}\n",
            "@115848 I'm sorry for the trouble this has caused you; please contact us so we may lend you a hand: https://t.co/hApLpMlfHN ^WM {'neg': 0.145, 'neu': 0.655, 'pos': 0.2, 'compound': 0.3612}\n",
            "@115821  https://t.co/Gb0beuA3IN--------------------------------- {'neg': 0.0, 'neu': 1.0, 'pos': 0.0, 'compound': 0.0}\n",
            "How @115821 packages china https://t.co/fO9vbus18E--------------- {'neg': 0.0, 'neu': 1.0, 'pos': 0.0, 'compound': 0.0}\n",
            "@115849 Please share your details here:https://t.co/GIJyeYqKE0 and I'll get back to you. 2/2 ^HD {'neg': 0.0, 'neu': 0.727, 'pos': 0.273, 'compound': 0.5423}\n",
            "@AmazonHelp Details sent. Please check.-------------------------- {'neg': 0.0, 'neu': 0.635, 'pos': 0.365, 'compound': 0.3182}\n",
            "@115849 Thanks for confirming that the details have been shared. Our team will give it a look and reach out shortly. ^AB {'neg': 0.0, 'neu': 0.748, 'pos': 0.252, 'compound': 0.6597}\n",
            "@AmazonHelp Already contacted 3-4 times in the last month. But all I got was assurance that matter is escalated &amp; new status will be provided in 1 day! {'neg': 0.0, 'neu': 0.851, 'pos': 0.149, 'compound': 0.5487}\n",
            "@115849 Please report this to our support team here: https://t.co/TdDksLo6Mf and we'll look into this. 2/2 ^HD {'neg': 0.0, 'neu': 0.75, 'pos': 0.25, 'compound': 0.6124}\n",
            "@115850 @115821 @AmazonHelp @115851 Order# 3632693-6196346. You couldn't deliver EVEN AFTER A MONTH. You should be ashamed of yourself. {'neg': 0.147, 'neu': 0.853, 'pos': 0.0, 'compound': -0.4767}\n",
            "@115852 We still offer discounts on eligible physical game pre-orders. For further details on Prime benefits: https://t.co/80y2YnlQGJ ^MB {'neg': 0.0, 'neu': 0.867, 'pos': 0.133, 'compound': 0.3818}\n",
            "@AmazonHelp since when you stop giving 20% off videogame pre-orders (amazon prime members) im confused? why? {'neg': 0.232, 'neu': 0.573, 'pos': 0.196, 'compound': -0.1926}\n",
            "@115853 I'm sorry we let you down! We'd like to make sure this is addressed. Please provide some details here: https://t.co/z6evtFsZI5 ^BN {'neg': 0.049, 'neu': 0.674, 'pos': 0.277, 'compound': 0.7263}\n",
            "Just pulled another #Amazon delivery out of the bushes since the #amzl people can’t walk the extra 2 ft to my door. So tired of this. {'neg': 0.127, 'neu': 0.815, 'pos': 0.058, 'compound': -0.4663}\n",
            "@115854 We're here for you. Which version of the iOS are you running? Check from Settings &gt; General &gt; About. {'neg': 0.0, 'neu': 1.0, 'pos': 0.0, 'compound': 0.0}\n",
            "@AppleSupport The newest update. I️ made sure to download it yesterday. {'neg': 0.0, 'neu': 0.813, 'pos': 0.187, 'compound': 0.3182}\n",
            "@115854 Lets take a closer look into this issue. Select the following link to join us in a DM and we'll go from there. https://t.co/GDrqU22YpT {'neg': 0.0, 'neu': 0.916, 'pos': 0.084, 'compound': 0.296}\n",
            "@AppleSupport  https://t.co/NV0yucs0lB--------------------------- {'neg': 0.0, 'neu': 1.0, 'pos': 0.0, 'compound': 0.0}\n",
            "@AppleSupport why are my I️’s changing not showing up correctly on any of my social media platforms? https://t.co/GyRvpyVnkE {'neg': 0.0, 'neu': 1.0, 'pos': 0.0, 'compound': 0.0}\n",
            "@115855 Let's go to DM for the next steps. DM us here: https://t.co/GDrqU22YpT {'neg': 0.0, 'neu': 1.0, 'pos': 0.0, 'compound': 0.0}\n",
            "@AppleSupport Tried resetting my settings .. restarting my phone .. all that {'neg': 0.0, 'neu': 1.0, 'pos': 0.0, 'compound': 0.0}\n",
            "@115855 Any steps tried since it started last night?------------- {'neg': 0.0, 'neu': 1.0, 'pos': 0.0, 'compound': 0.0}\n",
            "@AppleSupport This is what it looks like https://t.co/XCQU2l4xUB- {'neg': 0.0, 'neu': 0.737, 'pos': 0.263, 'compound': 0.3612}\n",
            "@115855 That's great it has iOS 11.1 as we can rule out being outdated. Any steps tried since this started? Do you recall when it started? {'neg': 0.0, 'neu': 0.849, 'pos': 0.151, 'compound': 0.6662}\n",
            "@AppleSupport I️ have an iPhone 7 Plus and yes I️ do------------- {'neg': 0.0, 'neu': 0.787, 'pos': 0.213, 'compound': 0.4019}\n",
            "@115855 We'd like to look into this with you. Which model do you have and is iOS 11.1 installed? Any steps tried so far? {'neg': 0.0, 'neu': 0.889, 'pos': 0.111, 'compound': 0.4329}\n",
            "@AppleSupport I️ need answers because it’s annoying 🙃------------ {'neg': 0.252, 'neu': 0.748, 'pos': 0.0, 'compound': -0.4019}\n",
            "Why are my I’s question marks ?---------------------------------- {'neg': 0.0, 'neu': 1.0, 'pos': 0.0, 'compound': 0.0}\n",
            "What is up with this “ I️ “-------------------------------------- {'neg': 0.0, 'neu': 1.0, 'pos': 0.0, 'compound': 0.0}\n",
            "@115856 Hey, let's work together to figure out what's going on. Meet us in DM and we'll continue from there. https://t.co/GDrqU22YpT {'neg': 0.0, 'neu': 1.0, 'pos': 0.0, 'compound': 0.0}\n",
            "@AppleSupport Just sent you all my DM---------------------------- {'neg': 0.0, 'neu': 1.0, 'pos': 0.0, 'compound': 0.0}\n",
            "Hey @AppleSupport and anyone else who upgraded to ios11.1, are y’all having issues with capital “I️” in the Mail app? As it puts in “A”? {'neg': 0.0, 'neu': 1.0, 'pos': 0.0, 'compound': 0.0}\n",
            "@115857 We'd like to investigate further with you. Send us a DM and we can troubleshoot more from there. https://t.co/GDrqU22YpT {'neg': 0.0, 'neu': 0.807, 'pos': 0.193, 'compound': 0.5106}\n",
            "@AppleSupport This is what is happening... https://t.co/X3SZSJXfAT {'neg': 0.0, 'neu': 1.0, 'pos': 0.0, 'compound': 0.0}\n",
            "@115857 Fill us in on what is happening, then we can help out from there. {'neg': 0.0, 'neu': 0.838, 'pos': 0.162, 'compound': 0.4019}\n",
            "Tf is wrong with my keyboard @115858----------------------------- {'neg': 0.341, 'neu': 0.659, 'pos': 0.0, 'compound': -0.4767}\n",
            "@115859 We've received your DM and will continue there.---------- {'neg': 0.0, 'neu': 1.0, 'pos': 0.0, 'compound': 0.0}\n",
            "@AppleSupport are the call centres closed for the night?--------- {'neg': 0.0, 'neu': 1.0, 'pos': 0.0, 'compound': 0.0}\n",
            "@115859 What's going on? We're hapy to help if we can. https://t.co/GDrqU22YpT {'neg': 0.0, 'neu': 0.803, 'pos': 0.197, 'compound': 0.4019}\n",
            "@115858 @AppleSupport hello are all the lines closed for tonight #help {'neg': 0.0, 'neu': 0.787, 'pos': 0.213, 'compound': 0.4019}\n",
            "@115860 Reach out to us via DM, and we can take a look at this with you. https://t.co/GDrqU22YpT {'neg': 0.0, 'neu': 0.939, 'pos': 0.061, 'compound': 0.0258}\n",
            "@115861 @115862 @AppleSupport I️ upgraded. I️t didn’t work.------ {'neg': 0.0, 'neu': 1.0, 'pos': 0.0, 'compound': 0.0}\n",
            "@115862 @AppleSupport I will!------------------------------------ {'neg': 0.0, 'neu': 1.0, 'pos': 0.0, 'compound': 0.0}\n",
            "@AppleSupport @115861 We’re going to need you to share the answers Angela. I️ can’t stand this! {'neg': 0.0, 'neu': 0.858, 'pos': 0.142, 'compound': 0.3595}\n",
            "@115861 You're in the right place; we'll do all we can to help. To start, let us know what iOS version is installed via DM: https://t.co/GDrqU22YpT {'neg': 0.0, 'neu': 0.903, 'pos': 0.097, 'compound': 0.4019}\n",
            "Hello, internet. Can someone explain why this symbol keeps appearing on my phone and when I️ try to type the letter I️? Also @AppleSupport https://t.co/QKwvTLtiN7 {'neg': 0.0, 'neu': 1.0, 'pos': 0.0, 'compound': 0.0}\n",
            "@115863 Go ahead and send us a DM please. Let us know the country you're in. {'neg': 0.0, 'neu': 0.867, 'pos': 0.133, 'compound': 0.3182}\n",
            "@AppleSupport I’ve got a screenshot saying my #iPhoneX is reserved for the 3rd then an email saying it’s the 18th... what happened? {'neg': 0.0, 'neu': 1.0, 'pos': 0.0, 'compound': 0.0}\n",
            "@115864 We'd like to help, but we'll need more details. What's happening on your device and which model is it? Do you have iOS 11.1? {'neg': 0.0, 'neu': 0.853, 'pos': 0.147, 'compound': 0.4515}\n",
            "@AppleSupport I have the iPhone 6s Plus and just did the most recent update. {'neg': 0.0, 'neu': 1.0, 'pos': 0.0, 'compound': 0.0}\n",
            "@115864 To make sure, is iOS 11.1 installed on it currently? Also, any steps tried so far? DM us here: https://t.co/GDrqU22YpT {'neg': 0.0, 'neu': 0.883, 'pos': 0.117, 'compound': 0.3939}\n",
            "Thank you @AppleSupport I updated my phone and now it is even slower and barely works. Thank you for ruining my phone.😤 {'neg': 0.065, 'neu': 0.781, 'pos': 0.154, 'compound': 0.4062}\n",
            "@115865 Thanks! Which iOS version is currently showing in Settings &gt; General &gt; About? {'neg': 0.0, 'neu': 0.803, 'pos': 0.197, 'compound': 0.4926}\n",
            "@AppleSupport iOS 11.0.3----------------------------------------- {'neg': 0.0, 'neu': 1.0, 'pos': 0.0, 'compound': 0.0}\n",
            "@115865 Let's check Settings &gt; General &gt; Software Update. iOS 11.1 was released earlier today. If you see it, please backup &amp; update. {'neg': 0.0, 'neu': 0.905, 'pos': 0.095, 'compound': 0.3182}\n",
            "@AppleSupport Okey. Thank you! 🤗--------------------------------- {'neg': 0.0, 'neu': 0.417, 'pos': 0.583, 'compound': 0.68}\n",
            "@115865 Our pleasure. If you're still having issues after a back up and update, contact us back. We're happy to help. {'neg': 0.0, 'neu': 0.641, 'pos': 0.359, 'compound': 0.8779}\n",
            "@AppleSupport iPhone 7 Plus 😊------------------------------------ {'neg': 0.0, 'neu': 0.538, 'pos': 0.462, 'compound': 0.7184}\n",
            "@115865 Hi there! What type of device are we working with?------- {'neg': 0.0, 'neu': 1.0, 'pos': 0.0, 'compound': 0.0}\n",
            "@AppleSupport I need the software update urgently. The battery lasts literally half a day 🙍🏼🙁@AppleSupport {'neg': 0.184, 'neu': 0.816, 'pos': 0.0, 'compound': -0.5434}\n",
            "@115865 We offer support via Twitter in English. Get help in Spanish here: https://t.co/IBIY3vMgPj or join https://t.co/OczyRx7IOs {'neg': 0.0, 'neu': 0.648, 'pos': 0.352, 'compound': 0.765}\n",
            "Hola @AppleSupport necesito urgente la actualización de software. La batería me dura literal medio día 🙍🏼🙇🏼‍♀️ {'neg': 0.085, 'neu': 0.915, 'pos': 0.0, 'compound': -0.34}\n",
            "@115866 We want to help! DM us and let us know more about the issues you are having. https://t.co/GDrqU22YpT {'neg': 0.0, 'neu': 0.798, 'pos': 0.202, 'compound': 0.5093}\n",
            "@AppleSupport Hi! What is going on? Has Youtube lost it? What can be done about it? Thanks for the support! https://t.co/T8ZZp4IH6t {'neg': 0.085, 'neu': 0.666, 'pos': 0.249, 'compound': 0.6623}\n",
            "@115867 We'd like to get you speaking to our experts here: https://t.co/IBIY3vMgPj {'neg': 0.0, 'neu': 0.815, 'pos': 0.185, 'compound': 0.3612}\n",
            "@AppleSupport ? hello-------------------------------------------- {'neg': 0.0, 'neu': 1.0, 'pos': 0.0, 'compound': 0.0}\n",
            "@AppleSupport my Apple TV works fine with my phone, but when playing videos on Mac air it stutters so much &amp; sound is still on Mac not tv? {'neg': 0.08, 'neu': 0.804, 'pos': 0.116, 'compound': 0.0258}\n",
            "@115868 We've just released iOS 11.1. We suggest backing up &amp; updating. Then, test the issue again. Here's how: https://t.co/80YRnjDFDk {'neg': 0.0, 'neu': 0.945, 'pos': 0.055, 'compound': 0.0258}\n",
            "@AppleSupport Yes it did, 11.0.3--------------------------------- {'neg': 0.0, 'neu': 0.597, 'pos': 0.403, 'compound': 0.4019}\n",
            "@115868 Let us help with your Home button. Did this issue start right after iOS 11? Which version of iOS 11 are you running? {'neg': 0.0, 'neu': 0.883, 'pos': 0.117, 'compound': 0.4696}\n",
            "MY HOME BUTTON DOESN’T WORK #IOS11 @AppleSupport----------------- {'neg': 0.0, 'neu': 1.0, 'pos': 0.0, 'compound': 0.0}\n",
            "@115869 We're here to help. Meet us in DM and we can check on available options. https://t.co/GDrqU22YpT {'neg': 0.0, 'neu': 0.856, 'pos': 0.144, 'compound': 0.4019}\n",
            "Hey @115858! Last time I downloaded an update my freaking phone gave me hell. Any recommendations? {'neg': 0.355, 'neu': 0.645, 'pos': 0.0, 'compound': -0.8268}\n",
            "@115870 DM us the specific iOS version you are running currently and we'll continue there. https://t.co/GDrqU22YpT {'neg': 0.0, 'neu': 1.0, 'pos': 0.0, 'compound': 0.0}\n",
            "@AppleSupport I can not find an option to get it there. It was just always there when playing. {'neg': 0.0, 'neu': 0.904, 'pos': 0.096, 'compound': 0.2023}\n",
            "@115870 Just to confirm, this is only happening with Spotify, correct? {'neg': 0.0, 'neu': 1.0, 'pos': 0.0, 'compound': 0.0}\n",
            "@AppleSupport The app is still there. But no longer able to control it from the lockscreen. {'neg': 0.157, 'neu': 0.843, 'pos': 0.0, 'compound': -0.4215}\n",
            "@115870 Thanks for reaching out to us. Are you experiencing the missing app after restating your device? {'neg': 0.105, 'neu': 0.67, 'pos': 0.225, 'compound': 0.3612}\n",
            "After update #ios1103 no spotify on my lock screen?@AppleSupport- {'neg': 0.216, 'neu': 0.784, 'pos': 0.0, 'compound': -0.296}\n",
            "@115871 We want to help you get your battery life back on track. Please DM and we'll look at it together. https://t.co/GDrqU22YpT {'neg': 0.0, 'neu': 0.751, 'pos': 0.249, 'compound': 0.6486}\n",
            "I just need @115858 to do something about the battery life because it sucks ass {'neg': 0.316, 'neu': 0.684, 'pos': 0.0, 'compound': -0.7184}\n",
            "@115872 Happy to follow up! Contact us via https://t.co/1xM0TILvAI so we can connect. {'neg': 0.0, 'neu': 0.75, 'pos': 0.25, 'compound': 0.6114}\n",
            "@Uber_Support Already did that was told we requested to dropped off somewhere different which is completely false. {'neg': 0.0, 'neu': 1.0, 'pos': 0.0, 'compound': 0.0}\n",
            "@115872 We apologize for the trouble! Send us a DM with your email address and we'll connect. {'neg': 0.154, 'neu': 0.774, 'pos': 0.072, 'compound': -0.3802}\n",
            "@115873 you need to correct false charges from a trip in Lexington KY on Saturday. I want my $13 back #lyingdriver #theft {'neg': 0.09, 'neu': 0.855, 'pos': 0.056, 'compound': -0.2023}\n",
            "@115874 We're here to help! Send us a note here, https://t.co/WFtPA6RjWt and our team will be in touch. {'neg': 0.0, 'neu': 0.85, 'pos': 0.15, 'compound': 0.4574}\n",
            "@115873 my driver just drove me to the department of air travel instead of the airport.......... rufkm {'neg': 0.0, 'neu': 1.0, 'pos': 0.0, 'compound': 0.0}\n",
            "@115875 We’re here to help, Travis! Send us a note via https://t.co/dwDjAokZht and we'll be in touch. {'neg': 0.0, 'neu': 0.842, 'pos': 0.158, 'compound': 0.4574}\n",
            "@Uber_Support I’m not getting your texts. https://t.co/GhefNjQTfg {'neg': 0.0, 'neu': 1.0, 'pos': 0.0, 'compound': 0.0}\n",
            "@115876 For more info about UberEats availability click here; https://t.co/3A9YFZQFaF {'neg': 0.0, 'neu': 1.0, 'pos': 0.0, 'compound': 0.0}\n",
            "@115877 got this threw my door today went to order... sorry we don't deliver to your area! What!!! Why did I get this then! https://t.co/BGzU59vYJS {'neg': 0.093, 'neu': 0.907, 'pos': 0.0, 'compound': -0.3544}\n",
            "@115878 We have received your DM and will follow up with you there. {'neg': 0.0, 'neu': 1.0, 'pos': 0.0, 'compound': 0.0}\n",
            "@Uber_Support @115879 wouldn't do this to me 😔------------------- {'neg': 0.0, 'neu': 0.86, 'pos': 0.14, 'compound': 0.0772}\n",
            "@Uber_Support Why is there no phone number ?? I'm literally stranded and now I have to wait for an automated reply this is ridiculous {'neg': 0.23, 'neu': 0.77, 'pos': 0.0, 'compound': -0.6465}\n"
          ]
        }
      ]
    },
    {
      "cell_type": "markdown",
      "metadata": {
        "id": "6SsFZvzL7a8t"
      },
      "source": [
        "From reading the VaderSentiment documentation, for our purposes (classifying sentiment for each whole tweet), we can assess each tweet's compound score (the 'compound' field in the SentimentIntensityAnalyzer). Due to time constraints, I will use this as a proxy for our sentiment classification.\n",
        "\n",
        "Based off the documentation, a compound score of at least 0.05 is positive, less than this but over -0.05 is neutral, and less than or equal to -0.05 is negative.\n",
        "\n",
        "With this in mind, I will classify each tweet as such, and subsequently create a pie chart that visualises the proportion of tweets that are considered as positive, neutral and negative."
      ]
    },
    {
      "cell_type": "code",
      "metadata": {
        "colab": {
          "base_uri": "https://localhost:8080/",
          "height": 264
        },
        "id": "_Qx1KHbo82PZ",
        "outputId": "9cac9368-89e2-426b-8754-71a363f8d041"
      },
      "source": [
        "sentiment_dictionary = {\"positive\": 0, \"neutral\": 0, \"negative\": 0}\n",
        "\n",
        "for sentence in tweet_list:\n",
        "    vs = analyzer.polarity_scores(sentence)\n",
        "    compound = vs[\"compound\"]\n",
        "    if compound >= 0.05:\n",
        "      sentiment_dictionary[\"positive\"] += 1\n",
        "    elif compound > -0.05:\n",
        "      sentiment_dictionary[\"neutral\"] += 1\n",
        "    else:\n",
        "      sentiment_dictionary[\"negative\"] += 1\n",
        "\n",
        "import matplotlib.pyplot as plt\n",
        "import numpy as np\n",
        "\n",
        "plot_labels = []\n",
        "quantities = []\n",
        "for item in sentiment_dictionary:\n",
        "  plot_labels.append(item)\n",
        "  quantity = sentiment_dictionary[item]\n",
        "  quantities.append(quantity)\n",
        "quantities = np.array(quantities)\n",
        "colours = [\"#99ff99\",\"#66b3ff\", \"#ff9999\"]\n",
        "plt.pie(quantities, labels = plot_labels, colors=colours, autopct=\"%1.1f%%\")\n",
        "plt.title('Sentiment of Tweets Displayed')\n",
        "plt.show() "
      ],
      "execution_count": null,
      "outputs": [
        {
          "output_type": "display_data",
          "data": {
            "image/png": "[encoded data removed]",
            "text/plain": [
              "<Figure size 432x288 with 1 Axes>"
            ]
          },
          "metadata": {}
        }
      ]
    },
    {
      "cell_type": "markdown",
      "metadata": {
        "id": "3BesasdPAI6m"
      },
      "source": [
        "It seems that most of our tweets (in the initial dataset at least) are considered as positive by the model. This is interesting, and perhaps we want to investigate how trustworthy these results are. In my view, this would be achieved by inspecting results that are classified as 'positive' individually."
      ]
    },
    {
      "cell_type": "code",
      "metadata": {
        "colab": {
          "base_uri": "https://localhost:8080/"
        },
        "id": "MV2U9KxzCy9a",
        "outputId": "2e61a698-0645-490c-e2c5-3a17233fa493"
      },
      "source": [
        "for sentence in tweet_list:\n",
        "    vs = analyzer.polarity_scores(sentence)\n",
        "    compound = vs[\"compound\"]\n",
        "    if compound >= 0.05:\n",
        "      print(\"\\'{}\\' has a compound of {}!\".format(sentence, compound))"
      ],
      "execution_count": null,
      "outputs": [
        {
          "output_type": "stream",
          "name": "stdout",
          "text": [
            "'@105835 Your business means a lot to us. Please DM your name, zip code and additional details about your concern. ^RR https://t.co/znUu1VJn9r' has a compound of 0.3182!\n",
            "'@76328 I really hope you all change but I'm sure you won't! Because you don't have to!' has a compound of 0.6839!\n",
            "'@VirginTrains yep, I've tried laptop too several times over the past week and again today. I've tried different browsers too' has a compound of 0.296!\n",
            "'@105836 It's working OK from here, Miriam. Does this link help https://t.co/0m2mpH15eh ? ^MM' has a compound of 0.6841!\n",
            "'@105836 That's what we're here for Miriam 😊  The team should send you an email shortly ^HP' has a compound of 0.7184!\n",
            "'@105837 We can help. Which version of iOS are you on? You can find that in Settings &gt; General &gt; About. Reply in DM. https://t.co/GDrqU22YpT' has a compound of 0.4019!\n",
            "'@105838 @AppleSupport Me too am suffering , hope the can find a solution' has a compound of 0.2732!\n",
            "'@AppleSupport hi #apple, I’ve a concern about the latest ios is too slow on #iphone6 and i am not happy with it. Any solution please?' has a compound of 0.1536!\n",
            "'@105839 Thanks for reaching out to us. We are always happy to help. Send us a DM so we can look into this together. https://t.co/GDrqU22YpT' has a compound of 0.8779!\n",
            "'@105840 Hi there! What device is this happening on? If you could also let us know the Android and Spotify versions you're using, that'd be great /AY' has a compound of 0.6588!\n",
            "'@SpotifyCares Thanks! Version 8.4.22.857 armv7 on anker bluetooth speaker on Samsung Galaxy Tab A (2016) Model SM-T280 Does distance from speaker matter?' has a compound of 0.5093!\n",
            "'@105840 Thanks. The distance could possibly affect playback. Does logging out &gt; restarting your device &gt; logging back in make a difference? /AY' has a compound of 0.4404!\n",
            "'@105840 That's great to hear. If anything comes up, just let us know. We'll carry on helping out 🙂 /AY' has a compound of 0.8405!\n",
            "'@SpotifyCares Brilliant thanks 😊' has a compound of 0.9136!\n",
            "'@105840 You're welcome! If there's anything else we can help with, just give us a shout. We're here for you 😉 /CP' has a compound of 0.7177!\n",
            "'@76495 @91226 Please help! Spotify Premium skipping through songs constantly on android tablet &amp; bluetooth speaker. Tried everything!' has a compound of 0.6792!\n",
            "'@105841 We'd love to help! Please DM us and let us know any steps you've tried since experiencing these behaviors. https://t.co/GDrqU22YpT' has a compound of 0.8588!\n",
            "'@105843 Battery life is important, and we're here for you. DM us the iOS version your iPhone is running. We'll go from there. https://t.co/GDrqU22YpT' has a compound of 0.2023!\n",
            "'Okay @76099 I used my fucking phone for 2 minutes and it drains it down 8 fucking percent' has a compound of 0.2263!\n",
            "'@105844 Thanks for reaching out to us. We are always happy to help. Send us a DM so we can look into this together. https://t.co/GDrqU22YpT' has a compound of 0.8779!\n",
            "'@105844 We'd be happy to help. Send us a DM and we can start there. https://t.co/GDrqU22YpT' has a compound of 0.7506!\n",
            "'@82476 🤔 We'd like to help Sam, which number is calling you? Please DM us more info so we can advise further. https://t.co/5pyLDJBC6r' has a compound of 0.7783!\n",
            "'@105676 I understand how you frustrated this situation can be. Please follow us by sending a DM for further assistance. Sprint Cares. -AC' has a compound of 0.2263!\n",
            "'@105846 We'd like to help. What happens when you try to listen to Apple Music &amp; use WhatsApp? Does the music pause? Let us know in DM. https://t.co/GDrqU22YpT' has a compound of 0.6767!\n",
            "'@SpotifyCares seems to be working at this stage. Will let you know if it happens again. Cheers' has a compound of 0.4767!\n",
            "'@105847 Sure thing. We'll keep an eye out for your update /MU' has a compound of 0.3182!\n",
            "'@105847 Thanks for giving us a nudge about this. What device, operating system, and Spotify version is this happening on? /AY' has a compound of 0.6486!\n",
            "'@105847 Got it. Can you try the steps here for us: https://t.co/EqisDMwZAT? They should help with this. Let us know how it plays out /AY' has a compound of 0.5719!\n",
            "'@AppleSupport Latest version 😡😡 I have read the help page turned off virtually all apps and location svs too - but in typing this I dropped 3% life' has a compound of 0.2144!\n",
            "'@AppleSupport Super help - problem solved 😀 once again in love with Apple' has a compound of 0.9136!\n",
            "'@105849 Thanks for reaching out to us. We are always happy to help. Send us a DM so we can look into this together. https://t.co/GDrqU22YpT' has a compound of 0.8779!\n",
            "'@105850 Once the points load and you hit the number, you get it immediately! You'll even receive a congrats email. Are you almost there? ^AC' has a compound of 0.6114!\n",
            "'@SouthwestAir I am! Thank you for the answer!!' has a compound of 0.5229!\n",
            "'@southwestair Just curious....will I get the companion pass the exact moment I get enough points? It will I have to wait? Thanks!' has a compound of 0.5502!\n",
            "'@105851 We'd like to provide some assistance with this. Tell us more about the issue you're experiencing in DM. We'll go from there. https://t.co/GDrqU22YpT' has a compound of 0.3612!\n",
            "'@AppleSupport I need a new code for my I-store. I haven’t recd any but msg is too many sent. Help!' has a compound of 0.5916!\n",
            "'@105852 Are you experiencing an issue with your device? If so, DM us with what's going on. We'll see how we can help from there. https://t.co/GDrqU22YpT' has a compound of 0.4019!\n",
            "'@105842 I appreciate it's after 15:30 now, so hopefully you will depart very soon. We're sorry for any inconvenience the delay has caused. 2/2 ^JR' has a compound of 0.209!\n",
            "'@British_Airways Thanks for your answer. Response onsite was that Aircraft will not depart today, so rebooking to @105853 with now 4h delay...' has a compound of 0.1531!\n",
            "'@105842 Very sorry to hear this.  We hope you get everything sorted.   Kind Regards ^Jools' has a compound of 0.6915!\n",
            "'@Ask_Spectrum It's just in my yard. I've called 4-5 times in 6 weeks. I'm not a customer but it's pretty tempting. I do have some coaxial' has a compound of 0.6486!\n",
            "'@76501 I guess this means free cable for the neighborhood. https://t.co/FBgEE9YXPm' has a compound of 0.5106!\n",
            "'@105855 Hi Thomas, this is correct but this helps our store colleagues judge age and protect them from making underage sales. Amanda' has a compound of 0.8126!\n",
            "'@105855 Hi Thomas, we operate a Think 25 policy at our stores. I'd be flattered to be ID'd. :-) - Helena' has a compound of 0.5994!\n",
            "'@105856 Hi there, could you try deleting your cache and cookies and reinstalling the app if using it? This should fix the issue :) - Dani' has a compound of 0.4588!\n",
            "'@105856 Hi there, as long as you sign out of your account prior to deleting your cache &amp; cookies, you'll still have a full basket :) Thanks - Mike' has a compound of 0.7096!\n",
            "'@105856 Can you DM me your full name, address and email? I'd be happy to look into this further for you :) Thanks - Mike' has a compound of 0.8625!\n",
            "'@105857 Is there a particular app that seems to cause these issues more than others? What model iPhone are you using? Join us in DM. https://t.co/GDrqU22YpT' has a compound of 0.3736!\n",
            "'@105857 We'd like to help if we can. When did this start happening? Which version of iOS are you running currently?' has a compound of 0.6767!\n",
            "'My apps stop working without warning and my phone freezes every five minutes! Love the new update @76099!!!!' has a compound of 0.7273!\n",
            "'@105858 Hi Agoura, thanks for tweeting. Please refer to this article: https://t.co/BSsgjZARTc &amp; click the link to reply back. ^Rashmi https://t.co/a2xkfCrUG1' has a compound of 0.6369!\n",
            "'@105859 UPS has a service called My Choice that will allow your packages to be delivered to UPS Store. ^ML  https://t.co/BPZKndqww1 https://t.co/wKJHDXWGRQ' has a compound of 0.2263!\n",
            "'@105861 Hey Sara, sorry to hear of the issues you are having, can I ask if it's the lay out or just the speed of the website responding? TY - Chris' has a compound of 0.4648!\n",
            "'Anna Inspired in idea lab at school to be @115821 package being shipped to Narnia! \"Amazon can go anywhere\" according to Anna. https://t.co/TyvKhuu7su' has a compound of 0.636!\n",
            "'@115844 Oh my! I'm sorry for the troubles! Contact us by Phone or Chat: https://t.co/JzP7hlA23B &amp; we'll be glad to help! ^FR' has a compound of 0.5067!\n",
            "'@115846 That's okay! Thanks for checking! Please contact us by phone or chat and we can look into this: https://t.co/hApLpMlfHN ^BN' has a compound of 0.7707!\n",
            "'@115847 @115821 Yeah idk the shipping company and it says “mike Ziemer” signed for it in the mail room at our building lol' has a compound of 0.5574!\n",
            "'@115848 I'm sorry for the trouble this has caused you; please contact us so we may lend you a hand: https://t.co/hApLpMlfHN ^WM' has a compound of 0.3612!\n",
            "'@115849 Please share your details here:https://t.co/GIJyeYqKE0 and I'll get back to you. 2/2 ^HD' has a compound of 0.5423!\n",
            "'@AmazonHelp Details sent. Please check.' has a compound of 0.3182!\n",
            "'@115849 Thanks for confirming that the details have been shared. Our team will give it a look and reach out shortly. ^AB' has a compound of 0.6597!\n",
            "'@AmazonHelp Already contacted 3-4 times in the last month. But all I got was assurance that matter is escalated &amp; new status will be provided in 1 day!' has a compound of 0.5487!\n",
            "'@115849 Please report this to our support team here: https://t.co/TdDksLo6Mf and we'll look into this. 2/2 ^HD' has a compound of 0.6124!\n",
            "'@115852 We still offer discounts on eligible physical game pre-orders. For further details on Prime benefits: https://t.co/80y2YnlQGJ ^MB' has a compound of 0.3818!\n",
            "'@115853 I'm sorry we let you down! We'd like to make sure this is addressed. Please provide some details here: https://t.co/z6evtFsZI5 ^BN' has a compound of 0.7263!\n",
            "'@AppleSupport The newest update. I️ made sure to download it yesterday.' has a compound of 0.3182!\n",
            "'@115854 Lets take a closer look into this issue. Select the following link to join us in a DM and we'll go from there. https://t.co/GDrqU22YpT' has a compound of 0.296!\n",
            "'@AppleSupport This is what it looks like https://t.co/XCQU2l4xUB' has a compound of 0.3612!\n",
            "'@115855 That's great it has iOS 11.1 as we can rule out being outdated. Any steps tried since this started? Do you recall when it started?' has a compound of 0.6662!\n",
            "'@AppleSupport I️ have an iPhone 7 Plus and yes I️ do' has a compound of 0.4019!\n",
            "'@115855 We'd like to look into this with you. Which model do you have and is iOS 11.1 installed? Any steps tried so far?' has a compound of 0.4329!\n",
            "'@115857 We'd like to investigate further with you. Send us a DM and we can troubleshoot more from there. https://t.co/GDrqU22YpT' has a compound of 0.5106!\n",
            "'@115857 Fill us in on what is happening, then we can help out from there.' has a compound of 0.4019!\n",
            "'@115859 What's going on? We're hapy to help if we can. https://t.co/GDrqU22YpT' has a compound of 0.4019!\n",
            "'@115858 @AppleSupport hello are all the lines closed for tonight #help' has a compound of 0.4019!\n",
            "'@AppleSupport @115861 We’re going to need you to share the answers Angela. I️ can’t stand this!' has a compound of 0.3595!\n",
            "'@115861 You're in the right place; we'll do all we can to help. To start, let us know what iOS version is installed via DM: https://t.co/GDrqU22YpT' has a compound of 0.4019!\n",
            "'@115863 Go ahead and send us a DM please. Let us know the country you're in.' has a compound of 0.3182!\n",
            "'@115864 We'd like to help, but we'll need more details. What's happening on your device and which model is it? Do you have iOS 11.1?' has a compound of 0.4515!\n",
            "'@115864 To make sure, is iOS 11.1 installed on it currently? Also, any steps tried so far? DM us here: https://t.co/GDrqU22YpT' has a compound of 0.3939!\n",
            "'Thank you @AppleSupport I updated my phone and now it is even slower and barely works. Thank you for ruining my phone.😤' has a compound of 0.4062!\n",
            "'@115865 Thanks! Which iOS version is currently showing in Settings &gt; General &gt; About?' has a compound of 0.4926!\n",
            "'@115865 Let's check Settings &gt; General &gt; Software Update. iOS 11.1 was released earlier today. If you see it, please backup &amp; update.' has a compound of 0.3182!\n",
            "'@AppleSupport Okey. Thank you! 🤗' has a compound of 0.68!\n",
            "'@115865 Our pleasure. If you're still having issues after a back up and update, contact us back. We're happy to help.' has a compound of 0.8779!\n",
            "'@AppleSupport iPhone 7 Plus 😊' has a compound of 0.7184!\n",
            "'@115865 We offer support via Twitter in English. Get help in Spanish here: https://t.co/IBIY3vMgPj or join https://t.co/OczyRx7IOs' has a compound of 0.765!\n",
            "'@115866 We want to help! DM us and let us know more about the issues you are having. https://t.co/GDrqU22YpT' has a compound of 0.5093!\n",
            "'@AppleSupport Hi! What is going on? Has Youtube lost it? What can be done about it? Thanks for the support! https://t.co/T8ZZp4IH6t' has a compound of 0.6623!\n",
            "'@115867 We'd like to get you speaking to our experts here: https://t.co/IBIY3vMgPj' has a compound of 0.3612!\n",
            "'@AppleSupport Yes it did, 11.0.3' has a compound of 0.4019!\n",
            "'@115868 Let us help with your Home button. Did this issue start right after iOS 11? Which version of iOS 11 are you running?' has a compound of 0.4696!\n",
            "'@115869 We're here to help. Meet us in DM and we can check on available options. https://t.co/GDrqU22YpT' has a compound of 0.4019!\n",
            "'@AppleSupport I can not find an option to get it there. It was just always there when playing.' has a compound of 0.2023!\n",
            "'@115870 Thanks for reaching out to us. Are you experiencing the missing app after restating your device?' has a compound of 0.3612!\n",
            "'@115871 We want to help you get your battery life back on track. Please DM and we'll look at it together. https://t.co/GDrqU22YpT' has a compound of 0.6486!\n",
            "'@115872 Happy to follow up! Contact us via https://t.co/1xM0TILvAI so we can connect.' has a compound of 0.6114!\n",
            "'@115874 We're here to help! Send us a note here, https://t.co/WFtPA6RjWt and our team will be in touch.' has a compound of 0.4574!\n",
            "'@115875 We’re here to help, Travis! Send us a note via https://t.co/dwDjAokZht and we'll be in touch.' has a compound of 0.4574!\n",
            "'@Uber_Support @115879 wouldn't do this to me 😔' has a compound of 0.0772!\n"
          ]
        }
      ]
    },
    {
      "cell_type": "markdown",
      "metadata": {
        "id": "BHtbwIjhDJLG"
      },
      "source": [
        "From my (admittedly subjective) observation, it seems that most of these 'positive' tweets are replies to queries on behalf of a company (perhaps VADER picked up optimistic tones from these via words used politely in this context like 'like', 'help' and 'happy' that tend to be interpreted positively, and this increased their compound scores?). There also tend to be a lot of inclusive pronouns/words like 'we', 'together' and 'our' that may add to this nuance that is interpreted positively by VADER. I also note that positive emojis like \":-)\", \"🤗\" and \"😊\" (to name a few) come up in these tweets, which likely drives the compound score up as we are told that VADER takes them into account. Otherwise, there are some clear positive tweets here too - such as happy customer reviews. For example, \"@AppleSupport Super help - problem solved 😀 once again in love with Apple\" and \"@AppleSupport Okey. Thank you! 🤗\" seem quite positive to me. \n",
        "\n",
        "There also are a few exceptions (where would the fun be if there weren't?). For example, \"Okay @76099 I used my fucking phone for 2 minutes and it drains it down 8 fucking percent\" does not seem positive at all to me (in fact, it clearly seems negative). Perhaps its compound score is relatively high due to the sexual connotations of the \"f word\" (which can be interpreted in a positive or happy way). Also, \"@Uber_Support @115879 wouldn't do this to me 😔\" seems like a disappointed tweet, so if this is the case it shouldn't be considered positive. Perhaps in this case, the algorithm is interpreting the sentence as the tweeter speaking positively about @115879, rather than negatively about @Uber_Support. However, from inspection, these seem to be some relatively rare extreme exceptions, but overall most of the positive classifications seem reasonable to me (although I may not fully agree that each of them should be considered positive overall).\n",
        "\n",
        "While I wouldn't consider seeing if we can adjust the results due to limited time, I think it is worth at least considering that there is an argument that a lot of these more 'nuanced' (that is, using less strong positive words) and less emoji-filled tweets are better placed to be classified as 'neutral' rather than 'positive'. Outside of retraining or changing our model, perhaps we could consider changing the thresholds to deal with these questionable results to fine-tune the model to align with our expectations.\n",
        "\n",
        "Otherwise, let's consider the other tasks."
      ]
    },
    {
      "cell_type": "markdown",
      "metadata": {
        "id": "_hwizo3uKZsh"
      },
      "source": [
        "To see how many times a specific inputted (lower case - assuming this is the format) word or handle has been seen in all tweets, we can create a specific function for this purpose. The way I would do this is to make a function that inspects each tweet (via the tweets list), and find if that word/handle appears in each tweet (once is sufficient - I think worrying about repetition can bias the integrity of the function's results), and accumulate to a counter it returns at the end if so."
      ]
    },
    {
      "cell_type": "code",
      "metadata": {
        "id": "UvexnXF9LMQs"
      },
      "source": [
        "def word_commonality(word):\n",
        "  word = word.lower()\n",
        "  count = 0\n",
        "  for tweet in tweet_list:\n",
        "    split_tweet = tweet.split()\n",
        "    for item in split_tweet:\n",
        "      item = item.lower()\n",
        "      if item == word:\n",
        "        count += 1\n",
        "        break\n",
        "  return count"
      ],
      "execution_count": null,
      "outputs": []
    },
    {
      "cell_type": "markdown",
      "metadata": {
        "id": "m9nP7J4xLtls"
      },
      "source": [
        "Let's run some examples (on our initial data). I will try \"thanks\" and \"@applesupport\"."
      ]
    },
    {
      "cell_type": "code",
      "metadata": {
        "colab": {
          "base_uri": "https://localhost:8080/"
        },
        "id": "tjf-UFLaHGq7",
        "outputId": "2ed1fc4b-f3b1-4a4d-8991-1157b2997bb7"
      },
      "source": [
        "print(\"The word commonality of \\'thanks\\' is {}\".format(word_commonality(\"thanks\")))\n",
        "print(\"The handle commonality of \\'@AppleSupport\\' is {}\".format(word_commonality(\"@AppleSupport\")))"
      ],
      "execution_count": null,
      "outputs": [
        {
          "output_type": "stream",
          "name": "stdout",
          "text": [
            "The word commonality of 'thanks' is 14\n",
            "The handle commonality of '@AppleSupport' is 42\n"
          ]
        }
      ]
    },
    {
      "cell_type": "markdown",
      "metadata": {
        "id": "zV-CaSg6KaOs"
      },
      "source": [
        "\"Thanks\" comes up in 14 out of 199 tweets, and \"@AppleSupport\" in 42 of 199 tweets. This seems reasonable to me."
      ]
    },
    {
      "cell_type": "markdown",
      "metadata": {
        "id": "2WIKoBGIKaLH"
      },
      "source": [
        "We want the average sentiment of tweets with a specific word or handle. To do so, we could follow a largely similar method to before (checking each tweet where the handle/word appears). We then would get the sentiment of each relevant tweet (using compound), get the average of this, then scale this between 0 and 100% (0.0 would be a good place for 50%, but 0% should be marked by the lowest possible compound score, and vice versa for 100%). We are told that the compound score is normalised to be between -1 and 1 so I will use these as the relevant benchmarks. I will also use 'thanks' and '@AppleSupport' as examples here too."
      ]
    },
    {
      "cell_type": "code",
      "metadata": {
        "id": "XMom-Vr0PyWH"
      },
      "source": [
        "def average_sentiment(word):\n",
        "  word = word.lower()\n",
        "  count = 0\n",
        "  total_compound = 0\n",
        "  for tweet in tweet_list:\n",
        "    split_tweet = tweet.split()\n",
        "    for item in split_tweet:\n",
        "      item = item.lower()\n",
        "      if item == word:\n",
        "        count += 1\n",
        "        vs = analyzer.polarity_scores(tweet)\n",
        "        compound = vs[\"compound\"]\n",
        "        total_compound += compound\n",
        "        break\n",
        "  print(count)\n",
        "  average_compound = total_compound / count\n",
        "  fraction = (average_compound + 1) / 2\n",
        "  return fraction"
      ],
      "execution_count": null,
      "outputs": []
    },
    {
      "cell_type": "code",
      "metadata": {
        "colab": {
          "base_uri": "https://localhost:8080/"
        },
        "id": "Po3nnhARQadL",
        "outputId": "3695f4e9-369c-4d94-9fd8-2bb186cbcc8e"
      },
      "source": [
        "print(\"The average sentiment of \\'thanks\\' is {}%\".format(round(100 * average_sentiment(\"thanks\"), 1)))\n",
        "print(\"The average sentiment of \\'@AppleSupport\\' is {}%\".format(round(100 * average_sentiment(\"@AppleSupport\"), 1)))"
      ],
      "execution_count": null,
      "outputs": [
        {
          "output_type": "stream",
          "name": "stdout",
          "text": [
            "The average sentiment of 'thanks' is 82.3%\n",
            "The average sentiment of '@AppleSupport' is 53.4%\n"
          ]
        }
      ]
    },
    {
      "cell_type": "markdown",
      "metadata": {
        "id": "oTMXEuvlR0M1"
      },
      "source": [
        "The average sentiment of 'thanks' is 82.3% which is quite positive, which intuitively makes sense. For '@AppleSupport' it was 53.4% which is quite neutral. As we saw it come up in positive tweets, it must have come up in (probably some mix of) negative or neutral tweets too for its overall sentiment to be neutral! This makes sense as these tweets are probably complaints which are more negative.\n"
      ]
    },
    {
      "cell_type": "markdown",
      "metadata": {
        "id": "aRYjoYJcSWzf"
      },
      "source": [
        "To retrieve the most positive, negative, or divisive (evenly split) words, we need to inspect each word coming from any tweet individually, and carry out an overall sentiment analysis on each word (the average sentiment function from above seems suitable for this task).  \n",
        "\n",
        "To make this interesting, I could split this up into words and handles. That is, figure out the most positive, negative and divisive word, and likewise for handles!\n"
      ]
    },
    {
      "cell_type": "code",
      "metadata": {
        "colab": {
          "base_uri": "https://localhost:8080/",
          "height": 714
        },
        "id": "RiMW2MQmUYze",
        "outputId": "29839821-62b0-4d24-fe9f-2ce9ed409184"
      },
      "source": [
        "import string\n",
        "\n",
        "\n",
        "def sentiment_ranker():\n",
        "  words_dict = {}\n",
        "  all_words = []\n",
        "  for x in tweet_list:\n",
        "    if all_words == []:\n",
        "      all_words.append(x)\n",
        "    else:\n",
        "      all_words[0] += \" \" + x\n",
        "  all_words[0] = list(set(all_words[0].split()))\n",
        "  i = 0\n",
        "  while i < len(all_words[0]):\n",
        "    item = all_words[0][i]\n",
        "    if item[:5] == \"https\":\n",
        "      all_words[0].remove(item)\n",
        "    elif item[0] == \"@\":\n",
        "      all_words[0].remove(item)\n",
        "    else:\n",
        "      all_words[0][i] = all_words[0][i].translate(str.maketrans('', '', string.punctuation))\n",
        "      i += 1\n",
        "  for word in all_words[0]:\n",
        "    print(word)\n",
        "    words_dict[word] = average_sentiment(word)\n",
        "  print(words_dict)\n",
        "\n",
        "sentiment_ranker()\n",
        "\n",
        "\n"
      ],
      "execution_count": null,
      "outputs": [
        {
          "output_type": "stream",
          "name": "stdout",
          "text": [
            "keen\n",
            "1\n",
            "faves\n",
            "1\n",
            "svs\n",
            "1\n",
            "door\n",
            "1\n",
            "metre\n",
            "1\n",
            "today\n",
            "1\n",
            "suggest\n",
            "1\n",
            "I’ve\n",
            "2\n",
            "witch\n",
            "1\n",
            "theres\n",
            "0\n"
          ]
        },
        {
          "output_type": "error",
          "ename": "ZeroDivisionError",
          "evalue": "ignored",
          "traceback": [
            "\u001b[0;31m---------------------------------------------------------------------------\u001b[0m",
            "\u001b[0;31mZeroDivisionError\u001b[0m                         Traceback (most recent call last)",
            "\u001b[0;32m<ipython-input-84-6142864ee456>\u001b[0m in \u001b[0;36m<module>\u001b[0;34m()\u001b[0m\n\u001b[1;32m     26\u001b[0m   \u001b[0mprint\u001b[0m\u001b[0;34m(\u001b[0m\u001b[0mwords_dict\u001b[0m\u001b[0;34m)\u001b[0m\u001b[0;34m\u001b[0m\u001b[0;34m\u001b[0m\u001b[0m\n\u001b[1;32m     27\u001b[0m \u001b[0;34m\u001b[0m\u001b[0m\n\u001b[0;32m---> 28\u001b[0;31m \u001b[0msentiment_ranker\u001b[0m\u001b[0;34m(\u001b[0m\u001b[0;34m)\u001b[0m\u001b[0;34m\u001b[0m\u001b[0;34m\u001b[0m\u001b[0m\n\u001b[0m\u001b[1;32m     29\u001b[0m \u001b[0;34m\u001b[0m\u001b[0m\n\u001b[1;32m     30\u001b[0m \u001b[0;34m\u001b[0m\u001b[0m\n",
            "\u001b[0;32m<ipython-input-84-6142864ee456>\u001b[0m in \u001b[0;36msentiment_ranker\u001b[0;34m()\u001b[0m\n\u001b[1;32m     23\u001b[0m   \u001b[0;32mfor\u001b[0m \u001b[0mword\u001b[0m \u001b[0;32min\u001b[0m \u001b[0mall_words\u001b[0m\u001b[0;34m[\u001b[0m\u001b[0;36m0\u001b[0m\u001b[0;34m]\u001b[0m\u001b[0;34m:\u001b[0m\u001b[0;34m\u001b[0m\u001b[0;34m\u001b[0m\u001b[0m\n\u001b[1;32m     24\u001b[0m     \u001b[0mprint\u001b[0m\u001b[0;34m(\u001b[0m\u001b[0mword\u001b[0m\u001b[0;34m)\u001b[0m\u001b[0;34m\u001b[0m\u001b[0;34m\u001b[0m\u001b[0m\n\u001b[0;32m---> 25\u001b[0;31m     \u001b[0mwords_dict\u001b[0m\u001b[0;34m[\u001b[0m\u001b[0mword\u001b[0m\u001b[0;34m]\u001b[0m \u001b[0;34m=\u001b[0m \u001b[0maverage_sentiment\u001b[0m\u001b[0;34m(\u001b[0m\u001b[0mword\u001b[0m\u001b[0;34m)\u001b[0m\u001b[0;34m\u001b[0m\u001b[0;34m\u001b[0m\u001b[0m\n\u001b[0m\u001b[1;32m     26\u001b[0m   \u001b[0mprint\u001b[0m\u001b[0;34m(\u001b[0m\u001b[0mwords_dict\u001b[0m\u001b[0;34m)\u001b[0m\u001b[0;34m\u001b[0m\u001b[0;34m\u001b[0m\u001b[0m\n\u001b[1;32m     27\u001b[0m \u001b[0;34m\u001b[0m\u001b[0m\n",
            "\u001b[0;32m<ipython-input-83-7baf7b122ee0>\u001b[0m in \u001b[0;36maverage_sentiment\u001b[0;34m(word)\u001b[0m\n\u001b[1;32m     14\u001b[0m         \u001b[0;32mbreak\u001b[0m\u001b[0;34m\u001b[0m\u001b[0;34m\u001b[0m\u001b[0m\n\u001b[1;32m     15\u001b[0m   \u001b[0mprint\u001b[0m\u001b[0;34m(\u001b[0m\u001b[0mcount\u001b[0m\u001b[0;34m)\u001b[0m\u001b[0;34m\u001b[0m\u001b[0;34m\u001b[0m\u001b[0m\n\u001b[0;32m---> 16\u001b[0;31m   \u001b[0maverage_compound\u001b[0m \u001b[0;34m=\u001b[0m \u001b[0mtotal_compound\u001b[0m \u001b[0;34m/\u001b[0m \u001b[0mcount\u001b[0m\u001b[0;34m\u001b[0m\u001b[0;34m\u001b[0m\u001b[0m\n\u001b[0m\u001b[1;32m     17\u001b[0m   \u001b[0mfraction\u001b[0m \u001b[0;34m=\u001b[0m \u001b[0;34m(\u001b[0m\u001b[0maverage_compound\u001b[0m \u001b[0;34m+\u001b[0m \u001b[0;36m1\u001b[0m\u001b[0;34m)\u001b[0m \u001b[0;34m/\u001b[0m \u001b[0;36m2\u001b[0m\u001b[0;34m\u001b[0m\u001b[0;34m\u001b[0m\u001b[0m\n\u001b[1;32m     18\u001b[0m   \u001b[0;32mreturn\u001b[0m \u001b[0mfraction\u001b[0m\u001b[0;34m\u001b[0m\u001b[0;34m\u001b[0m\u001b[0m\n",
            "\u001b[0;31mZeroDivisionError\u001b[0m: division by zero"
          ]
        }
      ]
    }
  ]
}